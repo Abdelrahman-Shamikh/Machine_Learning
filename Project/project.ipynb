{
  "cells": [
    {
      "cell_type": "code",
      "execution_count": 1,
      "metadata": {
        "id": "P0g76f5fmu9A"
      },
      "outputs": [],
      "source": [
        "import numpy as np\n",
        "import pandas as pd\n",
        "import seaborn as sns\n",
        "import matplotlib.pyplot as plt\n",
        "from sklearn import linear_model\n",
        "from sklearn import metrics\n",
        "from sklearn.preprocessing import StandardScaler\n",
        "from sklearn.neighbors import KNeighborsClassifier\n",
        "from sklearn.preprocessing import LabelEncoder\n",
        "from sklearn.ensemble import RandomForestClassifier\n",
        "from sklearn.model_selection import train_test_split\n",
        "from sklearn.feature_selection import SelectKBest\n",
        "from sklearn.feature_selection import chi2\n",
        "from sklearn.svm import SVC\n",
        "from sklearn.metrics import accuracy_score\n",
        "from sklearn.feature_selection import SelectKBest, mutual_info_classif\n",
        "from sklearn.preprocessing import OneHotEncoder\n",
        "from sklearn.feature_selection import SelectKBest, f_classif\n",
        "from scipy.stats import kendalltau\n",
        "\n",
        "from sklearn.feature_selection import SelectKBest, chi2\n",
        "import pandas as pd\n",
        "from scipy.stats import kendalltau\n",
        "from sklearn.linear_model import LogisticRegression\n",
        "import pickle"
      ]
    },
    {
      "cell_type": "code",
      "execution_count": 2,
      "metadata": {
        "colab": {
          "base_uri": "https://localhost:8080/",
          "height": 1000
        },
        "id": "urRQKnhdh_2k",
        "outputId": "8e33a699-2c68-4c18-8d2d-6efd3c0f7d79"
      },
      "outputs": [
        {
          "data": {
            "text/html": [
              "<div>\n",
              "<style scoped>\n",
              "    .dataframe tbody tr th:only-of-type {\n",
              "        vertical-align: middle;\n",
              "    }\n",
              "\n",
              "    .dataframe tbody tr th {\n",
              "        vertical-align: top;\n",
              "    }\n",
              "\n",
              "    .dataframe thead th {\n",
              "        text-align: right;\n",
              "    }\n",
              "</style>\n",
              "<table border=\"1\" class=\"dataframe\">\n",
              "  <thead>\n",
              "    <tr style=\"text-align: right;\">\n",
              "      <th></th>\n",
              "      <th>id</th>\n",
              "      <th>category</th>\n",
              "      <th>title</th>\n",
              "      <th>body</th>\n",
              "      <th>amenities</th>\n",
              "      <th>bathrooms</th>\n",
              "      <th>bedrooms</th>\n",
              "      <th>currency</th>\n",
              "      <th>fee</th>\n",
              "      <th>has_photo</th>\n",
              "      <th>...</th>\n",
              "      <th>RentCategory</th>\n",
              "      <th>price_type</th>\n",
              "      <th>square_feet</th>\n",
              "      <th>address</th>\n",
              "      <th>cityname</th>\n",
              "      <th>state</th>\n",
              "      <th>latitude</th>\n",
              "      <th>longitude</th>\n",
              "      <th>source</th>\n",
              "      <th>time</th>\n",
              "    </tr>\n",
              "  </thead>\n",
              "  <tbody>\n",
              "    <tr>\n",
              "      <th>0</th>\n",
              "      <td>5508832632</td>\n",
              "      <td>housing/rent/apartment</td>\n",
              "      <td>Two BR - $1,194/mo - Apartment - come and see ...</td>\n",
              "      <td>Come experience. in Cary, NC offering recently...</td>\n",
              "      <td>Clubhouse,Fireplace,Gym,Patio/Deck,Playground,...</td>\n",
              "      <td>2.5</td>\n",
              "      <td>2.0</td>\n",
              "      <td>USD</td>\n",
              "      <td>No</td>\n",
              "      <td>Thumbnail</td>\n",
              "      <td>...</td>\n",
              "      <td>Medium-Priced Rent</td>\n",
              "      <td>Monthly</td>\n",
              "      <td>800</td>\n",
              "      <td>NaN</td>\n",
              "      <td>Cary</td>\n",
              "      <td>NC</td>\n",
              "      <td>35.7585</td>\n",
              "      <td>-78.7783</td>\n",
              "      <td>RentDigs.com</td>\n",
              "      <td>1568755960</td>\n",
              "    </tr>\n",
              "    <tr>\n",
              "      <th>1</th>\n",
              "      <td>5664576849</td>\n",
              "      <td>housing/rent/apartment</td>\n",
              "      <td>One BR 640 West Wilson Street</td>\n",
              "      <td>This unit is located at 640 West Wilson Street...</td>\n",
              "      <td>Cable or Satellite,Dishwasher,Elevator,Garbage...</td>\n",
              "      <td>1.0</td>\n",
              "      <td>1.0</td>\n",
              "      <td>USD</td>\n",
              "      <td>No</td>\n",
              "      <td>Thumbnail</td>\n",
              "      <td>...</td>\n",
              "      <td>Medium-Priced Rent</td>\n",
              "      <td>Monthly</td>\n",
              "      <td>795</td>\n",
              "      <td>640 West Wilson St</td>\n",
              "      <td>Madison</td>\n",
              "      <td>WI</td>\n",
              "      <td>43.0724</td>\n",
              "      <td>-89.4003</td>\n",
              "      <td>RentLingo</td>\n",
              "      <td>1577015508</td>\n",
              "    </tr>\n",
              "    <tr>\n",
              "      <th>2</th>\n",
              "      <td>5668619365</td>\n",
              "      <td>housing/rent/apartment</td>\n",
              "      <td>One BR 2777 Sw Archer Rd</td>\n",
              "      <td>This unit is located at 2777 Sw Archer Rd, Gai...</td>\n",
              "      <td>Basketball,Cable or Satellite,Dishwasher,Inter...</td>\n",
              "      <td>1.0</td>\n",
              "      <td>1.0</td>\n",
              "      <td>USD</td>\n",
              "      <td>No</td>\n",
              "      <td>Thumbnail</td>\n",
              "      <td>...</td>\n",
              "      <td>Medium-Priced Rent</td>\n",
              "      <td>Monthly</td>\n",
              "      <td>560</td>\n",
              "      <td>2777 SW Archer Road</td>\n",
              "      <td>Gainesville</td>\n",
              "      <td>FL</td>\n",
              "      <td>29.6533</td>\n",
              "      <td>-82.3656</td>\n",
              "      <td>RentLingo</td>\n",
              "      <td>1577358921</td>\n",
              "    </tr>\n",
              "    <tr>\n",
              "      <th>3</th>\n",
              "      <td>5668632604</td>\n",
              "      <td>housing/rent/apartment</td>\n",
              "      <td>One BR 534-542 Park Avenue</td>\n",
              "      <td>This unit is located at 534-542 Park Avenue, O...</td>\n",
              "      <td>NaN</td>\n",
              "      <td>1.0</td>\n",
              "      <td>1.0</td>\n",
              "      <td>USD</td>\n",
              "      <td>No</td>\n",
              "      <td>Thumbnail</td>\n",
              "      <td>...</td>\n",
              "      <td>Low Rent</td>\n",
              "      <td>Monthly</td>\n",
              "      <td>600</td>\n",
              "      <td>534-542 Park Ave</td>\n",
              "      <td>Omaha</td>\n",
              "      <td>NE</td>\n",
              "      <td>41.2562</td>\n",
              "      <td>-96.0404</td>\n",
              "      <td>RentLingo</td>\n",
              "      <td>1577359849</td>\n",
              "    </tr>\n",
              "    <tr>\n",
              "      <th>4</th>\n",
              "      <td>5668637441</td>\n",
              "      <td>housing/rent/apartment</td>\n",
              "      <td>Three BR 2216 S Palm Grove Ave</td>\n",
              "      <td>This unit is located at 2216 S Palm Grove Ave,...</td>\n",
              "      <td>NaN</td>\n",
              "      <td>3.0</td>\n",
              "      <td>3.0</td>\n",
              "      <td>USD</td>\n",
              "      <td>No</td>\n",
              "      <td>Thumbnail</td>\n",
              "      <td>...</td>\n",
              "      <td>High Rent</td>\n",
              "      <td>Monthly</td>\n",
              "      <td>1600</td>\n",
              "      <td>2216 S Palm Grove Avenue</td>\n",
              "      <td>Los Angeles</td>\n",
              "      <td>CA</td>\n",
              "      <td>34.0372</td>\n",
              "      <td>-118.2972</td>\n",
              "      <td>RentLingo</td>\n",
              "      <td>1577360159</td>\n",
              "    </tr>\n",
              "    <tr>\n",
              "      <th>5</th>\n",
              "      <td>5664597879</td>\n",
              "      <td>housing/rent/apartment</td>\n",
              "      <td>Three BR 680 Bromley Dr.</td>\n",
              "      <td>This unit is located at 680 Bromley Dr., Baton...</td>\n",
              "      <td>NaN</td>\n",
              "      <td>2.0</td>\n",
              "      <td>3.0</td>\n",
              "      <td>USD</td>\n",
              "      <td>No</td>\n",
              "      <td>Thumbnail</td>\n",
              "      <td>...</td>\n",
              "      <td>Medium-Priced Rent</td>\n",
              "      <td>Monthly</td>\n",
              "      <td>2300</td>\n",
              "      <td>680 Bromley Drive</td>\n",
              "      <td>Baton Rouge</td>\n",
              "      <td>LA</td>\n",
              "      <td>30.4415</td>\n",
              "      <td>-91.1012</td>\n",
              "      <td>RentLingo</td>\n",
              "      <td>1577017123</td>\n",
              "    </tr>\n",
              "    <tr>\n",
              "      <th>6</th>\n",
              "      <td>5509268702</td>\n",
              "      <td>housing/rent/apartment</td>\n",
              "      <td>Studio in Lynnwood</td>\n",
              "      <td>We believe that elevating where you live is al...</td>\n",
              "      <td>Gym,Pool</td>\n",
              "      <td>1.0</td>\n",
              "      <td>2.0</td>\n",
              "      <td>USD</td>\n",
              "      <td>No</td>\n",
              "      <td>Yes</td>\n",
              "      <td>...</td>\n",
              "      <td>High Rent</td>\n",
              "      <td>Monthly</td>\n",
              "      <td>1079</td>\n",
              "      <td>NaN</td>\n",
              "      <td>Lynnwood</td>\n",
              "      <td>WA</td>\n",
              "      <td>47.8616</td>\n",
              "      <td>-122.2729</td>\n",
              "      <td>RentDigs.com</td>\n",
              "      <td>1568782110</td>\n",
              "    </tr>\n",
              "    <tr>\n",
              "      <th>7</th>\n",
              "      <td>5664594606</td>\n",
              "      <td>housing/rent/apartment</td>\n",
              "      <td>Three BR 1712 Donald Dr</td>\n",
              "      <td>This unit is located at 1712 Donald Dr, Shawne...</td>\n",
              "      <td>NaN</td>\n",
              "      <td>2.0</td>\n",
              "      <td>3.0</td>\n",
              "      <td>USD</td>\n",
              "      <td>No</td>\n",
              "      <td>Thumbnail</td>\n",
              "      <td>...</td>\n",
              "      <td>Medium-Priced Rent</td>\n",
              "      <td>Monthly</td>\n",
              "      <td>1177</td>\n",
              "      <td>1712 Donald Drive</td>\n",
              "      <td>Shawnee</td>\n",
              "      <td>OK</td>\n",
              "      <td>35.3537</td>\n",
              "      <td>-96.8923</td>\n",
              "      <td>RentLingo</td>\n",
              "      <td>1577016836</td>\n",
              "    </tr>\n",
              "    <tr>\n",
              "      <th>8</th>\n",
              "      <td>5668628991</td>\n",
              "      <td>housing/rent/apartment</td>\n",
              "      <td>One BR 2975 Blackburn St Apartment 678</td>\n",
              "      <td>This unit is located at 2975 Blackburn St Apar...</td>\n",
              "      <td>NaN</td>\n",
              "      <td>1.0</td>\n",
              "      <td>1.0</td>\n",
              "      <td>USD</td>\n",
              "      <td>No</td>\n",
              "      <td>Thumbnail</td>\n",
              "      <td>...</td>\n",
              "      <td>Medium-Priced Rent</td>\n",
              "      <td>Monthly</td>\n",
              "      <td>678</td>\n",
              "      <td>2975 Blackburn St Apartment 678</td>\n",
              "      <td>Dallas</td>\n",
              "      <td>TX</td>\n",
              "      <td>32.8212</td>\n",
              "      <td>-96.7853</td>\n",
              "      <td>RentLingo</td>\n",
              "      <td>1577359585</td>\n",
              "    </tr>\n",
              "    <tr>\n",
              "      <th>9</th>\n",
              "      <td>5668609854</td>\n",
              "      <td>housing/rent/apartment</td>\n",
              "      <td>Two BR 290 9th Ave Sw</td>\n",
              "      <td>This unit is located at 290 ninth Ave Sw, Fore...</td>\n",
              "      <td>Cable or Satellite,Dishwasher,Elevator,Interne...</td>\n",
              "      <td>1.0</td>\n",
              "      <td>2.0</td>\n",
              "      <td>USD</td>\n",
              "      <td>No</td>\n",
              "      <td>Thumbnail</td>\n",
              "      <td>...</td>\n",
              "      <td>Medium-Priced Rent</td>\n",
              "      <td>Monthly</td>\n",
              "      <td>995</td>\n",
              "      <td>290 9th Avenue SW</td>\n",
              "      <td>Forest Lake</td>\n",
              "      <td>MN</td>\n",
              "      <td>45.2764</td>\n",
              "      <td>-92.9901</td>\n",
              "      <td>RentLingo</td>\n",
              "      <td>1577358292</td>\n",
              "    </tr>\n",
              "  </tbody>\n",
              "</table>\n",
              "<p>10 rows × 21 columns</p>\n",
              "</div>"
            ],
            "text/plain": [
              "           id                category  \\\n",
              "0  5508832632  housing/rent/apartment   \n",
              "1  5664576849  housing/rent/apartment   \n",
              "2  5668619365  housing/rent/apartment   \n",
              "3  5668632604  housing/rent/apartment   \n",
              "4  5668637441  housing/rent/apartment   \n",
              "5  5664597879  housing/rent/apartment   \n",
              "6  5509268702  housing/rent/apartment   \n",
              "7  5664594606  housing/rent/apartment   \n",
              "8  5668628991  housing/rent/apartment   \n",
              "9  5668609854  housing/rent/apartment   \n",
              "\n",
              "                                               title  \\\n",
              "0  Two BR - $1,194/mo - Apartment - come and see ...   \n",
              "1                      One BR 640 West Wilson Street   \n",
              "2                           One BR 2777 Sw Archer Rd   \n",
              "3                         One BR 534-542 Park Avenue   \n",
              "4                     Three BR 2216 S Palm Grove Ave   \n",
              "5                           Three BR 680 Bromley Dr.   \n",
              "6                                 Studio in Lynnwood   \n",
              "7                            Three BR 1712 Donald Dr   \n",
              "8             One BR 2975 Blackburn St Apartment 678   \n",
              "9                              Two BR 290 9th Ave Sw   \n",
              "\n",
              "                                                body  \\\n",
              "0  Come experience. in Cary, NC offering recently...   \n",
              "1  This unit is located at 640 West Wilson Street...   \n",
              "2  This unit is located at 2777 Sw Archer Rd, Gai...   \n",
              "3  This unit is located at 534-542 Park Avenue, O...   \n",
              "4  This unit is located at 2216 S Palm Grove Ave,...   \n",
              "5  This unit is located at 680 Bromley Dr., Baton...   \n",
              "6  We believe that elevating where you live is al...   \n",
              "7  This unit is located at 1712 Donald Dr, Shawne...   \n",
              "8  This unit is located at 2975 Blackburn St Apar...   \n",
              "9  This unit is located at 290 ninth Ave Sw, Fore...   \n",
              "\n",
              "                                           amenities  bathrooms  bedrooms  \\\n",
              "0  Clubhouse,Fireplace,Gym,Patio/Deck,Playground,...        2.5       2.0   \n",
              "1  Cable or Satellite,Dishwasher,Elevator,Garbage...        1.0       1.0   \n",
              "2  Basketball,Cable or Satellite,Dishwasher,Inter...        1.0       1.0   \n",
              "3                                                NaN        1.0       1.0   \n",
              "4                                                NaN        3.0       3.0   \n",
              "5                                                NaN        2.0       3.0   \n",
              "6                                           Gym,Pool        1.0       2.0   \n",
              "7                                                NaN        2.0       3.0   \n",
              "8                                                NaN        1.0       1.0   \n",
              "9  Cable or Satellite,Dishwasher,Elevator,Interne...        1.0       2.0   \n",
              "\n",
              "  currency fee  has_photo  ...        RentCategory price_type square_feet  \\\n",
              "0      USD  No  Thumbnail  ...  Medium-Priced Rent    Monthly         800   \n",
              "1      USD  No  Thumbnail  ...  Medium-Priced Rent    Monthly         795   \n",
              "2      USD  No  Thumbnail  ...  Medium-Priced Rent    Monthly         560   \n",
              "3      USD  No  Thumbnail  ...            Low Rent    Monthly         600   \n",
              "4      USD  No  Thumbnail  ...           High Rent    Monthly        1600   \n",
              "5      USD  No  Thumbnail  ...  Medium-Priced Rent    Monthly        2300   \n",
              "6      USD  No        Yes  ...           High Rent    Monthly        1079   \n",
              "7      USD  No  Thumbnail  ...  Medium-Priced Rent    Monthly        1177   \n",
              "8      USD  No  Thumbnail  ...  Medium-Priced Rent    Monthly         678   \n",
              "9      USD  No  Thumbnail  ...  Medium-Priced Rent    Monthly         995   \n",
              "\n",
              "                           address     cityname state latitude  longitude  \\\n",
              "0                              NaN         Cary    NC  35.7585   -78.7783   \n",
              "1               640 West Wilson St      Madison    WI  43.0724   -89.4003   \n",
              "2              2777 SW Archer Road  Gainesville    FL  29.6533   -82.3656   \n",
              "3                 534-542 Park Ave        Omaha    NE  41.2562   -96.0404   \n",
              "4         2216 S Palm Grove Avenue  Los Angeles    CA  34.0372  -118.2972   \n",
              "5                680 Bromley Drive  Baton Rouge    LA  30.4415   -91.1012   \n",
              "6                              NaN     Lynnwood    WA  47.8616  -122.2729   \n",
              "7                1712 Donald Drive      Shawnee    OK  35.3537   -96.8923   \n",
              "8  2975 Blackburn St Apartment 678       Dallas    TX  32.8212   -96.7853   \n",
              "9                290 9th Avenue SW  Forest Lake    MN  45.2764   -92.9901   \n",
              "\n",
              "         source        time  \n",
              "0  RentDigs.com  1568755960  \n",
              "1     RentLingo  1577015508  \n",
              "2     RentLingo  1577358921  \n",
              "3     RentLingo  1577359849  \n",
              "4     RentLingo  1577360159  \n",
              "5     RentLingo  1577017123  \n",
              "6  RentDigs.com  1568782110  \n",
              "7     RentLingo  1577016836  \n",
              "8     RentLingo  1577359585  \n",
              "9     RentLingo  1577358292  \n",
              "\n",
              "[10 rows x 21 columns]"
            ]
          },
          "execution_count": 2,
          "metadata": {},
          "output_type": "execute_result"
        }
      ],
      "source": [
        "data = pd.read_csv('ApartmentRentPrediction_Milestone2.csv')\n",
        "data.head(10)"
      ]
    },
    {
      "cell_type": "code",
      "execution_count": 3,
      "metadata": {
        "id": "uORr-sIZnhKk"
      },
      "outputs": [],
      "source": [
        "\"\"\"put the prediction column at the end\"\"\"\n",
        "\n",
        "predicted_col = data['RentCategory']\n",
        "data.drop(columns=['RentCategory'], inplace=True)\n",
        "data['RentCategory'] = predicted_col"
      ]
    },
    {
      "cell_type": "code",
      "execution_count": 4,
      "metadata": {
        "id": "fL_qc-hpzIpm"
      },
      "outputs": [],
      "source": [
        "# Assuming you have a DataFrame named 'df' with your data\n",
        "\n",
        "# Splitting the DataFrame into features (X) and target variable (y)\n",
        "X = data.drop(columns=['RentCategory'])\n",
        "Y = data['RentCategory']\n",
        "\n",
        "# Splitting the data into training and test sets (80% training, 20% test)\n",
        "X_train, X_test, Y_train, Y_test = train_test_split(X, Y, test_size=0.2, random_state=42)\n",
        "\n",
        "# Concatenating X_train and y_train\n",
        "train_data = pd.concat([X_train, Y_train], axis=1)\n",
        "\n",
        "# Concatenating X_test and y_test\n",
        "test_data = pd.concat([X_test, Y_test], axis=1)"
      ]
    },
    {
      "cell_type": "code",
      "execution_count": 5,
      "metadata": {
        "colab": {
          "base_uri": "https://localhost:8080/"
        },
        "id": "EPFNIoXvzaX0",
        "outputId": "870352e2-8796-4b03-8caa-542f865b6b32"
      },
      "outputs": [
        {
          "name": "stdout",
          "output_type": "stream",
          "text": [
            "id\n",
            "5668624413    1\n",
            "5509041081    1\n",
            "5668630073    1\n",
            "5508831407    1\n",
            "5650235161    1\n",
            "             ..\n",
            "5668626956    1\n",
            "5509062971    1\n",
            "5668617014    1\n",
            "5509215521    1\n",
            "5668624902    1\n",
            "Name: count, Length: 7200, dtype: int64 \n",
            "\n",
            "category\n",
            "housing/rent/apartment     7198\n",
            "housing/rent/short_term       1\n",
            "housing/rent/home             1\n",
            "Name: count, dtype: int64 \n",
            "\n",
            "title\n",
            "Apartment in great location                                                   27\n",
            "Super Cute! Apartment for Rent!                                               24\n",
            "Apartment in prime location                                                   23\n",
            "This Apartment is a must see!                                                 21\n",
            "Apartment in quiet area, spacious with big kitchen                            21\n",
            "                                                                              ..\n",
            "$1,095 / Two BR - Great Deal. MUST SEE. Pet OK!                                1\n",
            "Studio apartment 999 Scenic Hill Dr                                            1\n",
            "One BR 4018 Florida St. #5                                                     1\n",
            "Apartment only for $1,695/mo. You Can Stop Looking Now. Parking Available!     1\n",
            "One BR 400 Argyle Road                                                         1\n",
            "Name: count, Length: 6791, dtype: int64 \n",
            "\n",
            "body\n",
            "When searching for a pet-friendly One-, Two- and 3 Beds apartment homes in Randallstown, look no further than Northwest Crossing. Northwest Crossing's convenient suburban. and Liberty provides you with immediate access to shopping, entertainment, transportation and is directly across from Northwest Hospital. Commuters enjoy easy access to Baltimore's Inner, Baltimore Washington International Airport BWI, Owings Mills, Pikesville, and Catonsville. The Crossing enjoy the comforts of an apartment they are truly proud to with wall-to-wall carpeting, fully-equipped kitchens with dishwashers, over-sized closets and expansive balconies. Outside your home, Northwest Crossing boasts a fitness facilities, basketball and professionally landscaped grounds with picnic areas. Take pleasure in knowing that our professional management team is here to assist you with any need great or small. We are excited to meet you and welcome you home!                                                                               4\n",
            "If you re looking to lease your new home, you want to rest assured that all the essentials are taken care of. That s where we come in. The is a professionally managed apartment community in Belleville, NJ, where you will have everything you need to live your life right. Whether you prefer nights in or love to be out on the town, The is your gateway to the good life. We are only 25 minutes from Midtown tan, nestled in a green, park-like neighborhood, so our location is 1 of our best amenities. Ditch the late-night or weekend laundromat runs, we have laundry facilities onsite for your convenience. Enjoy the essential appliances, and take advantage of our available cable and satellite. Everything you need to do apartment living right is Woodlands. today ! Income Requirement: Must have 3. 0x the rent in total household income before taxes, include income from all adults. Utilities: Renter responsible for all utilities.                                                                                       3\n",
            "Renton Apartments The Berkshire Berkshire love living in a peaceful community with serene surroundings. Fall in love with the panoramic views of downtown Renton and Lake Washington. end of a, The Berkshire Apartments is best defined by its mature, green landscaping surrounded by grassy & wooded hillsides, a creek, and views of both city and lake. The relaxed community is filled with exclusive resident amenities. Spend the afternoon lounging by 1 of the 2 outdoor swimming pools, or have a great soak after a long and stressful day in the open-air spa. Enjoy time indoors, surfing the Internet while sipping coffee in our Wireless Internet Caf. The stunning 1 and 2 beds apartments in Renton, WA leave nothing to be desired. Each floorplan features an open living and dining area along with spacious bedrooms. The deluxe kitchens include state of the art and convenient appliances that include a dishwasher and a garbage disposal. They are also finished with track lighting for a touch of elegance.              2\n",
            "Great community amenities, an ideal location, and Apartments in inster, MD. This residential living community has everything from great interior finishes to various resident facilities that help make life more enjoyable. Middlebrooke Apartments & Townhomes offers one- and 2 beds apartment floor plans that you can make into your own. Features like a office-den in select apartment homes provide additional space in your home and provide a peaceful to get work done. Kitchens are styled with rich mocha maple cabinetry and brushed silver appliances for a homey, state of the art look and feel. These apartments in inster offer convenience and establish a sense of community through shared amenities. Each building offers a laundry facility, meaning you won t have to go across town to wash clothes. There s also a children's play area where the younger residents can play. And easily pay your rent on-line through the on-line Resident Portal. The inster area offers plenty to do in terms of shopping and dining.    2\n",
            "You will experience luxurious, location, and convenience when you make Roberts Mill your tohome! These impressive private entry residences offer exquisite 1 and 2 beds floor plans. The layouts give you extraordinary use of your living and dining space. When you walk in you know you have walked in to something special. We offer a variety of amenities that you deserve. You can enjoy relaxing in our beautiful swimming pool, sculpt your modern indoor and outdoor fitness centers, or gather friends to. in a beach volleyball, basketball courts, or tennis courts. For our pet lovers, there are 2 brand new on-site bark parks! Our location is 2nd to none. Located in Maple Shade, NJ, we are minutes from major thoroughfares giving our residents convenient access to Routes 295, 38, 73, and the NJ Turnpike. This area boasts some of the best shopping, dining, and entertainment! We are nestled between 2 major shopping centers in Cher Income Requirement: Must have 3.                                                    2\n",
            "                                                                                                                                                                                                                                                                                                                                                                                                                                                                                                                                                                                                                                                                                                                                                                                                                                                                                                                                                                                                                                                      ..\n",
            "This unit is located at 1452 Via Merano St, Henderson, 89052, NVMonthly rental rates range from $3600We have 4 beds units available for rent                                                                                                                                                                                                                                                                                                                                                                                                                                                                                                                                                                                                                                                                                                                                                                                                                                                                                                           1\n",
            "Southern Charm and elegance are more than just tradition and history, but a of life today. Avondale Station is Decatur's best choice for quiet and easy living for people with busy lifestyles. BBQ/Picnic Area, Community Firepit, Community Garden, Controlled Access/Gated, Court yard, Broadband internet, Laundry Facilities, On-Site Maintenance, Management office onsite, Package Receiving, Pet Park, Pool, Recycling, Short-term Lease, Walkable distance to MARTA, Walking Trails, Ac, Cable Ready, Ceiling Fan, Energy Efficient Windows in Every Room, Dishwasher, Electronic Thermostat, Gas Range, Cathedral ceilings, Large Closets, Refrigerator, cloths washer and drier Hookups, Window Coverings. Ok for pets Cats allowed Dogs allowed. More units available: two Bd / 1 Bedrooms 1,090 square feet for $1,090/mo | two Bd / 1 Bedrooms 1,090 sq. feet for $1,260/mo                                                                                                                                                              1\n",
            "This unit is located at 2222 Queen Street, Dubuque, 52001, IAMonthly rental rates range from $415 - $698We have one - two beds units available for rent Apartment features include:-- Dishwasher- Water Included- Air conditioned- Fitness facilities- In-Unit Laundry- Refrigerator- Garbage Disposal- Controlled Access                                                                                                                                                                                                                                                                                                                                                                                                                                                                                                                                                                                                                                                                                                                              1\n",
            "RESIDENTIAL FEATURES: WOODEN FLOORS GOURMET KITCHENS FULL-SIZE CLOTHS WASHER AND DRIER PLUSH CARPETING IN BEDROOMS CERAMIC TILE BATHROOMS WALK-IN CLOSETS BALCONIES TAN SKYLINE VIEWS. SELECT APARTMENT HOMES BUILDING AMENITIES: FULL SERVICE CONCIERGE YOGA STUDIO WITH FITNESS ON DEMAND STATE-OF-THE-ART FITNESS CENTERS RESORT-STYLE POOL SPA LOUNGE AREAS BBQ GRILLS DOUBLE-SIDED FIREPLACE OUTDOOR BILLIARDS CHIC CLUBROOMS SKY BAR AND LOUNGE CLUBROOM WITH SKY TERRACE CHILDREN S INDOOR PLAYROOM OUTDOOR PLAY AREA OUTDOOR CATERING AND MEETING SPACE CONFERENCE ROOMS ON-SITE RETAIL WIFI IN AREAS DOG RUN PETS ALLOWED BIKE STORAGE LEASING TERMS: Month Rent based on lease length:.                                                                                                                                                                                                                                                                                                                                                      1\n",
            "This unit is located at 400 Argyle Road, Ditmas Park, 11218, NYMonthly rental rates range from $2125We have 1 beds units available for rent Apartment features include:-- Water Included- On-Site Laundry- Microwave- Range / Oven- Pool- Heat Included- Hard wood floors- Refrigerator                                                                                                                                                                                                                                                                                                                                                                                                                                                                                                                                                                                                                                                                                                                                                                1\n",
            "Name: count, Length: 7183, dtype: int64 \n",
            "\n",
            "amenities\n",
            "Dishwasher,Refrigerator                                                                                              171\n",
            "Parking                                                                                                              166\n",
            "Pool                                                                                                                 118\n",
            "Dishwasher,Parking,Pool                                                                                              112\n",
            "Dishwasher                                                                                                           101\n",
            "                                                                                                                    ... \n",
            "AC,Clubhouse,Pool                                                                                                      1\n",
            "Cable or Satellite,Clubhouse,Dishwasher,Elevator,Garbage Disposal,Gated,Internet Access,Parking,Pool,Refrigerator      1\n",
            "Cable or Satellite,Clubhouse,Dishwasher,Elevator,Garbage Disposal,Parking,Patio/Deck,Pool,Refrigerator                 1\n",
            "Cable or Satellite,Elevator,Garbage Disposal,Internet Access,Parking,Patio/Deck,Refrigerator                           1\n",
            "Cable or Satellite,Doorman,Elevator,Internet Access,Pool,Refrigerator                                                  1\n",
            "Name: count, Length: 1817, dtype: int64 \n",
            "\n",
            "bathrooms\n",
            "1.0    4774\n",
            "2.0    1755\n",
            "2.5     232\n",
            "1.5     194\n",
            "3.0     130\n",
            "3.5      44\n",
            "4.0      32\n",
            "4.5       7\n",
            "5.0       5\n",
            "7.0       2\n",
            "8.0       1\n",
            "5.5       1\n",
            "Name: count, dtype: int64 \n",
            "\n",
            "bedrooms\n",
            "1.0    3313\n",
            "2.0    2451\n",
            "3.0     927\n",
            "4.0     296\n",
            "0.0     134\n",
            "5.0      62\n",
            "6.0       7\n",
            "7.0       3\n",
            "8.0       2\n",
            "Name: count, dtype: int64 \n",
            "\n",
            "currency\n",
            "USD    7200\n",
            "Name: count, dtype: int64 \n",
            "\n",
            "fee\n",
            "No    7200\n",
            "Name: count, dtype: int64 \n",
            "\n",
            "has_photo\n",
            "Thumbnail    6411\n",
            "Yes           661\n",
            "No            128\n",
            "Name: count, dtype: int64 \n",
            "\n",
            "pets_allowed\n",
            "Cats,Dogs    3748\n",
            "Cats          347\n",
            "Dogs           94\n",
            "Name: count, dtype: int64 \n",
            "\n",
            "price_type\n",
            "Monthly           7198\n",
            "Monthly|Weekly       1\n",
            "Weekly               1\n",
            "Name: count, dtype: int64 \n",
            "\n",
            "square_feet\n",
            "700     134\n",
            "600     119\n",
            "900     109\n",
            "800     105\n",
            "1000     96\n",
            "       ... \n",
            "1604      1\n",
            "1660      1\n",
            "2175      1\n",
            "347       1\n",
            "1252      1\n",
            "Name: count, Length: 1550, dtype: int64 \n",
            "\n",
            "address\n",
            "500 Sleepy Hollow Rd       3\n",
            "901 Hidden Valley Drive    2\n",
            "7319 N Loop 1604 E         2\n",
            "2571 Lake Worth Road       2\n",
            "1465 Central Avenue        2\n",
            "                          ..\n",
            "3638 5th St                1\n",
            "14812 Bothell Way NE       1\n",
            "3369 N Oakland Avenue      1\n",
            "999 Scenic Hill Drive      1\n",
            "400 Argyle Rd              1\n",
            "Name: count, Length: 4817, dtype: int64 \n",
            "\n",
            "cityname\n",
            "Austin           392\n",
            "Dallas           152\n",
            "Houston          136\n",
            "San Antonio      134\n",
            "Los Angeles      124\n",
            "                ... \n",
            "Dike               1\n",
            "Discovery Bay      1\n",
            "Savoy              1\n",
            "Campbell           1\n",
            "Delafield          1\n",
            "Name: count, Length: 1365, dtype: int64 \n",
            "\n",
            "state\n",
            "TX    1278\n",
            "CA     678\n",
            "WA     366\n",
            "NC     320\n",
            "MD     294\n",
            "NJ     264\n",
            "GA     254\n",
            "FL     243\n",
            "CO     235\n",
            "WI     222\n",
            "OH     217\n",
            "IL     215\n",
            "MO     172\n",
            "IN     168\n",
            "MN     167\n",
            "OR     145\n",
            "VA     139\n",
            "IA     137\n",
            "MI     132\n",
            "OK     126\n",
            "MA     120\n",
            "PA     115\n",
            "NV      91\n",
            "AZ      90\n",
            "CT      75\n",
            "NE      75\n",
            "ND      75\n",
            "TN      70\n",
            "SC      63\n",
            "KS      60\n",
            "UT      59\n",
            "NY      55\n",
            "LA      53\n",
            "DC      53\n",
            "AR      50\n",
            "NH      49\n",
            "SD      47\n",
            "AL      42\n",
            "AK      36\n",
            "KY      34\n",
            "ID      11\n",
            "HI       9\n",
            "VT       9\n",
            "RI       9\n",
            "NM       9\n",
            "MT       6\n",
            "MS       5\n",
            "DE       5\n",
            "WV       2\n",
            "Name: count, dtype: int64 \n",
            "\n",
            "latitude\n",
            "30.3054    382\n",
            "29.7714    128\n",
            "29.4624    128\n",
            "41.8625    107\n",
            "43.0724     83\n",
            "          ... \n",
            "33.8596      1\n",
            "37.0199      1\n",
            "35.5985      1\n",
            "41.9144      1\n",
            "43.0619      1\n",
            "Name: count, Length: 2026, dtype: int64 \n",
            "\n",
            "longitude\n",
            "-97.7497     382\n",
            "-95.4343     128\n",
            "-98.5253     128\n",
            "-87.6825     107\n",
            "-89.4003      83\n",
            "            ... \n",
            "-88.8405       1\n",
            "-98.5260       1\n",
            "-151.0806      1\n",
            "-77.5015       1\n",
            "-88.4017       1\n",
            "Name: count, Length: 2027, dtype: int64 \n",
            "\n",
            "source\n",
            "RentLingo            4999\n",
            "RentDigs.com         1967\n",
            "ListedBuy             139\n",
            "RealRentals            47\n",
            "GoSection8             22\n",
            "Listanza               14\n",
            "RENTOCULAR             10\n",
            "RENTCafé                1\n",
            "Real Estate Agent       1\n",
            "Name: count, dtype: int64 \n",
            "\n",
            "time\n",
            "1577359932    4\n",
            "1577358617    4\n",
            "1577016994    4\n",
            "1577358917    4\n",
            "1577016821    4\n",
            "             ..\n",
            "1568755388    1\n",
            "1576748558    1\n",
            "1577015291    1\n",
            "1577016570    1\n",
            "1568772874    1\n",
            "Name: count, Length: 5060, dtype: int64 \n",
            "\n",
            "RentCategory\n",
            "Medium-Priced Rent    3897\n",
            "Low Rent              2153\n",
            "High Rent             1150\n",
            "Name: count, dtype: int64 \n",
            "\n"
          ]
        }
      ],
      "source": [
        "for column in train_data:\n",
        "    print(train_data[column].value_counts() , '\\n')"
      ]
    },
    {
      "cell_type": "code",
      "execution_count": 6,
      "metadata": {
        "colab": {
          "base_uri": "https://localhost:8080/"
        },
        "id": "XVkZ59eO1N91",
        "outputId": "0c3c6626-c0e2-432e-9227-d3cab30900dd"
      },
      "outputs": [
        {
          "name": "stdout",
          "output_type": "stream",
          "text": [
            "id \t 0\n",
            "category \t 0\n",
            "title \t 0\n",
            "body \t 0\n",
            "amenities \t 2539\n",
            "bathrooms \t 23\n",
            "bedrooms \t 5\n",
            "currency \t 0\n",
            "fee \t 0\n",
            "has_photo \t 0\n",
            "pets_allowed \t 3011\n",
            "price_type \t 0\n",
            "square_feet \t 0\n",
            "address \t 2372\n",
            "cityname \t 51\n",
            "state \t 51\n",
            "latitude \t 5\n",
            "longitude \t 5\n",
            "source \t 0\n",
            "time \t 0\n",
            "RentCategory \t 0\n"
          ]
        }
      ],
      "source": [
        "\"\"\"number of nulls in train\"\"\"\n",
        "for column in train_data.columns:\n",
        "  print(column, '\\t', train_data[column].isna().sum())"
      ]
    },
    {
      "cell_type": "code",
      "execution_count": 7,
      "metadata": {
        "colab": {
          "base_uri": "https://localhost:8080/"
        },
        "id": "YB361mNuTRdD",
        "outputId": "e8f02eee-6833-4476-9330-b40de95cf1be"
      },
      "outputs": [
        {
          "name": "stdout",
          "output_type": "stream",
          "text": [
            "id \t 0\n",
            "category \t 0\n",
            "title \t 0\n",
            "body \t 0\n",
            "amenities \t 646\n",
            "bathrooms \t 7\n",
            "bedrooms \t 2\n",
            "currency \t 0\n",
            "fee \t 0\n",
            "has_photo \t 0\n",
            "pets_allowed \t 740\n",
            "price_type \t 0\n",
            "square_feet \t 0\n",
            "address \t 599\n",
            "cityname \t 15\n",
            "state \t 15\n",
            "latitude \t 2\n",
            "longitude \t 2\n",
            "source \t 0\n",
            "time \t 0\n",
            "RentCategory \t 0\n"
          ]
        }
      ],
      "source": [
        "\"\"\"number of nulls in test\"\"\"\n",
        "for column in test_data.columns:\n",
        "  print(column, '\\t', test_data[column].isna().sum())"
      ]
    },
    {
      "cell_type": "code",
      "execution_count": 8,
      "metadata": {
        "id": "kRoeDe4e88P6"
      },
      "outputs": [],
      "source": [
        "class CounterEncoder:\n",
        "  def transform(self, X):\n",
        "    ret = X.copy()\n",
        "    ret = ret.fillna(0).apply(lambda x: 0 if x == 0 else len(str(x).split(',')))\n",
        "    return ret"
      ]
    },
    {
      "cell_type": "code",
      "execution_count": 9,
      "metadata": {
        "id": "UfypolsI2elP"
      },
      "outputs": [],
      "source": [
        "\"\"\"replace each row in amenities with the **count** of the amenities\"\"\"\n",
        "ce = CounterEncoder()\n",
        "train_data['amenities'] = ce.transform(train_data['amenities'])\n",
        "test_data['amenities'] = ce.transform(test_data['amenities'])"
      ]
    },
    {
      "cell_type": "code",
      "execution_count": 10,
      "metadata": {
        "colab": {
          "base_uri": "https://localhost:8080/"
        },
        "id": "J4GlCBYx5Ar_",
        "outputId": "572b722d-a768-48f6-8c6e-e6fff3b32b6b"
      },
      "outputs": [
        {
          "name": "stdout",
          "output_type": "stream",
          "text": [
            "category\n",
            "housing/rent/apartment     7198\n",
            "housing/rent/short_term       1\n",
            "housing/rent/home             1\n",
            "Name: count, dtype: int64\n",
            "category\n",
            "housing/rent/apartment    7198\n",
            "Name: count, dtype: int64\n"
          ]
        }
      ],
      "source": [
        "\"\"\"remove noise\"\"\"\n",
        "print(train_data['category'].value_counts())\n",
        "train_data = train_data.drop(train_data[(train_data['category'] == 'housing/rent/short_term') | (train_data['category'] == 'housing/rent/home')].index)\n",
        "print(train_data['category'].value_counts())"
      ]
    },
    {
      "cell_type": "code",
      "execution_count": 11,
      "metadata": {
        "id": "U6wJ9LljKwbI"
      },
      "outputs": [
        {
          "name": "stderr",
          "output_type": "stream",
          "text": [
            "C:\\Users\\DELL\\AppData\\Local\\Temp\\ipykernel_19500\\645714215.py:12: RuntimeWarning: invalid value encountered in cast\n",
            "  self.special[col] = data[col].mean().astype(int)\n"
          ]
        }
      ],
      "source": [
        "class MeansAndMods:\n",
        "  def __init__(self):\n",
        "    self.special = {}  #\n",
        "  def fit(self, data):\n",
        "\n",
        "    for col in data.columns:\n",
        "      if data[col].dtype == 'object':  # Check if the column is categorical\n",
        "        self.special[col] = data[col].mode()[0]\n",
        "      elif data[col].dtype == 'float64':\n",
        "        self.special[col] = data[col].mean()\n",
        "      else:\n",
        "        self.special[col] = data[col].mean().astype(int)\n",
        "\n",
        "  def transform(self, col, value=None):\n",
        "    if value is None:\n",
        "      return col.fillna(self.special[col.name])\n",
        "    else:\n",
        "      return col.apply(lambda x: self.special[col.name] if x == value else x)\n",
        "\n",
        "mam = MeansAndMods()\n",
        "mam.fit(train_data)"
      ]
    },
    {
      "cell_type": "code",
      "execution_count": 12,
      "metadata": {
        "id": "ebu62glCVDs3"
      },
      "outputs": [],
      "source": [
        "#to be commented\n",
        "# categoryModeTrain = train_data['category'].mode()[0]\n",
        "\n",
        "# print(test_data['category'].value_counts())\n",
        "\n",
        "# for index, value in test_data['category'].items():\n",
        "#     if value != categoryModeTrain:\n",
        "#         test_data.at[index, 'category'] = categoryModeTrain\n",
        "\n",
        "# print(test_data['category'].value_counts())"
      ]
    },
    {
      "cell_type": "markdown",
      "metadata": {
        "id": "nK-CKskkP2GG"
      },
      "source": [
        "**replace nulls of longitude and latitude first**"
      ]
    },
    {
      "cell_type": "code",
      "execution_count": 13,
      "metadata": {
        "id": "Df1ab-zbCmAN"
      },
      "outputs": [],
      "source": [
        "train_data.dropna(subset=['longitude', 'latitude'], inplace=True)\n",
        "\n",
        "test_data['longitude'] = mam.transform(test_data['longitude'])\n",
        "test_data['latitude'] = mam.transform(test_data['latitude'])\n"
      ]
    },
    {
      "cell_type": "code",
      "execution_count": 14,
      "metadata": {
        "id": "5tRGA_HZ5Cej"
      },
      "outputs": [],
      "source": [
        "# Note: The following line is Required as we want these 2 cols without any nulls\n",
        "\n",
        "class KNN_PP:\n",
        "  def __init__(self):\n",
        "    self.knn =  KNeighborsClassifier(n_neighbors=1)\n",
        "\n",
        "  def fit(self, X, Y):\n",
        "    self.X_train = X[Y.notnull()]\n",
        "    self.Y_train = Y.dropna()\n",
        "    self.knn.fit(self.X_train, self.Y_train)\n",
        "\n",
        "  def transform(self, X, Y):\n",
        "    X_test = X[Y.isnull()]\n",
        "    Y_pred = Y.copy()\n",
        "    Y_pred[X_test.index] = self.knn.predict(X_test)\n",
        "    return Y_pred\n",
        "\n",
        "  def fit_transform(self, X, Y):\n",
        "    self.fit(X, Y)\n",
        "    return self.transform(X, Y)\n",
        "\n",
        "city_KP = KNN_PP()\n",
        "train_data['cityname'] = city_KP.fit_transform(train_data.loc[:, ['latitude', 'longitude']], train_data['cityname'])\n",
        "test_data['cityname'] = city_KP.transform(test_data.loc[:, ['latitude', 'longitude']], test_data['cityname'])\n",
        "\n",
        "state_KP = KNN_PP()\n",
        "train_data['state'] = state_KP.fit_transform(train_data.loc[:, ['latitude', 'longitude']], train_data['state'])\n",
        "test_data['state'] = state_KP.transform(test_data.loc[:, ['latitude', 'longitude']], test_data['state'])"
      ]
    },
    {
      "cell_type": "code",
      "execution_count": 15,
      "metadata": {
        "id": "7KyFYc4kL7FF"
      },
      "outputs": [],
      "source": [
        "train_data['bathrooms'] = mam.transform(train_data['bathrooms'])\n",
        "train_data['bedrooms']  = mam.transform(train_data['bedrooms'])\n",
        "\n",
        "train_data['bathrooms'] = train_data['bathrooms'].astype(int)\n",
        "train_data['bedrooms'] = train_data['bedrooms'].astype(int)"
      ]
    },
    {
      "cell_type": "code",
      "execution_count": 16,
      "metadata": {
        "id": "8lMzKs4zV-nw"
      },
      "outputs": [],
      "source": [
        "test_data['bathrooms'] = mam.transform(test_data['bathrooms'])\n",
        "test_data['bedrooms']  = mam.transform(test_data['bedrooms'])\n",
        "\n",
        "test_data['bathrooms'] = test_data['bathrooms'].astype(int)\n",
        "test_data['bedrooms'] = test_data['bedrooms'].astype(int)"
      ]
    },
    {
      "cell_type": "code",
      "execution_count": 17,
      "metadata": {
        "id": "naYy8q4wM8ef"
      },
      "outputs": [],
      "source": [
        "class OHE:\n",
        "  def __init__(self, removeCol):\n",
        "    self.removeCol = removeCol\n",
        "  def fit(self, data, suff = 'allowed'):\n",
        "    self.addCols = set()\n",
        "    for val in data[self.removeCol].value_counts().index:\n",
        "      for string in str(val).split(','):\n",
        "        self.addCols.add(string.lower() + '_' + suff)\n",
        "\n",
        "  def transform(self, data):\n",
        "    data[self.removeCol].fillna('', inplace=True)\n",
        "    for col in self.addCols:\n",
        "      data.insert(data.columns.get_loc(self.removeCol), col, np.zeros(data.shape[0], dtype=int))\n",
        "      data.loc[data[self.removeCol].str.contains(col[:col.find('_')], case=False), col] = 1\n",
        "    data.drop(columns=self.removeCol, inplace=True)\n",
        "\n",
        "  def fit_transform(self, data, suff = 'allowed'):\n",
        "    self.fit(data, suff)\n",
        "    self.transform(data)"
      ]
    },
    {
      "cell_type": "code",
      "execution_count": 18,
      "metadata": {
        "colab": {
          "base_uri": "https://localhost:8080/"
        },
        "id": "I6ig16mIMkmC",
        "outputId": "d9f6c5c9-df2f-41f0-f0b1-c1996aee001e"
      },
      "outputs": [
        {
          "name": "stdout",
          "output_type": "stream",
          "text": [
            "pets_allowed\n",
            "Cats,Dogs    3748\n",
            "Cats          345\n",
            "Dogs           94\n",
            "Name: count, dtype: int64\n",
            "cats_allowed\n",
            "1    4093\n",
            "0    3100\n",
            "Name: count, dtype: int64 dogs_allowed\n",
            "1    3842\n",
            "0    3351\n",
            "Name: count, dtype: int64\n"
          ]
        }
      ],
      "source": [
        "print(train_data['pets_allowed'].value_counts())\n",
        "\n",
        "pets_ohe = OHE(removeCol='pets_allowed')\n",
        "pets_ohe.fit_transform(train_data)\n",
        "pets_ohe.transform(test_data)\n",
        "\n",
        "print(train_data['cats_allowed'].value_counts(), train_data['dogs_allowed'].value_counts())"
      ]
    },
    {
      "cell_type": "code",
      "execution_count": 19,
      "metadata": {
        "colab": {
          "base_uri": "https://localhost:8080/"
        },
        "id": "RKQEj7EpOAx6",
        "outputId": "0eed070d-ec0a-4a22-e8d8-9153e07077ef"
      },
      "outputs": [
        {
          "name": "stdout",
          "output_type": "stream",
          "text": [
            "id \t 0\n",
            "category \t 0\n",
            "title \t 0\n",
            "body \t 0\n",
            "amenities \t 0\n",
            "bathrooms \t 0\n",
            "bedrooms \t 0\n",
            "currency \t 0\n",
            "fee \t 0\n",
            "has_photo \t 0\n",
            "cats_allowed \t 0\n",
            "dogs_allowed \t 0\n",
            "price_type \t 0\n",
            "square_feet \t 0\n",
            "address \t 2366\n",
            "cityname \t 0\n",
            "state \t 0\n",
            "latitude \t 0\n",
            "longitude \t 0\n",
            "source \t 0\n",
            "time \t 0\n",
            "RentCategory \t 0\n"
          ]
        }
      ],
      "source": [
        "\"\"\"number of nulls\"\"\"\n",
        "for column in train_data.columns:\n",
        "  print(column, '\\t',train_data[column].isna().sum())"
      ]
    },
    {
      "cell_type": "code",
      "execution_count": 20,
      "metadata": {
        "colab": {
          "base_uri": "https://localhost:8080/"
        },
        "id": "J4VOeMfNe-DA",
        "outputId": "192d4642-5203-4fe4-b298-a740d2aa5054"
      },
      "outputs": [
        {
          "name": "stdout",
          "output_type": "stream",
          "text": [
            "id \t 0\n",
            "category \t 0\n",
            "title \t 0\n",
            "body \t 0\n",
            "amenities \t 0\n",
            "bathrooms \t 0\n",
            "bedrooms \t 0\n",
            "currency \t 0\n",
            "fee \t 0\n",
            "has_photo \t 0\n",
            "cats_allowed \t 0\n",
            "dogs_allowed \t 0\n",
            "price_type \t 0\n",
            "square_feet \t 0\n",
            "address \t 599\n",
            "cityname \t 0\n",
            "state \t 0\n",
            "latitude \t 0\n",
            "longitude \t 0\n",
            "source \t 0\n",
            "time \t 0\n",
            "RentCategory \t 0\n"
          ]
        }
      ],
      "source": [
        "\"\"\"number of nulls\"\"\"\n",
        "for column in test_data.columns:\n",
        "  print(column, '\\t',test_data[column].isna().sum())"
      ]
    },
    {
      "cell_type": "code",
      "execution_count": 21,
      "metadata": {
        "id": "PLkX8xNdOhP8"
      },
      "outputs": [
        {
          "name": "stderr",
          "output_type": "stream",
          "text": [
            "C:\\Users\\DELL\\AppData\\Local\\Temp\\ipykernel_19500\\645714215.py:12: RuntimeWarning: invalid value encountered in cast\n",
            "  self.special[col] = data[col].mean().astype(int)\n"
          ]
        }
      ],
      "source": [
        "train_data['address'].fillna('Unknown', inplace=True)\n",
        "mam.fit(train_data)\n",
        "test_data['address'] = mam.transform(test_data['address'])"
      ]
    },
    {
      "cell_type": "code",
      "execution_count": 22,
      "metadata": {
        "id": "bAyA_cSl78_0"
      },
      "outputs": [],
      "source": [
        "for col in train_data.columns:\n",
        "    train_data[col] = mam.transform(train_data[col])\n",
        "for col in test_data.columns:\n",
        "    test_data[col] = mam.transform(test_data[col])"
      ]
    },
    {
      "cell_type": "code",
      "execution_count": 23,
      "metadata": {
        "colab": {
          "base_uri": "https://localhost:8080/"
        },
        "id": "TbqZdduXoJQO",
        "outputId": "cc48de37-9c33-425e-875a-0609b5e34a0a"
      },
      "outputs": [
        {
          "name": "stdout",
          "output_type": "stream",
          "text": [
            "id \t 0\n",
            "category \t 0\n",
            "title \t 0\n",
            "body \t 0\n",
            "amenities \t 0\n",
            "bathrooms \t 0\n",
            "bedrooms \t 0\n",
            "currency \t 0\n",
            "fee \t 0\n",
            "has_photo \t 0\n",
            "cats_allowed \t 0\n",
            "dogs_allowed \t 0\n",
            "price_type \t 0\n",
            "square_feet \t 0\n",
            "address \t 0\n",
            "cityname \t 0\n",
            "state \t 0\n",
            "latitude \t 0\n",
            "longitude \t 0\n",
            "source \t 0\n",
            "time \t 0\n",
            "RentCategory \t 0\n"
          ]
        }
      ],
      "source": [
        "\"\"\"number of nulls\"\"\"\n",
        "for column in train_data.columns:\n",
        "  print(column, '\\t',train_data[column].isna().sum())"
      ]
    },
    {
      "cell_type": "code",
      "execution_count": 24,
      "metadata": {
        "id": "sNUzEFk_jdyN"
      },
      "outputs": [],
      "source": [
        "photo_ohe = OHE('has_photo')\n",
        "photo_ohe.fit_transform(train_data, 'photo')\n",
        "train_data.drop(columns=['no_photo'], inplace=True)\n",
        "photo_ohe.transform(test_data)\n",
        "test_data.drop(columns=['no_photo'], inplace=True)"
      ]
    },
    {
      "cell_type": "code",
      "execution_count": 25,
      "metadata": {
        "id": "eFexufh-OsNG"
      },
      "outputs": [],
      "source": [
        "def count_outliers(df):\n",
        "    for column_name in df.columns:\n",
        "        Q1 = df[column_name].quantile(0.25)\n",
        "        Q3 = df[column_name].quantile(0.75)\n",
        "        IQR = Q3 - Q1\n",
        "        lower_bound = Q1 - 1.5 * IQR\n",
        "        upper_bound = Q3 + 1.5 * IQR\n",
        "        outliers = df[(df[column_name] < lower_bound) | (df[column_name] > upper_bound)]\n",
        "        print(f\"Number of outliers in '{column_name}': {outliers.shape[0]}\")"
      ]
    },
    {
      "cell_type": "code",
      "execution_count": 26,
      "metadata": {
        "colab": {
          "base_uri": "https://localhost:8080/"
        },
        "id": "eWr6j2XtRIgs",
        "outputId": "5d83a480-8672-4128-e9d8-20c1e2892374"
      },
      "outputs": [
        {
          "name": "stdout",
          "output_type": "stream",
          "text": [
            "Number of outliers in 'bathrooms': 48\n",
            "Number of outliers in 'bedrooms': 370\n",
            "Number of outliers in 'square_feet': 461\n",
            "None\n",
            "bedrooms\n",
            "1    3314\n",
            "2    2448\n",
            "3     927\n",
            "4     296\n",
            "0     134\n",
            "5      62\n",
            "6       7\n",
            "7       3\n",
            "8       2\n",
            "Name: count, dtype: int64\n"
          ]
        }
      ],
      "source": [
        "outliercolums = ['bathrooms', 'bedrooms', 'square_feet']\n",
        "print(count_outliers(train_data[outliercolums]))\n",
        "# pd.set_option('display.max_rows', None)\n",
        "print(train_data['bedrooms'].value_counts())"
      ]
    },
    {
      "cell_type": "code",
      "execution_count": 27,
      "metadata": {
        "colab": {
          "base_uri": "https://localhost:8080/",
          "height": 428
        },
        "id": "VzmKL4yjSP58",
        "outputId": "a01710a6-d36f-4a99-cce5-1fee43f1ac80"
      },
      "outputs": [
        {
          "data": {
            "text/plain": [
              "<Axes: ylabel='square_feet'>"
            ]
          },
          "execution_count": 27,
          "metadata": {},
          "output_type": "execute_result"
        },
        {
          "data": {
            "image/png": "[encoded data removed]",
            "text/plain": [
              "<Figure size 640x480 with 1 Axes>"
            ]
          },
          "metadata": {},
          "output_type": "display_data"
        }
      ],
      "source": [
        "sns.boxplot(train_data['square_feet'])\n"
      ]
    },
    {
      "cell_type": "code",
      "execution_count": 28,
      "metadata": {
        "colab": {
          "base_uri": "https://localhost:8080/",
          "height": 428
        },
        "id": "4yA4-kWfSQkD",
        "outputId": "1603d756-e8f3-4b82-b806-323bda711e9d"
      },
      "outputs": [
        {
          "data": {
            "text/plain": [
              "<Axes: ylabel='bedrooms'>"
            ]
          },
          "execution_count": 28,
          "metadata": {},
          "output_type": "execute_result"
        },
        {
          "data": {
            "image/png": "[encoded data removed]",
            "text/plain": [
              "<Figure size 640x480 with 1 Axes>"
            ]
          },
          "metadata": {},
          "output_type": "display_data"
        }
      ],
      "source": [
        "sns.boxplot(train_data['bedrooms'])"
      ]
    },
    {
      "cell_type": "code",
      "execution_count": 29,
      "metadata": {
        "colab": {
          "base_uri": "https://localhost:8080/",
          "height": 428
        },
        "id": "1TGh3e43SRIu",
        "outputId": "5a364cf7-20fc-4ed5-b3bf-cc25eab4850c"
      },
      "outputs": [
        {
          "data": {
            "text/plain": [
              "<Axes: ylabel='bathrooms'>"
            ]
          },
          "execution_count": 29,
          "metadata": {},
          "output_type": "execute_result"
        },
        {
          "data": {
            "image/png": "[encoded data removed]",
            "text/plain": [
              "<Figure size 640x480 with 1 Axes>"
            ]
          },
          "metadata": {},
          "output_type": "display_data"
        }
      ],
      "source": [
        "sns.boxplot(train_data['bathrooms'])"
      ]
    },
    {
      "cell_type": "code",
      "execution_count": 30,
      "metadata": {
        "id": "CAEkFinjSR4P"
      },
      "outputs": [],
      "source": [
        "def replace_outliers(df, columns):\n",
        "    for column_name in columns:\n",
        "        # Calculate quartiles\n",
        "        Q1 = df[column_name].quantile(0.25)\n",
        "        Q3 = df[column_name].quantile(0.75)\n",
        "        # Calculate IQR\n",
        "        IQR = Q3 - Q1\n",
        "        # Define outlier boundaries\n",
        "        lower_bound = Q1 - 1.5 * IQR\n",
        "        upper_bound = Q3 + 1.5 * IQR\n",
        "        # Replace outliers below the lower bound with Q1 - 1.5 * IQR\n",
        "        df.loc[df[column_name] < lower_bound, column_name] = lower_bound\n",
        "        # Replace outliers above the upper bound with Q3 + 1.5 * IQR\n",
        "        df.loc[df[column_name] > upper_bound, column_name] = upper_bound\n",
        "    return df"
      ]
    },
    {
      "cell_type": "code",
      "execution_count": 31,
      "metadata": {
        "colab": {
          "base_uri": "https://localhost:8080/"
        },
        "id": "Ip9hFEAKSaeT",
        "outputId": "6df8f82b-cea2-4bff-d69b-94f9321dc833"
      },
      "outputs": [
        {
          "name": "stdout",
          "output_type": "stream",
          "text": [
            "Number of outliers in 'bathrooms': 0\n",
            "Number of outliers in 'bedrooms': 0\n",
            "Number of outliers in 'square_feet': 0\n",
            "None\n"
          ]
        },
        {
          "name": "stderr",
          "output_type": "stream",
          "text": [
            "C:\\Users\\DELL\\AppData\\Local\\Temp\\ipykernel_19500\\3512025756.py:12: FutureWarning: Setting an item of incompatible dtype is deprecated and will raise in a future error of pandas. Value '-0.5' has dtype incompatible with int32, please explicitly cast to a compatible dtype first.\n",
            "  df.loc[df[column_name] < lower_bound, column_name] = lower_bound\n",
            "C:\\Users\\DELL\\AppData\\Local\\Temp\\ipykernel_19500\\3512025756.py:12: FutureWarning: Setting an item of incompatible dtype is deprecated and will raise in a future error of pandas. Value '-0.5' has dtype incompatible with int32, please explicitly cast to a compatible dtype first.\n",
            "  df.loc[df[column_name] < lower_bound, column_name] = lower_bound\n"
          ]
        }
      ],
      "source": [
        "train_data = replace_outliers(train_data, outliercolums)\n",
        "print(count_outliers(train_data[outliercolums]))\n",
        "#print(train_data['square_feet'].max())"
      ]
    },
    {
      "cell_type": "code",
      "execution_count": 32,
      "metadata": {
        "colab": {
          "base_uri": "https://localhost:8080/"
        },
        "id": "UtZ0XJM94Lt5",
        "outputId": "7e737650-3f88-4bf1-9539-b1d1f43f4888"
      },
      "outputs": [
        {
          "name": "stdout",
          "output_type": "stream",
          "text": [
            "<class 'pandas.core.frame.DataFrame'>\n",
            "Index: 7193 entries, 6317 to 7270\n",
            "Data columns (total 23 columns):\n",
            " #   Column           Non-Null Count  Dtype  \n",
            "---  ------           --------------  -----  \n",
            " 0   id               7193 non-null   int64  \n",
            " 1   category         7193 non-null   object \n",
            " 2   title            7193 non-null   object \n",
            " 3   body             7193 non-null   object \n",
            " 4   amenities        7193 non-null   int64  \n",
            " 5   bathrooms        7193 non-null   float64\n",
            " 6   bedrooms         7193 non-null   float64\n",
            " 7   currency         7193 non-null   object \n",
            " 8   fee              7193 non-null   object \n",
            " 9   thumbnail_photo  7193 non-null   int32  \n",
            " 10  yes_photo        7193 non-null   int32  \n",
            " 11  cats_allowed     7193 non-null   int32  \n",
            " 12  dogs_allowed     7193 non-null   int32  \n",
            " 13  price_type       7193 non-null   object \n",
            " 14  square_feet      7193 non-null   int64  \n",
            " 15  address          7193 non-null   object \n",
            " 16  cityname         7193 non-null   object \n",
            " 17  state            7193 non-null   object \n",
            " 18  latitude         7193 non-null   float64\n",
            " 19  longitude        7193 non-null   float64\n",
            " 20  source           7193 non-null   object \n",
            " 21  time             7193 non-null   int64  \n",
            " 22  RentCategory     7193 non-null   object \n",
            "dtypes: float64(4), int32(4), int64(4), object(11)\n",
            "memory usage: 1.5+ MB\n"
          ]
        }
      ],
      "source": [
        "train_data.info()"
      ]
    },
    {
      "cell_type": "code",
      "execution_count": 33,
      "metadata": {
        "id": "aTVRIE6BTQMI"
      },
      "outputs": [],
      "source": [
        "# def Feature_Encoder(X, cols):\n",
        "#     for c in cols:\n",
        "#         lbl = LabelEncoder()\n",
        "#         lbl.fit(list(X[c].values))\n",
        "\n",
        "#         X[c] = lbl.transform(list(X[c].values))\n",
        "#     return X"
      ]
    },
    {
      "cell_type": "code",
      "execution_count": 34,
      "metadata": {
        "id": "IbBLFg74TUTu"
      },
      "outputs": [
        {
          "name": "stderr",
          "output_type": "stream",
          "text": [
            "C:\\Users\\DELL\\AppData\\Local\\Temp\\ipykernel_19500\\645714215.py:12: RuntimeWarning: invalid value encountered in cast\n",
            "  self.special[col] = data[col].mean().astype(int)\n"
          ]
        }
      ],
      "source": [
        "#remove noise\n",
        "train_data = train_data.drop(train_data[(train_data['price_type'] == 'Weekly') | (train_data['price_type'] == 'Monthly|Weekly')].index)\n",
        "mam.fit(train_data)"
      ]
    },
    {
      "cell_type": "code",
      "execution_count": 35,
      "metadata": {
        "colab": {
          "base_uri": "https://localhost:8080/"
        },
        "id": "12aCfpcPRG8c",
        "outputId": "22591c90-0784-4280-a0d9-b715dcfb7744"
      },
      "outputs": [
        {
          "name": "stdout",
          "output_type": "stream",
          "text": [
            "<class 'pandas.core.frame.DataFrame'>\n",
            "Index: 7191 entries, 6317 to 7270\n",
            "Data columns (total 23 columns):\n",
            " #   Column           Non-Null Count  Dtype  \n",
            "---  ------           --------------  -----  \n",
            " 0   id               7191 non-null   int64  \n",
            " 1   category         7191 non-null   object \n",
            " 2   title            7191 non-null   object \n",
            " 3   body             7191 non-null   object \n",
            " 4   amenities        7191 non-null   int64  \n",
            " 5   bathrooms        7191 non-null   float64\n",
            " 6   bedrooms         7191 non-null   float64\n",
            " 7   currency         7191 non-null   object \n",
            " 8   fee              7191 non-null   object \n",
            " 9   thumbnail_photo  7191 non-null   int32  \n",
            " 10  yes_photo        7191 non-null   int32  \n",
            " 11  cats_allowed     7191 non-null   int32  \n",
            " 12  dogs_allowed     7191 non-null   int32  \n",
            " 13  price_type       7191 non-null   object \n",
            " 14  square_feet      7191 non-null   int64  \n",
            " 15  address          7191 non-null   object \n",
            " 16  cityname         7191 non-null   object \n",
            " 17  state            7191 non-null   object \n",
            " 18  latitude         7191 non-null   float64\n",
            " 19  longitude        7191 non-null   float64\n",
            " 20  source           7191 non-null   object \n",
            " 21  time             7191 non-null   int64  \n",
            " 22  RentCategory     7191 non-null   object \n",
            "dtypes: float64(4), int32(4), int64(4), object(11)\n",
            "memory usage: 1.2+ MB\n"
          ]
        }
      ],
      "source": [
        "train_data.info()"
      ]
    },
    {
      "cell_type": "code",
      "execution_count": 36,
      "metadata": {
        "id": "gzFN-0pPTV5Z"
      },
      "outputs": [],
      "source": [
        "cols=('category','title','body','cityname', 'state', 'source', 'address','fee','currency','price_type')\n",
        "\n",
        "lbls = []\n",
        "for c in cols:\n",
        "    lbl = LabelEncoder()\n",
        "    train_data[c] = lbl.fit_transform(list(train_data[c].values))\n",
        "    lbls.append(lbl)\n",
        "    encoded_labels = []\n",
        "    for idx, val in test_data[c].items():\n",
        "      if val not in lbl.classes_:\n",
        "        test_data.at[idx,c] = mam.special[c]\n",
        "    test_data[c] = lbl.transform(test_data[c])\n",
        "\n",
        "train_data['RentCategory'] = train_data['RentCategory'].replace({'Medium-Priced Rent': 1, 'Low Rent': 0, 'High Rent': 2})\n",
        "test_data['RentCategory'] = test_data['RentCategory'].replace({'Medium-Priced Rent': 1, 'Low Rent': 0, 'High Rent': 2})"
      ]
    },
    {
      "cell_type": "code",
      "execution_count": 37,
      "metadata": {
        "colab": {
          "base_uri": "https://localhost:8080/"
        },
        "id": "2B2I_Zu3UKs6",
        "outputId": "4c9f9b10-79f8-4b1c-fcac-7dae166ef7cb"
      },
      "outputs": [
        {
          "name": "stdout",
          "output_type": "stream",
          "text": [
            "<class 'pandas.core.frame.DataFrame'>\n",
            "Index: 7191 entries, 6317 to 7270\n",
            "Data columns (total 23 columns):\n",
            " #   Column           Non-Null Count  Dtype  \n",
            "---  ------           --------------  -----  \n",
            " 0   id               7191 non-null   int64  \n",
            " 1   category         7191 non-null   int64  \n",
            " 2   title            7191 non-null   int64  \n",
            " 3   body             7191 non-null   int64  \n",
            " 4   amenities        7191 non-null   int64  \n",
            " 5   bathrooms        7191 non-null   float64\n",
            " 6   bedrooms         7191 non-null   float64\n",
            " 7   currency         7191 non-null   int64  \n",
            " 8   fee              7191 non-null   int64  \n",
            " 9   thumbnail_photo  7191 non-null   int32  \n",
            " 10  yes_photo        7191 non-null   int32  \n",
            " 11  cats_allowed     7191 non-null   int32  \n",
            " 12  dogs_allowed     7191 non-null   int32  \n",
            " 13  price_type       7191 non-null   int64  \n",
            " 14  square_feet      7191 non-null   int64  \n",
            " 15  address          7191 non-null   int64  \n",
            " 16  cityname         7191 non-null   int64  \n",
            " 17  state            7191 non-null   int64  \n",
            " 18  latitude         7191 non-null   float64\n",
            " 19  longitude        7191 non-null   float64\n",
            " 20  source           7191 non-null   int64  \n",
            " 21  time             7191 non-null   int64  \n",
            " 22  RentCategory     7191 non-null   int64  \n",
            "dtypes: float64(4), int32(4), int64(15)\n",
            "memory usage: 1.2 MB\n"
          ]
        }
      ],
      "source": [
        "train_data.info()"
      ]
    },
    {
      "cell_type": "code",
      "execution_count": 38,
      "metadata": {
        "colab": {
          "base_uri": "https://localhost:8080/",
          "height": 256
        },
        "id": "QuGtOtdfdAqQ",
        "outputId": "309df45e-ca0a-4291-e6da-f4c967965d90"
      },
      "outputs": [
        {
          "data": {
            "text/html": [
              "<div>\n",
              "<style scoped>\n",
              "    .dataframe tbody tr th:only-of-type {\n",
              "        vertical-align: middle;\n",
              "    }\n",
              "\n",
              "    .dataframe tbody tr th {\n",
              "        vertical-align: top;\n",
              "    }\n",
              "\n",
              "    .dataframe thead th {\n",
              "        text-align: right;\n",
              "    }\n",
              "</style>\n",
              "<table border=\"1\" class=\"dataframe\">\n",
              "  <thead>\n",
              "    <tr style=\"text-align: right;\">\n",
              "      <th></th>\n",
              "      <th>id</th>\n",
              "      <th>category</th>\n",
              "      <th>title</th>\n",
              "      <th>body</th>\n",
              "      <th>amenities</th>\n",
              "      <th>bathrooms</th>\n",
              "      <th>bedrooms</th>\n",
              "      <th>currency</th>\n",
              "      <th>fee</th>\n",
              "      <th>thumbnail_photo</th>\n",
              "      <th>...</th>\n",
              "      <th>price_type</th>\n",
              "      <th>square_feet</th>\n",
              "      <th>address</th>\n",
              "      <th>cityname</th>\n",
              "      <th>state</th>\n",
              "      <th>latitude</th>\n",
              "      <th>longitude</th>\n",
              "      <th>source</th>\n",
              "      <th>time</th>\n",
              "      <th>RentCategory</th>\n",
              "    </tr>\n",
              "  </thead>\n",
              "  <tbody>\n",
              "    <tr>\n",
              "      <th>6317</th>\n",
              "      <td>5668624413</td>\n",
              "      <td>0</td>\n",
              "      <td>5031</td>\n",
              "      <td>3675</td>\n",
              "      <td>2</td>\n",
              "      <td>2.0</td>\n",
              "      <td>3.0</td>\n",
              "      <td>0</td>\n",
              "      <td>0</td>\n",
              "      <td>1</td>\n",
              "      <td>...</td>\n",
              "      <td>0</td>\n",
              "      <td>1459</td>\n",
              "      <td>1892</td>\n",
              "      <td>1055</td>\n",
              "      <td>9</td>\n",
              "      <td>27.7164</td>\n",
              "      <td>-82.4294</td>\n",
              "      <td>8</td>\n",
              "      <td>1577359238</td>\n",
              "      <td>1</td>\n",
              "    </tr>\n",
              "    <tr>\n",
              "      <th>740</th>\n",
              "      <td>5664573224</td>\n",
              "      <td>0</td>\n",
              "      <td>4839</td>\n",
              "      <td>2411</td>\n",
              "      <td>2</td>\n",
              "      <td>2.0</td>\n",
              "      <td>3.0</td>\n",
              "      <td>0</td>\n",
              "      <td>0</td>\n",
              "      <td>1</td>\n",
              "      <td>...</td>\n",
              "      <td>0</td>\n",
              "      <td>1581</td>\n",
              "      <td>519</td>\n",
              "      <td>303</td>\n",
              "      <td>10</td>\n",
              "      <td>33.9217</td>\n",
              "      <td>-84.8634</td>\n",
              "      <td>8</td>\n",
              "      <td>1577015200</td>\n",
              "      <td>1</td>\n",
              "    </tr>\n",
              "    <tr>\n",
              "      <th>3781</th>\n",
              "      <td>5508812979</td>\n",
              "      <td>0</td>\n",
              "      <td>406</td>\n",
              "      <td>1164</td>\n",
              "      <td>1</td>\n",
              "      <td>2.0</td>\n",
              "      <td>2.0</td>\n",
              "      <td>0</td>\n",
              "      <td>0</td>\n",
              "      <td>1</td>\n",
              "      <td>...</td>\n",
              "      <td>0</td>\n",
              "      <td>1123</td>\n",
              "      <td>4813</td>\n",
              "      <td>632</td>\n",
              "      <td>32</td>\n",
              "      <td>36.1536</td>\n",
              "      <td>-115.1965</td>\n",
              "      <td>7</td>\n",
              "      <td>1568754593</td>\n",
              "      <td>1</td>\n",
              "    </tr>\n",
              "    <tr>\n",
              "      <th>7850</th>\n",
              "      <td>5664596563</td>\n",
              "      <td>0</td>\n",
              "      <td>5005</td>\n",
              "      <td>3445</td>\n",
              "      <td>0</td>\n",
              "      <td>2.0</td>\n",
              "      <td>3.0</td>\n",
              "      <td>0</td>\n",
              "      <td>0</td>\n",
              "      <td>1</td>\n",
              "      <td>...</td>\n",
              "      <td>0</td>\n",
              "      <td>1778</td>\n",
              "      <td>1645</td>\n",
              "      <td>1093</td>\n",
              "      <td>4</td>\n",
              "      <td>34.4312</td>\n",
              "      <td>-119.7292</td>\n",
              "      <td>8</td>\n",
              "      <td>1577016996</td>\n",
              "      <td>2</td>\n",
              "    </tr>\n",
              "    <tr>\n",
              "      <th>2963</th>\n",
              "      <td>5668639298</td>\n",
              "      <td>0</td>\n",
              "      <td>4157</td>\n",
              "      <td>2686</td>\n",
              "      <td>0</td>\n",
              "      <td>1.0</td>\n",
              "      <td>0.0</td>\n",
              "      <td>0</td>\n",
              "      <td>0</td>\n",
              "      <td>1</td>\n",
              "      <td>...</td>\n",
              "      <td>0</td>\n",
              "      <td>350</td>\n",
              "      <td>810</td>\n",
              "      <td>978</td>\n",
              "      <td>36</td>\n",
              "      <td>45.5091</td>\n",
              "      <td>-122.6449</td>\n",
              "      <td>8</td>\n",
              "      <td>1577360303</td>\n",
              "      <td>1</td>\n",
              "    </tr>\n",
              "  </tbody>\n",
              "</table>\n",
              "<p>5 rows × 23 columns</p>\n",
              "</div>"
            ],
            "text/plain": [
              "              id  category  title  body  amenities  bathrooms  bedrooms  \\\n",
              "6317  5668624413         0   5031  3675          2        2.0       3.0   \n",
              "740   5664573224         0   4839  2411          2        2.0       3.0   \n",
              "3781  5508812979         0    406  1164          1        2.0       2.0   \n",
              "7850  5664596563         0   5005  3445          0        2.0       3.0   \n",
              "2963  5668639298         0   4157  2686          0        1.0       0.0   \n",
              "\n",
              "      currency  fee  thumbnail_photo  ...  price_type  square_feet  address  \\\n",
              "6317         0    0                1  ...           0         1459     1892   \n",
              "740          0    0                1  ...           0         1581      519   \n",
              "3781         0    0                1  ...           0         1123     4813   \n",
              "7850         0    0                1  ...           0         1778     1645   \n",
              "2963         0    0                1  ...           0          350      810   \n",
              "\n",
              "      cityname  state  latitude  longitude  source        time  RentCategory  \n",
              "6317      1055      9   27.7164   -82.4294       8  1577359238             1  \n",
              "740        303     10   33.9217   -84.8634       8  1577015200             1  \n",
              "3781       632     32   36.1536  -115.1965       7  1568754593             1  \n",
              "7850      1093      4   34.4312  -119.7292       8  1577016996             2  \n",
              "2963       978     36   45.5091  -122.6449       8  1577360303             1  \n",
              "\n",
              "[5 rows x 23 columns]"
            ]
          },
          "execution_count": 38,
          "metadata": {},
          "output_type": "execute_result"
        }
      ],
      "source": [
        "train_data.head()"
      ]
    },
    {
      "cell_type": "code",
      "execution_count": 39,
      "metadata": {
        "colab": {
          "base_uri": "https://localhost:8080/"
        },
        "id": "UkUFCbwJ1Gnt",
        "outputId": "3308a61a-20d4-419d-8d6f-7944dc933158"
      },
      "outputs": [
        {
          "name": "stdout",
          "output_type": "stream",
          "text": [
            "<class 'pandas.core.frame.DataFrame'>\n",
            "Index: 7191 entries, 6317 to 7270\n",
            "Data columns (total 22 columns):\n",
            " #   Column           Non-Null Count  Dtype  \n",
            "---  ------           --------------  -----  \n",
            " 0   id               7191 non-null   int64  \n",
            " 1   category         7191 non-null   int64  \n",
            " 2   title            7191 non-null   int64  \n",
            " 3   body             7191 non-null   int64  \n",
            " 4   amenities        7191 non-null   int64  \n",
            " 5   bathrooms        7191 non-null   float64\n",
            " 6   bedrooms         7191 non-null   float64\n",
            " 7   currency         7191 non-null   int64  \n",
            " 8   fee              7191 non-null   int64  \n",
            " 9   thumbnail_photo  7191 non-null   int32  \n",
            " 10  yes_photo        7191 non-null   int32  \n",
            " 11  cats_allowed     7191 non-null   int32  \n",
            " 12  dogs_allowed     7191 non-null   int32  \n",
            " 13  price_type       7191 non-null   int64  \n",
            " 14  square_feet      7191 non-null   int64  \n",
            " 15  address          7191 non-null   int64  \n",
            " 16  cityname         7191 non-null   int64  \n",
            " 17  state            7191 non-null   int64  \n",
            " 18  latitude         7191 non-null   float64\n",
            " 19  longitude        7191 non-null   float64\n",
            " 20  source           7191 non-null   int64  \n",
            " 21  time             7191 non-null   int64  \n",
            "dtypes: float64(4), int32(4), int64(14)\n",
            "memory usage: 1.2 MB\n",
            "None\n"
          ]
        }
      ],
      "source": [
        "from sklearn.preprocessing import MinMaxScaler\n",
        "\n",
        "RentCategoryData = train_data['RentCategory']\n",
        "train_data.drop(columns=['RentCategory'], inplace = True)\n",
        "\n",
        "column_names = train_data.columns\n",
        "\n",
        "# Scale the data\n",
        "scaler = MinMaxScaler(feature_range=(0, 1))\n",
        "print(train_data.info())\n",
        "train_data_scaled = scaler.fit_transform(train_data)\n",
        "\n",
        "# Create a new DataFrame with scaled data\n",
        "train_data_scaled_df = pd.DataFrame(train_data_scaled, columns=column_names)\n",
        "\n",
        "train_data = train_data_scaled_df\n",
        "train_data['RentCategory'] = RentCategoryData.values"
      ]
    },
    {
      "cell_type": "code",
      "execution_count": 40,
      "metadata": {
        "colab": {
          "base_uri": "https://localhost:8080/"
        },
        "id": "r8QNxbBhIc6E",
        "outputId": "60dad38a-304e-4dca-95fb-ec6ecdbce7d2"
      },
      "outputs": [
        {
          "name": "stdout",
          "output_type": "stream",
          "text": [
            "         id  category     title      body  amenities  bathrooms  bedrooms  \\\n",
            "0  0.999762       0.0  0.741817  0.512338   0.111111        0.4  0.857143   \n",
            "1  0.974443       0.0  0.713506  0.336122   0.111111        0.4  0.857143   \n",
            "2  0.000993       0.0  0.059864  0.162275   0.055556        0.4  0.571429   \n",
            "3  0.974589       0.0  0.737983  0.480273   0.000000        0.4  0.857143   \n",
            "4  0.999855       0.0  0.612946  0.374460   0.000000        0.0  0.000000   \n",
            "\n",
            "   currency  fee  thumbnail_photo  ...  price_type  square_feet   address  \\\n",
            "0       0.0  0.0              1.0  ...         0.0     0.809211  0.392857   \n",
            "1       0.0  0.0              1.0  ...         0.0     0.882177  0.107766   \n",
            "2       0.0  0.0              1.0  ...         0.0     0.608254  0.999377   \n",
            "3       0.0  0.0              1.0  ...         0.0     1.000000  0.341570   \n",
            "4       0.0  0.0              1.0  ...         0.0     0.145933  0.168189   \n",
            "\n",
            "   cityname     state  latitude  longitude  source      time  RentCategory  \n",
            "0  0.774028  0.187500  0.158916   0.862182   1.000  0.999658             1  \n",
            "1  0.222304  0.208333  0.312976   0.834421   1.000  0.959738             1  \n",
            "2  0.463683  0.666667  0.368388   0.488453   0.875  0.001232             1  \n",
            "3  0.801908  0.083333  0.325625   0.436755   1.000  0.959946             2  \n",
            "4  0.717535  0.750000  0.600658   0.403499   1.000  0.999782             1  \n",
            "\n",
            "[5 rows x 23 columns]\n"
          ]
        }
      ],
      "source": [
        "print(train_data.head())"
      ]
    },
    {
      "cell_type": "code",
      "execution_count": 41,
      "metadata": {
        "colab": {
          "base_uri": "https://localhost:8080/"
        },
        "id": "hD94reEFIi2e",
        "outputId": "f60e478d-d4c3-40d1-a9db-2883af720843"
      },
      "outputs": [
        {
          "name": "stdout",
          "output_type": "stream",
          "text": [
            "              id  category  title  body  amenities  bathrooms  bedrooms  \\\n",
            "7940  5509201929         0    270  7025         13          2         2   \n",
            "1162  5668627277         0    270  7025          0          1         2   \n",
            "582   5508866806         0    270  7025          5          1         1   \n",
            "4081  5651549929         0    270  7025          4          1         2   \n",
            "8412  5668634408         0    270  7025          0          1         2   \n",
            "\n",
            "      currency  fee  thumbnail_photo  ...  price_type  square_feet  address  \\\n",
            "7940         0    0                0  ...           0         1058     4813   \n",
            "1162         0    0                1  ...           0         1400     4813   \n",
            "582          0    0                1  ...           0          630     4813   \n",
            "4081         0    0                1  ...           0          840     4813   \n",
            "8412         0    0                1  ...           0          600     4813   \n",
            "\n",
            "      cityname  state  latitude  longitude  source        time  RentCategory  \n",
            "7940       892     20   39.0747   -76.7017       7  1568779086             1  \n",
            "1162       234     14   41.8625   -87.6825       8  1577359446             1  \n",
            "582        316      5   39.6767  -104.8854       7  1568758210             1  \n",
            "4081       359     42   31.7951  -106.3886       2  1576189632             0  \n",
            "8412        55     46   47.8920  -122.0581       8  1577359982             1  \n",
            "\n",
            "[5 rows x 23 columns]\n"
          ]
        }
      ],
      "source": [
        "print(test_data.head())"
      ]
    },
    {
      "cell_type": "code",
      "execution_count": 42,
      "metadata": {
        "id": "VhTcTgbCH4XN"
      },
      "outputs": [],
      "source": [
        "RentCategoryDataTest = test_data['RentCategory']\n",
        "test_data.drop(columns=['RentCategory'], inplace=True)\n",
        "\n",
        "test_data_scaled = scaler.transform(test_data)\n",
        "\n",
        "test_data_scaled_df = pd.DataFrame(test_data_scaled, columns=column_names)\n",
        "test_data= test_data_scaled_df\n",
        "test_data['RentCategory'] = RentCategoryDataTest.values\n"
      ]
    },
    {
      "cell_type": "code",
      "execution_count": 43,
      "metadata": {
        "colab": {
          "base_uri": "https://localhost:8080/"
        },
        "id": "KT54BoqpImJu",
        "outputId": "e552e217-bbc9-4ba6-f5c5-fadaea92c748"
      },
      "outputs": [
        {
          "name": "stdout",
          "output_type": "stream",
          "text": [
            "         id  category     title      body  amenities  bathrooms  bedrooms  \\\n",
            "0  0.003424       0.0  0.039811  0.979367   0.722222        0.4  0.571429   \n",
            "1  0.999779       0.0  0.039811  0.979367   0.000000        0.0  0.571429   \n",
            "2  0.001329       0.0  0.039811  0.979367   0.277778        0.0  0.285714   \n",
            "3  0.893052       0.0  0.039811  0.979367   0.222222        0.0  0.571429   \n",
            "4  0.999824       0.0  0.039811  0.979367   0.000000        0.0  0.571429   \n",
            "\n",
            "   currency  fee  thumbnail_photo  ...  price_type  square_feet   address  \\\n",
            "0       0.0  0.0              0.0  ...         0.0     0.569378  0.999377   \n",
            "1       0.0  0.0              1.0  ...         0.0     0.773923  0.999377   \n",
            "2       0.0  0.0              1.0  ...         0.0     0.313397  0.999377   \n",
            "3       0.0  0.0              1.0  ...         0.0     0.438995  0.999377   \n",
            "4       0.0  0.0              1.0  ...         0.0     0.295455  0.999377   \n",
            "\n",
            "   cityname     state  latitude  longitude  source      time  RentCategory  \n",
            "0  0.654439  0.416667  0.440910   0.927510   0.875  0.004074             1  \n",
            "1  0.171680  0.291667  0.510123   0.802267   1.000  0.999682             1  \n",
            "2  0.231842  0.104167  0.455856   0.606058   0.875  0.001652             1  \n",
            "3  0.263390  0.875000  0.260179   0.588913   0.250  0.863945             0  \n",
            "4  0.040352  0.958333  0.659819   0.410192   1.000  0.999744             1  \n",
            "\n",
            "[5 rows x 23 columns]\n"
          ]
        }
      ],
      "source": [
        "print(test_data.head())"
      ]
    },
    {
      "cell_type": "code",
      "execution_count": 44,
      "metadata": {
        "colab": {
          "base_uri": "https://localhost:8080/"
        },
        "id": "tBaQ_JF5T8ya",
        "outputId": "aca5db39-5ed2-4aa9-ef05-fa3f2acd4299"
      },
      "outputs": [
        {
          "name": "stdout",
          "output_type": "stream",
          "text": [
            "<class 'pandas.core.frame.DataFrame'>\n",
            "RangeIndex: 7191 entries, 0 to 7190\n",
            "Data columns (total 23 columns):\n",
            " #   Column           Non-Null Count  Dtype  \n",
            "---  ------           --------------  -----  \n",
            " 0   id               7191 non-null   float64\n",
            " 1   category         7191 non-null   float64\n",
            " 2   title            7191 non-null   float64\n",
            " 3   body             7191 non-null   float64\n",
            " 4   amenities        7191 non-null   float64\n",
            " 5   bathrooms        7191 non-null   float64\n",
            " 6   bedrooms         7191 non-null   float64\n",
            " 7   currency         7191 non-null   float64\n",
            " 8   fee              7191 non-null   float64\n",
            " 9   thumbnail_photo  7191 non-null   float64\n",
            " 10  yes_photo        7191 non-null   float64\n",
            " 11  cats_allowed     7191 non-null   float64\n",
            " 12  dogs_allowed     7191 non-null   float64\n",
            " 13  price_type       7191 non-null   float64\n",
            " 14  square_feet      7191 non-null   float64\n",
            " 15  address          7191 non-null   float64\n",
            " 16  cityname         7191 non-null   float64\n",
            " 17  state            7191 non-null   float64\n",
            " 18  latitude         7191 non-null   float64\n",
            " 19  longitude        7191 non-null   float64\n",
            " 20  source           7191 non-null   float64\n",
            " 21  time             7191 non-null   float64\n",
            " 22  RentCategory     7191 non-null   int64  \n",
            "dtypes: float64(22), int64(1)\n",
            "memory usage: 1.3 MB\n"
          ]
        }
      ],
      "source": [
        "train_data.info()"
      ]
    },
    {
      "cell_type": "code",
      "execution_count": 45,
      "metadata": {
        "colab": {
          "base_uri": "https://localhost:8080/"
        },
        "id": "8PwFPKp6omJd",
        "outputId": "f41f22f5-bcb5-4fe9-da0f-f261abc7bcb2"
      },
      "outputs": [
        {
          "name": "stdout",
          "output_type": "stream",
          "text": [
            "<class 'pandas.core.frame.DataFrame'>\n",
            "RangeIndex: 7191 entries, 0 to 7190\n",
            "Data columns (total 23 columns):\n",
            " #   Column           Non-Null Count  Dtype  \n",
            "---  ------           --------------  -----  \n",
            " 0   id               7191 non-null   float64\n",
            " 1   category         7191 non-null   float64\n",
            " 2   title            7191 non-null   float64\n",
            " 3   body             7191 non-null   float64\n",
            " 4   amenities        7191 non-null   float64\n",
            " 5   bathrooms        7191 non-null   float64\n",
            " 6   bedrooms         7191 non-null   float64\n",
            " 7   currency         7191 non-null   float64\n",
            " 8   fee              7191 non-null   float64\n",
            " 9   thumbnail_photo  7191 non-null   float64\n",
            " 10  yes_photo        7191 non-null   float64\n",
            " 11  cats_allowed     7191 non-null   float64\n",
            " 12  dogs_allowed     7191 non-null   float64\n",
            " 13  price_type       7191 non-null   float64\n",
            " 14  square_feet      7191 non-null   float64\n",
            " 15  address          7191 non-null   float64\n",
            " 16  cityname         7191 non-null   float64\n",
            " 17  state            7191 non-null   float64\n",
            " 18  latitude         7191 non-null   float64\n",
            " 19  longitude        7191 non-null   float64\n",
            " 20  source           7191 non-null   float64\n",
            " 21  time             7191 non-null   float64\n",
            " 22  RentCategory     7191 non-null   int64  \n",
            "dtypes: float64(22), int64(1)\n",
            "memory usage: 1.3 MB\n"
          ]
        }
      ],
      "source": [
        "train_data.info()\n"
      ]
    },
    {
      "cell_type": "code",
      "execution_count": 46,
      "metadata": {
        "id": "dsVer0fBWEGo"
      },
      "outputs": [],
      "source": [
        "# train_data.dropna(axis=1, inplace=True)"
      ]
    },
    {
      "cell_type": "code",
      "execution_count": 47,
      "metadata": {
        "colab": {
          "base_uri": "https://localhost:8080/"
        },
        "id": "CynvFgY7WR1A",
        "outputId": "d0503a10-3a3d-40df-ebfd-791951657573"
      },
      "outputs": [
        {
          "name": "stdout",
          "output_type": "stream",
          "text": [
            "<class 'pandas.core.frame.DataFrame'>\n",
            "RangeIndex: 7191 entries, 0 to 7190\n",
            "Data columns (total 23 columns):\n",
            " #   Column           Non-Null Count  Dtype  \n",
            "---  ------           --------------  -----  \n",
            " 0   id               7191 non-null   float64\n",
            " 1   category         7191 non-null   float64\n",
            " 2   title            7191 non-null   float64\n",
            " 3   body             7191 non-null   float64\n",
            " 4   amenities        7191 non-null   float64\n",
            " 5   bathrooms        7191 non-null   float64\n",
            " 6   bedrooms         7191 non-null   float64\n",
            " 7   currency         7191 non-null   float64\n",
            " 8   fee              7191 non-null   float64\n",
            " 9   thumbnail_photo  7191 non-null   float64\n",
            " 10  yes_photo        7191 non-null   float64\n",
            " 11  cats_allowed     7191 non-null   float64\n",
            " 12  dogs_allowed     7191 non-null   float64\n",
            " 13  price_type       7191 non-null   float64\n",
            " 14  square_feet      7191 non-null   float64\n",
            " 15  address          7191 non-null   float64\n",
            " 16  cityname         7191 non-null   float64\n",
            " 17  state            7191 non-null   float64\n",
            " 18  latitude         7191 non-null   float64\n",
            " 19  longitude        7191 non-null   float64\n",
            " 20  source           7191 non-null   float64\n",
            " 21  time             7191 non-null   float64\n",
            " 22  RentCategory     7191 non-null   int64  \n",
            "dtypes: float64(22), int64(1)\n",
            "memory usage: 1.3 MB\n"
          ]
        }
      ],
      "source": [
        "#train_data.head(7)\n",
        "train_data.info()"
      ]
    },
    {
      "cell_type": "code",
      "execution_count": 48,
      "metadata": {
        "id": "vCewKZtubTcc"
      },
      "outputs": [],
      "source": [
        "# from sklearn.feature_selection import SelectKBest, chi2\n",
        "\n",
        "# # Encode categorical variables if not already done. Assuming it's done in your preprocessing.\n",
        "# # Ensure there are no negative values as chi2 cannot handle them. Chi2 is only for non-negative features and class labels.\n",
        "# # Since you've handled missing values and encoding, you can directly apply Chi-square.\n",
        "\n",
        "# # Applying SelectKBest class to extract top 'k' best features\n",
        "# # Here, 'k' can be any number or you can use 'k='all' to select all features\n",
        "# k = 10  # Example: select the top 10 features\n",
        "# bestfeatures = SelectKBest(score_func=chi2, k=k)\n",
        "# fit = bestfeatures.fit(train_data.drop('RentCategory', axis=1), train_data['RentCategory'])\n",
        "\n",
        "# # Get the scores for each feature\n",
        "# dfscores = pd.DataFrame(fit.scores_)\n",
        "# dfcolumns = pd.DataFrame(train_data.drop('RentCategory', axis=1).columns)\n",
        "\n",
        "# # Concatenate two dataframes for better visualization\n",
        "# featureScores = pd.concat([dfcolumns, dfscores], axis=1)\n",
        "# featureScores.columns = ['Feature', 'Score']  # naming the dataframe columns\n",
        "# print(featureScores.nlargest(k, 'Score'))  # print k best features\n",
        "\n",
        "# # You can now decide to keep only the top k features:\n",
        "# train_data_selected_features = train_data[featureScores.nlargest(k, 'Score')['Feature'].tolist() + ['RentCategory']]"
      ]
    },
    {
      "cell_type": "code",
      "execution_count": 49,
      "metadata": {
        "id": "lUtF5I6hbT8a"
      },
      "outputs": [],
      "source": [
        "# c = train_data.corr()\n",
        "# top_features = c.index[abs(c['RentCategory'])>=0.0]\n",
        "# plt.subplots(figsize=(20, 15))\n",
        "# top_corr = train_data[top_features].corr()\n",
        "# sns.heatmap(top_corr, annot=True)\n",
        "# plt.show()\n",
        "# print(top_features)\n",
        "# top_features = top_features.delete(-1)\n",
        "# print(top_features)\n"
      ]
    },
    {
      "cell_type": "code",
      "execution_count": 50,
      "metadata": {
        "id": "K64fUQ7pKTcq"
      },
      "outputs": [],
      "source": [
        "categorical_columns = ['category', 'title', 'body', 'currency', 'fee', 'yes_photo', 'thumbnail_photo', 'cats_allowed', 'dogs_allowed', 'price_type', 'address', 'cityname', 'state', 'source']\n",
        "numerical_columns = ['id', 'bathrooms', 'bedrooms', 'square_feet', 'latitude', 'longitude', 'time','amenities']\n",
        "\n",
        "categorical_data = train_data[categorical_columns]\n",
        "numerical_data = train_data[numerical_columns]"
      ]
    },
    {
      "cell_type": "markdown",
      "metadata": {
        "id": "995Oc1b6-FWw"
      },
      "source": [
        "## feature Slectoin"
      ]
    },
    {
      "cell_type": "markdown",
      "metadata": {
        "id": "NA3cM5v_NhyU"
      },
      "source": [
        "### mutual information"
      ]
    },
    {
      "cell_type": "code",
      "execution_count": 51,
      "metadata": {
        "id": "fOV_5fk6JTJ2"
      },
      "outputs": [],
      "source": [
        "def select_best_features_mutual_info(X, Y, num_features):\n",
        "    # Compute mutual information scores\n",
        "    mi_scores = mutual_info_classif(X, Y)\n",
        "\n",
        "    # Create a DataFrame to store feature names and their corresponding mutual information scores\n",
        "    mi_df = pd.DataFrame({'Feature': X.columns, 'MI_Score': mi_scores})\n",
        "\n",
        "    # Sort features based on mutual information scores (descending order)\n",
        "    mi_df_sorted = mi_df.sort_values(by='MI_Score', ascending=False)\n",
        "\n",
        "    # Select top features\n",
        "    selected_features = mi_df_sorted.iloc[:num_features]['Feature'].tolist()\n",
        "\n",
        "    # Create DataFrame with selected features\n",
        "    X_top = X[selected_features]\n",
        "\n",
        "    return X_top.columns.tolist()"
      ]
    },
    {
      "cell_type": "markdown",
      "metadata": {
        "id": "dTQGfdmyNrjH"
      },
      "source": [
        "### chi-squared"
      ]
    },
    {
      "cell_type": "code",
      "execution_count": 52,
      "metadata": {
        "id": "0DTaYpODODKr"
      },
      "outputs": [],
      "source": [
        "\n",
        "def select_best_features_chi2(X, Y, num_features):\n",
        "    # SelectKBest with chi-squared as the scoring function\n",
        "    selector = SelectKBest(score_func=chi2, k=num_features)\n",
        "    X_new = selector.fit_transform(X, Y)\n",
        "\n",
        "    # Get chi-squared scores and corresponding feature names\n",
        "    chi2_scores = selector.scores_\n",
        "    feature_names = X.columns\n",
        "\n",
        "    # Create a DataFrame to store feature names and their corresponding chi-squared scores\n",
        "    chi2_df = pd.DataFrame({'Feature': feature_names, 'Chi2_Score': chi2_scores})\n",
        "\n",
        "    # Sort features based on chi-squared scores (descending order)\n",
        "    chi2_df_sorted = chi2_df.sort_values(by='Chi2_Score', ascending=False)\n",
        "\n",
        "    # Select top features\n",
        "    selected_features = chi2_df_sorted.iloc[:num_features]['Feature'].tolist()\n",
        "\n",
        "    # Create DataFrame with selected features\n",
        "    X_top = X[selected_features]\n",
        "\n",
        "    return X_top.columns.tolist()"
      ]
    },
    {
      "cell_type": "markdown",
      "metadata": {
        "id": "yPPJ7FeuAss7"
      },
      "source": [
        "### anova"
      ]
    },
    {
      "cell_type": "code",
      "execution_count": 53,
      "metadata": {
        "id": "kpJ8IcI3Mbaf"
      },
      "outputs": [],
      "source": [
        "def select_best_features_anova(X, Y, num_features):\n",
        "\n",
        "    # Perform ANOVA for feature selection\n",
        "    best_features = SelectKBest(score_func=f_classif, k=num_features)\n",
        "    fit = best_features.fit(X, Y)\n",
        "\n",
        "    # Get ANOVA F-values and corresponding feature names\n",
        "    f_scores = pd.DataFrame(fit.scores_)\n",
        "    feature_names = pd.DataFrame(X.columns)\n",
        "\n",
        "    # Combine feature names and their ANOVA F-values\n",
        "    feature_scores = pd.concat([feature_names, f_scores], axis=1)\n",
        "    feature_scores.columns = ['Feature', 'Score']  # Naming the DataFrame columns\n",
        "\n",
        "    # Sort features based on ANOVA F-values (descending order)\n",
        "    feature_scores_sorted = feature_scores.sort_values(by='Score', ascending=False)\n",
        "\n",
        "    # Select top features\n",
        "    selected_features = feature_scores_sorted.iloc[:num_features]['Feature'].tolist()\n",
        "\n",
        "    # Create DataFrame with selected features\n",
        "    X_top = X[selected_features]\n",
        "\n",
        "    return X_top.columns.tolist()"
      ]
    },
    {
      "cell_type": "markdown",
      "metadata": {
        "id": "nLjvrm3YAwWV"
      },
      "source": [
        "###  kendall"
      ]
    },
    {
      "cell_type": "code",
      "execution_count": 54,
      "metadata": {
        "id": "C0cVvm8iNqgI"
      },
      "outputs": [],
      "source": [
        "def select_best_features_kendall_tau(X, Y, num_features):\n",
        "    # Compute Kendall's tau between each feature and the target\n",
        "    scores, pvalues = [], []\n",
        "    for column in X.columns:\n",
        "        score, pvalue = kendalltau(X[column], Y)\n",
        "        scores.append(score if pd.notnull(score) else 0)  # handle NaN scores\n",
        "        pvalues.append(pvalue)\n",
        "\n",
        "    # Create DataFrame to view scores and p-values\n",
        "    dfscores = pd.DataFrame(scores, index=X.columns, columns=['Score'])\n",
        "    dfpvalues = pd.DataFrame(pvalues, index=X.columns, columns=['PValue'])\n",
        "\n",
        "    # Combine scores and p-values into a single DataFrame\n",
        "    feature_scores = pd.concat([dfscores, dfpvalues], axis=1)\n",
        "    feature_scores.reset_index(inplace=True)\n",
        "    feature_scores.columns = ['Feature', 'Score', 'PValue']  # Rename the DataFrame columns\n",
        "\n",
        "    # Select the top k features based on the score\n",
        "    selected_features = feature_scores.nlargest(num_features, 'Score')['Feature'].tolist()\n",
        "\n",
        "    # Create DataFrame with selected features\n",
        "    X_top = X[selected_features]\n",
        "\n",
        "    return X_top.columns.tolist()"
      ]
    },
    {
      "cell_type": "code",
      "execution_count": 55,
      "metadata": {
        "colab": {
          "base_uri": "https://localhost:8080/"
        },
        "id": "i2eB0vTeAiOe",
        "outputId": "e2b934bf-30b0-4d63-f6f7-935242d30c9c"
      },
      "outputs": [
        {
          "data": {
            "text/plain": [
              "['state',\n",
              " 'yes_photo',\n",
              " 'cats_allowed',\n",
              " 'dogs_allowed',\n",
              " 'cityname',\n",
              " 'square_feet',\n",
              " 'bathrooms',\n",
              " 'bedrooms',\n",
              " 'longitude',\n",
              " 'time']"
            ]
          },
          "execution_count": 55,
          "metadata": {},
          "output_type": "execute_result"
        }
      ],
      "source": [
        "categorical_features = select_best_features_chi2(categorical_data, train_data['RentCategory'], 5)\n",
        "numerical_features = select_best_features_anova(numerical_data, train_data['RentCategory'], 5)\n",
        "\n",
        "X_top_features = categorical_features + numerical_features\n",
        "X_top_features"
      ]
    },
    {
      "cell_type": "code",
      "execution_count": 56,
      "metadata": {
        "id": "oox4KUO7jN4_"
      },
      "outputs": [],
      "source": [
        "X_train = train_data[X_top_features]\n",
        "Y_train = train_data['RentCategory']\n",
        "\n",
        "X_test = test_data[X_top_features]\n",
        "Y_test = test_data['RentCategory']"
      ]
    },
    {
      "cell_type": "markdown",
      "metadata": {
        "id": "Ahnvn5bsAd6B"
      },
      "source": [
        "## models"
      ]
    },
    {
      "cell_type": "code",
      "execution_count": 57,
      "metadata": {
        "colab": {
          "base_uri": "https://localhost:8080/"
        },
        "id": "Y2nQ8tE4cOc-",
        "outputId": "ab0bc090-9541-43f8-c2f5-bd71b3996c65"
      },
      "outputs": [
        {
          "name": "stdout",
          "output_type": "stream",
          "text": [
            "Train accuracy: 0.5620915032679739\n",
            "Test accuracy: 0.5505555555555556\n"
          ]
        }
      ],
      "source": [
        "from sklearn import svm\n",
        "from sklearn.metrics import accuracy_score\n",
        "\n",
        "svm_classifier = svm.SVC(kernel='linear', C=1)\n",
        "\n",
        "svm_classifier.fit(X_train, Y_train)\n",
        "\n",
        "# Make predictions on the training set\n",
        "Y_train_predicted = svm_classifier.predict(X_train)\n",
        "\n",
        "# Compute training accuracy\n",
        "train_accuracy = accuracy_score(Y_train, Y_train_predicted)\n",
        "print(\"Train accuracy:\", train_accuracy)\n",
        "\n",
        "\n",
        "# Make predictions on the test set\n",
        "Y_test_predicted = svm_classifier.predict(X_test)\n",
        "\n",
        "# Compute test accuracy\n",
        "test_accuracy = accuracy_score(Y_test, Y_test_predicted)\n",
        "print(\"Test accuracy:\", test_accuracy)"
      ]
    },
    {
      "cell_type": "code",
      "execution_count": 58,
      "metadata": {
        "colab": {
          "base_uri": "https://localhost:8080/"
        },
        "id": "-5DPPB_CfCgP",
        "outputId": "693ad1c8-d2f3-45a1-c8cc-64474502c743"
      },
      "outputs": [
        {
          "name": "stdout",
          "output_type": "stream",
          "text": [
            "Training accuracy: 0.9556389931859268\n",
            "Test accuracy: 0.7911111111111111\n"
          ]
        }
      ],
      "source": [
        "import xgboost as xgb\n",
        "from sklearn.metrics import accuracy_score\n",
        "\n",
        "# Initialize XGBoost classifier\n",
        "xgb_classifier = xgb.XGBClassifier()\n",
        "\n",
        "# Train XGBoost classifier\n",
        "xgb_classifier.fit(X_train, Y_train)\n",
        "\n",
        "# Make predictions on the training set\n",
        "Y_train_predicted = xgb_classifier.predict(X_train)\n",
        "\n",
        "# Compute training accuracy\n",
        "train_accuracy = accuracy_score(Y_train, Y_train_predicted)\n",
        "print(\"Training accuracy:\", train_accuracy)\n",
        "\n",
        "# Make predictions on the test set\n",
        "Y_test_predicted = xgb_classifier.predict(X_test)\n",
        "\n",
        "# Compute test accuracy\n",
        "test_accuracy = accuracy_score(Y_test, Y_test_predicted)\n",
        "print(\"Test accuracy:\", test_accuracy)"
      ]
    },
    {
      "cell_type": "code",
      "execution_count": 59,
      "metadata": {
        "colab": {
          "base_uri": "https://localhost:8080/"
        },
        "id": "IM130CtOb41j",
        "outputId": "50ebd2cd-b24c-453e-9241-f7b1b90fca4c"
      },
      "outputs": [
        {
          "name": "stdout",
          "output_type": "stream",
          "text": [
            "Random Forest Training accuracy: 0.9851202892504519\n",
            "Random Forest Test accuracy: 0.755\n"
          ]
        }
      ],
      "source": [
        "from sklearn.ensemble import RandomForestClassifier\n",
        "from sklearn.metrics import accuracy_score\n",
        "\n",
        "# Create a Random Forest Classifier\n",
        "rf_classifier = RandomForestClassifier(n_estimators=10, random_state=42)\n",
        "\n",
        "# Fit on training data\n",
        "rf_classifier.fit(X_train, Y_train)\n",
        "\n",
        "# Make predictions on the training set\n",
        "Y_train_predicted_rf = rf_classifier.predict(X_train)\n",
        "\n",
        "# Compute training accuracy\n",
        "train_accuracy_rf = accuracy_score(Y_train, Y_train_predicted_rf)\n",
        "print(\"Random Forest Training accuracy:\", train_accuracy_rf)\n",
        "\n",
        "# Make predictions on the test set\n",
        "Y_test_predicted_rf = rf_classifier.predict(X_test)\n",
        "\n",
        "# Compute test accuracy\n",
        "test_accuracy_rf = accuracy_score(Y_test, Y_test_predicted_rf)\n",
        "print(\"Random Forest Test accuracy:\", test_accuracy_rf)"
      ]
    },
    {
      "cell_type": "code",
      "execution_count": 77,
      "metadata": {
        "colab": {
          "base_uri": "https://localhost:8080/"
        },
        "id": "2ubuIPBM3_12",
        "outputId": "4edc0ab4-6347-4ead-9c22-e604d54bf931"
      },
      "outputs": [
        {
          "name": "stdout",
          "output_type": "stream",
          "text": [
            "KNN Training accuracy: 0.8386872479488249\n",
            "KNN Test accuracy: 0.6655555555555556\n"
          ]
        }
      ],
      "source": [
        "from sklearn.neighbors import KNeighborsClassifier\n",
        "from sklearn.metrics import accuracy_score\n",
        "# Assuming X_train, Y_train contain the training features and labels\n",
        "# Assuming X_test, Y_test contain the test features and labels\n",
        "# Assuming X_top_features contains the selected features\n",
        "# Create KNN model\n",
        "knn_classifier = KNeighborsClassifier(n_neighbors=2)\n",
        "# Fit on training data\n",
        "knn_classifier.fit(X_train, Y_train)\n",
        "# Make predictions on the training set\n",
        "Y_train_predicted_knn = knn_classifier.predict(X_train)\n",
        "# Compute training accuracy\n",
        "train_accuracy_knn = accuracy_score(Y_train, Y_train_predicted_knn)\n",
        "print(\"KNN Training accuracy:\", train_accuracy_knn)\n",
        "\n",
        "# Make predictions on the test set\n",
        "Y_test_predicted_knn = knn_classifier.predict(X_test)\n",
        "\n",
        "# Compute test accuracy\n",
        "test_accuracy_knn = accuracy_score(Y_test, Y_test_predicted_knn)\n",
        "print(\"KNN Test accuracy:\", test_accuracy_knn)"
      ]
    },
    {
      "cell_type": "code",
      "execution_count": 61,
      "metadata": {
        "colab": {
          "base_uri": "https://localhost:8080/"
        },
        "id": "YExILMBE8RmD",
        "outputId": "d4d0911a-dff8-43b3-9a88-f6b888610294"
      },
      "outputs": [
        {
          "name": "stdout",
          "output_type": "stream",
          "text": [
            "Logistic Regression Training accuracy: 0.5939368655263524\n",
            "Logistic Regression Test accuracy: 0.5883333333333334\n"
          ]
        }
      ],
      "source": [
        "from sklearn.linear_model import LogisticRegression\n",
        "from sklearn.metrics import accuracy_score\n",
        "\n",
        "# Assuming X_train and Y_train contain the training features and labels\n",
        "# Assuming X_test and Y_test contain the test features and labels\n",
        "# Assuming X_top_features contains the selected features\n",
        "\n",
        "# Create logistic regression model\n",
        "logreg = LogisticRegression()\n",
        "\n",
        "# Fit on training data\n",
        "logreg.fit(X_train, Y_train)\n",
        "\n",
        "# Make predictions on the training set\n",
        "Y_train_predicted_lr = logreg.predict(X_train)\n",
        "\n",
        "# Compute training accuracy\n",
        "train_accuracy_lr = accuracy_score(Y_train, Y_train_predicted_lr)\n",
        "print(\"Logistic Regression Training accuracy:\", train_accuracy_lr)\n",
        "\n",
        "# Make predictions on the test set\n",
        "Y_test_predicted_lr = logreg.predict(X_test)\n",
        "\n",
        "# Compute test accuracy\n",
        "test_accuracy_lr = accuracy_score(Y_test, Y_test_predicted_lr)\n",
        "print(\"Logistic Regression Test accuracy:\", test_accuracy_lr)\n"
      ]
    },
    {
      "cell_type": "code",
      "execution_count": 62,
      "metadata": {
        "id": "NzCo2yzW4agm"
      },
      "outputs": [],
      "source": [
        "# import numpy as np\n",
        "# import matplotlib.pyplot as plt\n",
        "# from sklearn import svm, datasets\n",
        "\n",
        "# C = 1\n",
        "# svc = svm.SVC(kernel='linear', C=C).fit(X_train, Y_train)\n",
        "# lin_svc = svm.LinearSVC(C=C).fit(X_train, Y_train)\n",
        "# rbf_svc = svm.SVC(kernel='rbf', gamma=1.8, C=C).fit(X_train, Y_train)\n",
        "# poly_svc = svm.SVC(kernel='poly', degree=3, C=C).fit(X_train, Y_train)\n",
        "\n",
        "\n",
        "# Y_train_predicted = svc.predict(X_train)\n",
        "# train_accuracy = accuracy_score(Y_train, Y_train_predicted)\n",
        "# print(f\" svc Train accuracy = \",train_accuracy)\n",
        "\n",
        "\n",
        "# Y_train_predicted = lin_svc.predict(X_train)\n",
        "# train_accuracy = accuracy_score(Y_train, Y_train_predicted)\n",
        "# print(f\" svc Train accuracy = \",train_accuracy)\n",
        "\n",
        "\n",
        "\n",
        "# Y_train_predicted = rbf_svc.predict(X_train)\n",
        "# train_accuracy = accuracy_score(Y_train, Y_train_predicted)\n",
        "# print(f\" svc Train accuracy = \",train_accuracy)"
      ]
    },
    {
      "cell_type": "code",
      "execution_count": 63,
      "metadata": {
        "id": "hidyaGvx8P1Y"
      },
      "outputs": [],
      "source": [
        "\n",
        "\n",
        "# X_train = train_data[X_top_features]\n",
        "# Y_train = train_data['RentCategory']\n",
        "# logreg = LogisticRegression()\n",
        "\n",
        "# logreg.fit(X_train, Y_train)\n",
        "\n",
        "# filename = 'finalized_model.sav'\n",
        "\n",
        "\n",
        "\n",
        "# loaded_model = pickle.load(open(filename, 'rb'))\n",
        "# result = loaded_model.score(X_train, Y_train)\n",
        "# result"
      ]
    },
    {
      "cell_type": "code",
      "execution_count": 64,
      "metadata": {
        "colab": {
          "base_uri": "https://localhost:8080/",
          "height": 110
        },
        "id": "-Palw_-gmXcF",
        "outputId": "9313e4f3-aed4-4ebf-f2e7-f9aca95cd14e"
      },
      "outputs": [
        {
          "data": {
            "text/html": [
              "<style>#sk-container-id-1 {\n",
              "  /* Definition of color scheme common for light and dark mode */\n",
              "  --sklearn-color-text: black;\n",
              "  --sklearn-color-line: gray;\n",
              "  /* Definition of color scheme for unfitted estimators */\n",
              "  --sklearn-color-unfitted-level-0: #fff5e6;\n",
              "  --sklearn-color-unfitted-level-1: #f6e4d2;\n",
              "  --sklearn-color-unfitted-level-2: #ffe0b3;\n",
              "  --sklearn-color-unfitted-level-3: chocolate;\n",
              "  /* Definition of color scheme for fitted estimators */\n",
              "  --sklearn-color-fitted-level-0: #f0f8ff;\n",
              "  --sklearn-color-fitted-level-1: #d4ebff;\n",
              "  --sklearn-color-fitted-level-2: #b3dbfd;\n",
              "  --sklearn-color-fitted-level-3: cornflowerblue;\n",
              "\n",
              "  /* Specific color for light theme */\n",
              "  --sklearn-color-text-on-default-background: var(--sg-text-color, var(--theme-code-foreground, var(--jp-content-font-color1, black)));\n",
              "  --sklearn-color-background: var(--sg-background-color, var(--theme-background, var(--jp-layout-color0, white)));\n",
              "  --sklearn-color-border-box: var(--sg-text-color, var(--theme-code-foreground, var(--jp-content-font-color1, black)));\n",
              "  --sklearn-color-icon: #696969;\n",
              "\n",
              "  @media (prefers-color-scheme: dark) {\n",
              "    /* Redefinition of color scheme for dark theme */\n",
              "    --sklearn-color-text-on-default-background: var(--sg-text-color, var(--theme-code-foreground, var(--jp-content-font-color1, white)));\n",
              "    --sklearn-color-background: var(--sg-background-color, var(--theme-background, var(--jp-layout-color0, #111)));\n",
              "    --sklearn-color-border-box: var(--sg-text-color, var(--theme-code-foreground, var(--jp-content-font-color1, white)));\n",
              "    --sklearn-color-icon: #878787;\n",
              "  }\n",
              "}\n",
              "\n",
              "#sk-container-id-1 {\n",
              "  color: var(--sklearn-color-text);\n",
              "}\n",
              "\n",
              "#sk-container-id-1 pre {\n",
              "  padding: 0;\n",
              "}\n",
              "\n",
              "#sk-container-id-1 input.sk-hidden--visually {\n",
              "  border: 0;\n",
              "  clip: rect(1px 1px 1px 1px);\n",
              "  clip: rect(1px, 1px, 1px, 1px);\n",
              "  height: 1px;\n",
              "  margin: -1px;\n",
              "  overflow: hidden;\n",
              "  padding: 0;\n",
              "  position: absolute;\n",
              "  width: 1px;\n",
              "}\n",
              "\n",
              "#sk-container-id-1 div.sk-dashed-wrapped {\n",
              "  border: 1px dashed var(--sklearn-color-line);\n",
              "  margin: 0 0.4em 0.5em 0.4em;\n",
              "  box-sizing: border-box;\n",
              "  padding-bottom: 0.4em;\n",
              "  background-color: var(--sklearn-color-background);\n",
              "}\n",
              "\n",
              "#sk-container-id-1 div.sk-container {\n",
              "  /* jupyter's `normalize.less` sets `[hidden] { display: none; }`\n",
              "     but bootstrap.min.css set `[hidden] { display: none !important; }`\n",
              "     so we also need the `!important` here to be able to override the\n",
              "     default hidden behavior on the sphinx rendered scikit-learn.org.\n",
              "     See: https://github.com/scikit-learn/scikit-learn/issues/21755 */\n",
              "  display: inline-block !important;\n",
              "  position: relative;\n",
              "}\n",
              "\n",
              "#sk-container-id-1 div.sk-text-repr-fallback {\n",
              "  display: none;\n",
              "}\n",
              "\n",
              "div.sk-parallel-item,\n",
              "div.sk-serial,\n",
              "div.sk-item {\n",
              "  /* draw centered vertical line to link estimators */\n",
              "  background-image: linear-gradient(var(--sklearn-color-text-on-default-background), var(--sklearn-color-text-on-default-background));\n",
              "  background-size: 2px 100%;\n",
              "  background-repeat: no-repeat;\n",
              "  background-position: center center;\n",
              "}\n",
              "\n",
              "/* Parallel-specific style estimator block */\n",
              "\n",
              "#sk-container-id-1 div.sk-parallel-item::after {\n",
              "  content: \"\";\n",
              "  width: 100%;\n",
              "  border-bottom: 2px solid var(--sklearn-color-text-on-default-background);\n",
              "  flex-grow: 1;\n",
              "}\n",
              "\n",
              "#sk-container-id-1 div.sk-parallel {\n",
              "  display: flex;\n",
              "  align-items: stretch;\n",
              "  justify-content: center;\n",
              "  background-color: var(--sklearn-color-background);\n",
              "  position: relative;\n",
              "}\n",
              "\n",
              "#sk-container-id-1 div.sk-parallel-item {\n",
              "  display: flex;\n",
              "  flex-direction: column;\n",
              "}\n",
              "\n",
              "#sk-container-id-1 div.sk-parallel-item:first-child::after {\n",
              "  align-self: flex-end;\n",
              "  width: 50%;\n",
              "}\n",
              "\n",
              "#sk-container-id-1 div.sk-parallel-item:last-child::after {\n",
              "  align-self: flex-start;\n",
              "  width: 50%;\n",
              "}\n",
              "\n",
              "#sk-container-id-1 div.sk-parallel-item:only-child::after {\n",
              "  width: 0;\n",
              "}\n",
              "\n",
              "/* Serial-specific style estimator block */\n",
              "\n",
              "#sk-container-id-1 div.sk-serial {\n",
              "  display: flex;\n",
              "  flex-direction: column;\n",
              "  align-items: center;\n",
              "  background-color: var(--sklearn-color-background);\n",
              "  padding-right: 1em;\n",
              "  padding-left: 1em;\n",
              "}\n",
              "\n",
              "\n",
              "/* Toggleable style: style used for estimator/Pipeline/ColumnTransformer box that is\n",
              "clickable and can be expanded/collapsed.\n",
              "- Pipeline and ColumnTransformer use this feature and define the default style\n",
              "- Estimators will overwrite some part of the style using the `sk-estimator` class\n",
              "*/\n",
              "\n",
              "/* Pipeline and ColumnTransformer style (default) */\n",
              "\n",
              "#sk-container-id-1 div.sk-toggleable {\n",
              "  /* Default theme specific background. It is overwritten whether we have a\n",
              "  specific estimator or a Pipeline/ColumnTransformer */\n",
              "  background-color: var(--sklearn-color-background);\n",
              "}\n",
              "\n",
              "/* Toggleable label */\n",
              "#sk-container-id-1 label.sk-toggleable__label {\n",
              "  cursor: pointer;\n",
              "  display: block;\n",
              "  width: 100%;\n",
              "  margin-bottom: 0;\n",
              "  padding: 0.5em;\n",
              "  box-sizing: border-box;\n",
              "  text-align: center;\n",
              "}\n",
              "\n",
              "#sk-container-id-1 label.sk-toggleable__label-arrow:before {\n",
              "  /* Arrow on the left of the label */\n",
              "  content: \"▸\";\n",
              "  float: left;\n",
              "  margin-right: 0.25em;\n",
              "  color: var(--sklearn-color-icon);\n",
              "}\n",
              "\n",
              "#sk-container-id-1 label.sk-toggleable__label-arrow:hover:before {\n",
              "  color: var(--sklearn-color-text);\n",
              "}\n",
              "\n",
              "/* Toggleable content - dropdown */\n",
              "\n",
              "#sk-container-id-1 div.sk-toggleable__content {\n",
              "  max-height: 0;\n",
              "  max-width: 0;\n",
              "  overflow: hidden;\n",
              "  text-align: left;\n",
              "  /* unfitted */\n",
              "  background-color: var(--sklearn-color-unfitted-level-0);\n",
              "}\n",
              "\n",
              "#sk-container-id-1 div.sk-toggleable__content.fitted {\n",
              "  /* fitted */\n",
              "  background-color: var(--sklearn-color-fitted-level-0);\n",
              "}\n",
              "\n",
              "#sk-container-id-1 div.sk-toggleable__content pre {\n",
              "  margin: 0.2em;\n",
              "  border-radius: 0.25em;\n",
              "  color: var(--sklearn-color-text);\n",
              "  /* unfitted */\n",
              "  background-color: var(--sklearn-color-unfitted-level-0);\n",
              "}\n",
              "\n",
              "#sk-container-id-1 div.sk-toggleable__content.fitted pre {\n",
              "  /* unfitted */\n",
              "  background-color: var(--sklearn-color-fitted-level-0);\n",
              "}\n",
              "\n",
              "#sk-container-id-1 input.sk-toggleable__control:checked~div.sk-toggleable__content {\n",
              "  /* Expand drop-down */\n",
              "  max-height: 200px;\n",
              "  max-width: 100%;\n",
              "  overflow: auto;\n",
              "}\n",
              "\n",
              "#sk-container-id-1 input.sk-toggleable__control:checked~label.sk-toggleable__label-arrow:before {\n",
              "  content: \"▾\";\n",
              "}\n",
              "\n",
              "/* Pipeline/ColumnTransformer-specific style */\n",
              "\n",
              "#sk-container-id-1 div.sk-label input.sk-toggleable__control:checked~label.sk-toggleable__label {\n",
              "  color: var(--sklearn-color-text);\n",
              "  background-color: var(--sklearn-color-unfitted-level-2);\n",
              "}\n",
              "\n",
              "#sk-container-id-1 div.sk-label.fitted input.sk-toggleable__control:checked~label.sk-toggleable__label {\n",
              "  background-color: var(--sklearn-color-fitted-level-2);\n",
              "}\n",
              "\n",
              "/* Estimator-specific style */\n",
              "\n",
              "/* Colorize estimator box */\n",
              "#sk-container-id-1 div.sk-estimator input.sk-toggleable__control:checked~label.sk-toggleable__label {\n",
              "  /* unfitted */\n",
              "  background-color: var(--sklearn-color-unfitted-level-2);\n",
              "}\n",
              "\n",
              "#sk-container-id-1 div.sk-estimator.fitted input.sk-toggleable__control:checked~label.sk-toggleable__label {\n",
              "  /* fitted */\n",
              "  background-color: var(--sklearn-color-fitted-level-2);\n",
              "}\n",
              "\n",
              "#sk-container-id-1 div.sk-label label.sk-toggleable__label,\n",
              "#sk-container-id-1 div.sk-label label {\n",
              "  /* The background is the default theme color */\n",
              "  color: var(--sklearn-color-text-on-default-background);\n",
              "}\n",
              "\n",
              "/* On hover, darken the color of the background */\n",
              "#sk-container-id-1 div.sk-label:hover label.sk-toggleable__label {\n",
              "  color: var(--sklearn-color-text);\n",
              "  background-color: var(--sklearn-color-unfitted-level-2);\n",
              "}\n",
              "\n",
              "/* Label box, darken color on hover, fitted */\n",
              "#sk-container-id-1 div.sk-label.fitted:hover label.sk-toggleable__label.fitted {\n",
              "  color: var(--sklearn-color-text);\n",
              "  background-color: var(--sklearn-color-fitted-level-2);\n",
              "}\n",
              "\n",
              "/* Estimator label */\n",
              "\n",
              "#sk-container-id-1 div.sk-label label {\n",
              "  font-family: monospace;\n",
              "  font-weight: bold;\n",
              "  display: inline-block;\n",
              "  line-height: 1.2em;\n",
              "}\n",
              "\n",
              "#sk-container-id-1 div.sk-label-container {\n",
              "  text-align: center;\n",
              "}\n",
              "\n",
              "/* Estimator-specific */\n",
              "#sk-container-id-1 div.sk-estimator {\n",
              "  font-family: monospace;\n",
              "  border: 1px dotted var(--sklearn-color-border-box);\n",
              "  border-radius: 0.25em;\n",
              "  box-sizing: border-box;\n",
              "  margin-bottom: 0.5em;\n",
              "  /* unfitted */\n",
              "  background-color: var(--sklearn-color-unfitted-level-0);\n",
              "}\n",
              "\n",
              "#sk-container-id-1 div.sk-estimator.fitted {\n",
              "  /* fitted */\n",
              "  background-color: var(--sklearn-color-fitted-level-0);\n",
              "}\n",
              "\n",
              "/* on hover */\n",
              "#sk-container-id-1 div.sk-estimator:hover {\n",
              "  /* unfitted */\n",
              "  background-color: var(--sklearn-color-unfitted-level-2);\n",
              "}\n",
              "\n",
              "#sk-container-id-1 div.sk-estimator.fitted:hover {\n",
              "  /* fitted */\n",
              "  background-color: var(--sklearn-color-fitted-level-2);\n",
              "}\n",
              "\n",
              "/* Specification for estimator info (e.g. \"i\" and \"?\") */\n",
              "\n",
              "/* Common style for \"i\" and \"?\" */\n",
              "\n",
              ".sk-estimator-doc-link,\n",
              "a:link.sk-estimator-doc-link,\n",
              "a:visited.sk-estimator-doc-link {\n",
              "  float: right;\n",
              "  font-size: smaller;\n",
              "  line-height: 1em;\n",
              "  font-family: monospace;\n",
              "  background-color: var(--sklearn-color-background);\n",
              "  border-radius: 1em;\n",
              "  height: 1em;\n",
              "  width: 1em;\n",
              "  text-decoration: none !important;\n",
              "  margin-left: 1ex;\n",
              "  /* unfitted */\n",
              "  border: var(--sklearn-color-unfitted-level-1) 1pt solid;\n",
              "  color: var(--sklearn-color-unfitted-level-1);\n",
              "}\n",
              "\n",
              ".sk-estimator-doc-link.fitted,\n",
              "a:link.sk-estimator-doc-link.fitted,\n",
              "a:visited.sk-estimator-doc-link.fitted {\n",
              "  /* fitted */\n",
              "  border: var(--sklearn-color-fitted-level-1) 1pt solid;\n",
              "  color: var(--sklearn-color-fitted-level-1);\n",
              "}\n",
              "\n",
              "/* On hover */\n",
              "div.sk-estimator:hover .sk-estimator-doc-link:hover,\n",
              ".sk-estimator-doc-link:hover,\n",
              "div.sk-label-container:hover .sk-estimator-doc-link:hover,\n",
              ".sk-estimator-doc-link:hover {\n",
              "  /* unfitted */\n",
              "  background-color: var(--sklearn-color-unfitted-level-3);\n",
              "  color: var(--sklearn-color-background);\n",
              "  text-decoration: none;\n",
              "}\n",
              "\n",
              "div.sk-estimator.fitted:hover .sk-estimator-doc-link.fitted:hover,\n",
              ".sk-estimator-doc-link.fitted:hover,\n",
              "div.sk-label-container:hover .sk-estimator-doc-link.fitted:hover,\n",
              ".sk-estimator-doc-link.fitted:hover {\n",
              "  /* fitted */\n",
              "  background-color: var(--sklearn-color-fitted-level-3);\n",
              "  color: var(--sklearn-color-background);\n",
              "  text-decoration: none;\n",
              "}\n",
              "\n",
              "/* Span, style for the box shown on hovering the info icon */\n",
              ".sk-estimator-doc-link span {\n",
              "  display: none;\n",
              "  z-index: 9999;\n",
              "  position: relative;\n",
              "  font-weight: normal;\n",
              "  right: .2ex;\n",
              "  padding: .5ex;\n",
              "  margin: .5ex;\n",
              "  width: min-content;\n",
              "  min-width: 20ex;\n",
              "  max-width: 50ex;\n",
              "  color: var(--sklearn-color-text);\n",
              "  box-shadow: 2pt 2pt 4pt #999;\n",
              "  /* unfitted */\n",
              "  background: var(--sklearn-color-unfitted-level-0);\n",
              "  border: .5pt solid var(--sklearn-color-unfitted-level-3);\n",
              "}\n",
              "\n",
              ".sk-estimator-doc-link.fitted span {\n",
              "  /* fitted */\n",
              "  background: var(--sklearn-color-fitted-level-0);\n",
              "  border: var(--sklearn-color-fitted-level-3);\n",
              "}\n",
              "\n",
              ".sk-estimator-doc-link:hover span {\n",
              "  display: block;\n",
              "}\n",
              "\n",
              "/* \"?\"-specific style due to the `<a>` HTML tag */\n",
              "\n",
              "#sk-container-id-1 a.estimator_doc_link {\n",
              "  float: right;\n",
              "  font-size: 1rem;\n",
              "  line-height: 1em;\n",
              "  font-family: monospace;\n",
              "  background-color: var(--sklearn-color-background);\n",
              "  border-radius: 1rem;\n",
              "  height: 1rem;\n",
              "  width: 1rem;\n",
              "  text-decoration: none;\n",
              "  /* unfitted */\n",
              "  color: var(--sklearn-color-unfitted-level-1);\n",
              "  border: var(--sklearn-color-unfitted-level-1) 1pt solid;\n",
              "}\n",
              "\n",
              "#sk-container-id-1 a.estimator_doc_link.fitted {\n",
              "  /* fitted */\n",
              "  border: var(--sklearn-color-fitted-level-1) 1pt solid;\n",
              "  color: var(--sklearn-color-fitted-level-1);\n",
              "}\n",
              "\n",
              "/* On hover */\n",
              "#sk-container-id-1 a.estimator_doc_link:hover {\n",
              "  /* unfitted */\n",
              "  background-color: var(--sklearn-color-unfitted-level-3);\n",
              "  color: var(--sklearn-color-background);\n",
              "  text-decoration: none;\n",
              "}\n",
              "\n",
              "#sk-container-id-1 a.estimator_doc_link.fitted:hover {\n",
              "  /* fitted */\n",
              "  background-color: var(--sklearn-color-fitted-level-3);\n",
              "}\n",
              "</style><div id=\"sk-container-id-1\" class=\"sk-top-container\"><div class=\"sk-text-repr-fallback\"><pre>VotingClassifier(estimators=[(&#x27;lr&#x27;, LogisticRegression()),\n",
              "                             (&#x27;dt&#x27;, DecisionTreeClassifier()),\n",
              "                             (&#x27;svm&#x27;, SVC(probability=True))],\n",
              "                 voting=&#x27;soft&#x27;)</pre><b>In a Jupyter environment, please rerun this cell to show the HTML representation or trust the notebook. <br />On GitHub, the HTML representation is unable to render, please try loading this page with nbviewer.org.</b></div><div class=\"sk-container\" hidden><div class=\"sk-item sk-dashed-wrapped\"><div class=\"sk-label-container\"><div class=\"sk-label fitted sk-toggleable\"><input class=\"sk-toggleable__control sk-hidden--visually\" id=\"sk-estimator-id-1\" type=\"checkbox\" ><label for=\"sk-estimator-id-1\" class=\"sk-toggleable__label fitted sk-toggleable__label-arrow fitted\">&nbsp;&nbsp;VotingClassifier<a class=\"sk-estimator-doc-link fitted\" rel=\"noreferrer\" target=\"_blank\" href=\"https://scikit-learn.org/1.4/modules/generated/sklearn.ensemble.VotingClassifier.html\">?<span>Documentation for VotingClassifier</span></a><span class=\"sk-estimator-doc-link fitted\">i<span>Fitted</span></span></label><div class=\"sk-toggleable__content fitted\"><pre>VotingClassifier(estimators=[(&#x27;lr&#x27;, LogisticRegression()),\n",
              "                             (&#x27;dt&#x27;, DecisionTreeClassifier()),\n",
              "                             (&#x27;svm&#x27;, SVC(probability=True))],\n",
              "                 voting=&#x27;soft&#x27;)</pre></div> </div></div><div class=\"sk-parallel\"><div class=\"sk-parallel-item\"><div class=\"sk-item\"><div class=\"sk-label-container\"><div class=\"sk-label fitted sk-toggleable\"><label>lr</label></div></div><div class=\"sk-serial\"><div class=\"sk-item\"><div class=\"sk-estimator fitted sk-toggleable\"><input class=\"sk-toggleable__control sk-hidden--visually\" id=\"sk-estimator-id-2\" type=\"checkbox\" ><label for=\"sk-estimator-id-2\" class=\"sk-toggleable__label fitted sk-toggleable__label-arrow fitted\">&nbsp;LogisticRegression<a class=\"sk-estimator-doc-link fitted\" rel=\"noreferrer\" target=\"_blank\" href=\"https://scikit-learn.org/1.4/modules/generated/sklearn.linear_model.LogisticRegression.html\">?<span>Documentation for LogisticRegression</span></a></label><div class=\"sk-toggleable__content fitted\"><pre>LogisticRegression()</pre></div> </div></div></div></div></div><div class=\"sk-parallel-item\"><div class=\"sk-item\"><div class=\"sk-label-container\"><div class=\"sk-label fitted sk-toggleable\"><label>dt</label></div></div><div class=\"sk-serial\"><div class=\"sk-item\"><div class=\"sk-estimator fitted sk-toggleable\"><input class=\"sk-toggleable__control sk-hidden--visually\" id=\"sk-estimator-id-3\" type=\"checkbox\" ><label for=\"sk-estimator-id-3\" class=\"sk-toggleable__label fitted sk-toggleable__label-arrow fitted\">&nbsp;DecisionTreeClassifier<a class=\"sk-estimator-doc-link fitted\" rel=\"noreferrer\" target=\"_blank\" href=\"https://scikit-learn.org/1.4/modules/generated/sklearn.tree.DecisionTreeClassifier.html\">?<span>Documentation for DecisionTreeClassifier</span></a></label><div class=\"sk-toggleable__content fitted\"><pre>DecisionTreeClassifier()</pre></div> </div></div></div></div></div><div class=\"sk-parallel-item\"><div class=\"sk-item\"><div class=\"sk-label-container\"><div class=\"sk-label fitted sk-toggleable\"><label>svm</label></div></div><div class=\"sk-serial\"><div class=\"sk-item\"><div class=\"sk-estimator fitted sk-toggleable\"><input class=\"sk-toggleable__control sk-hidden--visually\" id=\"sk-estimator-id-4\" type=\"checkbox\" ><label for=\"sk-estimator-id-4\" class=\"sk-toggleable__label fitted sk-toggleable__label-arrow fitted\">&nbsp;SVC<a class=\"sk-estimator-doc-link fitted\" rel=\"noreferrer\" target=\"_blank\" href=\"https://scikit-learn.org/1.4/modules/generated/sklearn.svm.SVC.html\">?<span>Documentation for SVC</span></a></label><div class=\"sk-toggleable__content fitted\"><pre>SVC(probability=True)</pre></div> </div></div></div></div></div></div></div></div></div>"
            ],
            "text/plain": [
              "VotingClassifier(estimators=[('lr', LogisticRegression()),\n",
              "                             ('dt', DecisionTreeClassifier()),\n",
              "                             ('svm', SVC(probability=True))],\n",
              "                 voting='soft')"
            ]
          },
          "execution_count": 64,
          "metadata": {},
          "output_type": "execute_result"
        }
      ],
      "source": [
        "from sklearn.tree import DecisionTreeClassifier\n",
        "from sklearn.ensemble import VotingClassifier\n",
        "clf1 = LogisticRegression()\n",
        "clf2 = DecisionTreeClassifier()\n",
        "clf3 = SVC(probability=True)\n",
        "voting_clf = VotingClassifier(estimators=[('lr', clf1), ('dt', clf2), ('svm', clf3)], voting='soft')\n",
        "voting_clf.fit(X_train, Y_train)\n",
        "\n",
        "# Predict on test set\n"
      ]
    },
    {
      "cell_type": "code",
      "execution_count": 65,
      "metadata": {
        "colab": {
          "base_uri": "https://localhost:8080/"
        },
        "id": "2r8bJ5O7nUWz",
        "outputId": "b470001e-8d22-4d91-9761-8b33d24b6d8b"
      },
      "outputs": [
        {
          "name": "stdout",
          "output_type": "stream",
          "text": [
            "Train Accuracy: 0.9356139618968154\n",
            "Test Accuracy: 0.7\n"
          ]
        }
      ],
      "source": [
        "y_pred_train = voting_clf.predict(X_train)\n",
        "y_pred_test = voting_clf.predict(X_test)\n",
        "\n",
        "# Calculate accuracy\n",
        "train_accuracy = accuracy_score(Y_train, y_pred_train)\n",
        "test_accuracy = accuracy_score(Y_test, y_pred_test)\n",
        "print(\"Train Accuracy:\", train_accuracy)\n",
        "print(\"Test Accuracy:\", test_accuracy)"
      ]
    },
    {
      "cell_type": "code",
      "execution_count": 66,
      "metadata": {
        "colab": {
          "base_uri": "https://localhost:8080/"
        },
        "id": "DiFdsHdaosc7",
        "outputId": "e055c51d-71b3-45f7-f34f-fe48200469ae"
      },
      "outputs": [
        {
          "name": "stdout",
          "output_type": "stream",
          "text": [
            "Train Accuracy: 0.9179529968015575\n",
            "Test Accuracy: 0.7011111111111111\n"
          ]
        }
      ],
      "source": [
        "from sklearn.ensemble import StackingClassifier\n",
        "meta_clf = LogisticRegression()\n",
        "\n",
        "stacking_clf = StackingClassifier(estimators=[('dt', clf1), ('svm', clf2), ('rf', clf3)], final_estimator=meta_clf)\n",
        "stacking_clf.fit(X_train, Y_train)\n",
        "y_pred_train = stacking_clf.predict(X_train)\n",
        "y_pred_test = stacking_clf.predict(X_test)\n",
        "train_accuracy = accuracy_score(Y_train, y_pred_train)\n",
        "test_accuracy = accuracy_score(Y_test, y_pred_test)\n",
        "print(\"Train Accuracy:\", train_accuracy)\n",
        "print(\"Test Accuracy:\", test_accuracy)"
      ]
    },
    {
      "cell_type": "code",
      "execution_count": 67,
      "metadata": {
        "id": "1aBOQi5QQ2cb"
      },
      "outputs": [],
      "source": [
        "with open('testScript.pkl', 'wb') as f:\n",
        "    pickle.dump(rf_classifier,f)\n",
        "    pickle.dump(ce, f)\n",
        "    pickle.dump(mam, f)\n",
        "    pickle.dump(city_KP, f)\n",
        "    pickle.dump(state_KP, f)\n",
        "    pickle.dump(photo_ohe, f)\n",
        "    pickle.dump(pets_ohe, f)\n",
        "    pickle.dump(scaler, f)\n",
        "    for lbl in lbls:\n",
        "      pickle.dump(lbl, f)\n",
        "\n",
        "\n"
      ]
    },
    {
      "cell_type": "code",
      "execution_count": 68,
      "metadata": {
        "id": "88apY8LsXWz1"
      },
      "outputs": [],
      "source": [
        "loaded_lbls = []\n",
        "with open('testScript.pkl', 'rb') as f:\n",
        "    loaded_rf = pickle.load(f)\n",
        "    loaded_ce = pickle.load(f)\n",
        "    loaded_mam = pickle.load(f)\n",
        "    loaded_city_KP = pickle.load(f)\n",
        "    loaded_state_KP = pickle.load(f)\n",
        "    loaded_photo_ohe = pickle.load(f)\n",
        "    loaded_pets_ohe = pickle.load(f)\n",
        "    loaded_scaler = pickle.load(f)\n",
        "    for lbl in lbls:\n",
        "      loaded_lbls.append(pickle.load(f))\n"
      ]
    },
    {
      "cell_type": "code",
      "execution_count": 69,
      "metadata": {
        "id": "I667nzYJEVcN"
      },
      "outputs": [],
      "source": [
        "data = pd.read_csv('ApartmentRentPrediction_Milestone2.csv')\n",
        "\n",
        "\n",
        "data['amenities'] = loaded_ce.transform(data['amenities'])\n",
        "\n",
        "\n",
        "data['latitude'] = loaded_mam.transform(data['latitude'])\n",
        "data['longitude'] = loaded_mam.transform(data['longitude'])\n",
        "\n",
        "data['cityname'] = loaded_city_KP.transform(data.loc[:, ['latitude', 'longitude']], data['cityname'])\n",
        "data['state'] = loaded_state_KP.transform(data.loc[:, ['latitude', 'longitude']], data['state'])\n",
        "\n",
        "loaded_pets_ohe.transform(data)\n",
        "\n",
        "loaded_photo_ohe.transform(data)\n",
        "data.drop(columns=['no_photo'],inplace = True)\n",
        "for col in data.columns:\n",
        "  data[col] = loaded_mam.transform(data[col])\n",
        "\n",
        "\n",
        "# data['bathrooms'] = loaded_mam.transform(data['bathrooms'])\n",
        "# data['bedrooms']  = loaded_mam.transform(data['bedrooms'])\n",
        "# data['address'] = loaded_mam.transform(data['address'])\n",
        "\n",
        "data['bathrooms'] = data['bathrooms'].astype(int)\n",
        "data['bedrooms'] = data['bedrooms'].astype(int)\n"
      ]
    },
    {
      "cell_type": "code",
      "execution_count": 70,
      "metadata": {
        "id": "c99tDrO0YBRw"
      },
      "outputs": [],
      "source": [
        "data['RentCategory'] = data['RentCategory'].replace({'Medium-Priced Rent': 1, 'Low Rent': 0, 'High Rent': 2})\n"
      ]
    },
    {
      "cell_type": "code",
      "execution_count": 71,
      "metadata": {
        "id": "LRTRVCMErY0n"
      },
      "outputs": [],
      "source": [
        "cols=('category','title','body','cityname', 'state', 'source', 'address','fee','currency','price_type')\n",
        "for c in cols:\n",
        "  lbl = loaded_lbls.pop(0)\n",
        "  for idx, val in data[c].items():\n",
        "    if val not in lbl.classes_:\n",
        "      data.at[idx,c]= loaded_mam.special[c]\n",
        "  data[c] = lbl.transform(data[c])\n",
        "\n"
      ]
    },
    {
      "cell_type": "code",
      "execution_count": 72,
      "metadata": {
        "id": "9qrMf7urZqfe"
      },
      "outputs": [],
      "source": [
        "RentCategoryData = data['RentCategory']\n",
        "data.drop(columns=['RentCategory'], inplace = True)\n",
        "\n",
        "column_names = data.columns\n",
        "\n",
        "data_scaled = loaded_scaler.transform(data)\n",
        "\n",
        "data_scaled_df = pd.DataFrame(data_scaled, columns=column_names)\n",
        "\n",
        "data = data_scaled_df\n",
        "data['RentCategory'] = RentCategoryData.values"
      ]
    },
    {
      "cell_type": "code",
      "execution_count": 73,
      "metadata": {
        "colab": {
          "base_uri": "https://localhost:8080/"
        },
        "id": "SdsDkz4W9GC_",
        "outputId": "63e8e2d1-584b-48dd-82d5-3f03173b1916"
      },
      "outputs": [
        {
          "name": "stdout",
          "output_type": "stream",
          "text": [
            "Random Forest accuracy: 0.9387777777777778\n"
          ]
        }
      ],
      "source": [
        "y = data['RentCategory']\n",
        "x_rf = data[['state','yes_photo','cats_allowed','dogs_allowed','cityname','square_feet','bathrooms','bedrooms','longitude','time']]\n",
        "\n",
        "\n",
        "y_pred = loaded_rf.predict(x_rf)\n",
        "print(\"Random Forest accuracy:\", accuracy_score(y, y_pred))"
      ]
    },
    {
      "cell_type": "code",
      "execution_count": null,
      "metadata": {
        "id": "oPV6PTrz-Zhj"
      },
      "outputs": [],
      "source": []
    },
    {
      "cell_type": "code",
      "execution_count": null,
      "metadata": {},
      "outputs": [],
      "source": []
    },
    {
      "cell_type": "code",
      "execution_count": null,
      "metadata": {},
      "outputs": [],
      "source": []
    }
  ],
  "metadata": {
    "colab": {
      "provenance": []
    },
    "kernelspec": {
      "display_name": "Python 3",
      "name": "python3"
    },
    "language_info": {
      "codemirror_mode": {
        "name": "ipython",
        "version": 3
      },
      "file_extension": ".py",
      "mimetype": "text/x-python",
      "name": "python",
      "nbconvert_exporter": "python",
      "pygments_lexer": "ipython3",
      "version": "3.12.0"
    }
  },
  "nbformat": 4,
  "nbformat_minor": 0
}

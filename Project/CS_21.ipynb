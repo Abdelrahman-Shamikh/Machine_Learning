{
  "cells": [
    {
      "cell_type": "code",
      "execution_count": 1,
      "metadata": {
        "id": "0aRDnDfzSncX"
      },
      "outputs": [],
      "source": [
        "import numpy as np\n",
        "import pandas as pd\n",
        "import seaborn as sns\n",
        "import matplotlib.pyplot as plt\n",
        "from sklearn import linear_model, metrics, preprocessing, ensemble, model_selection, feature_selection\n",
        "from scipy.stats import boxcox\n",
        "from scipy.spatial.distance import cdist\n",
        "from collections import Counter\n",
        "from sklearn.preprocessing import LabelEncoder\n",
        "from sklearn.model_selection import train_test_split\n",
        "from sklearn.preprocessing import PolynomialFeatures\n",
        "from sklearn import linear_model\n",
        "from sklearn.metrics import r2_score\n",
        "from sklearn.linear_model import LinearRegression\n",
        "from sklearn.ensemble import RandomForestRegressor\n",
        "from xgboost import XGBRegressor\n",
        "from sklearn.neighbors import KNeighborsClassifier\n",
        "from sklearn.metrics import r2_score\n",
        "\n",
        "import pickle"
      ]
    },
    {
      "cell_type": "code",
      "execution_count": 2,
      "metadata": {
        "colab": {
          "base_uri": "https://localhost:8080/"
        },
        "id": "F1SPHo7yTOhp",
        "outputId": "1eb86899-9c82-4b94-d004-744ccbc77f13"
      },
      "outputs": [
        {
          "name": "stdout",
          "output_type": "stream",
          "text": [
            "<class 'pandas.core.frame.DataFrame'>\n",
            "RangeIndex: 9000 entries, 0 to 8999\n",
            "Data columns (total 22 columns):\n",
            " #   Column         Non-Null Count  Dtype  \n",
            "---  ------         --------------  -----  \n",
            " 0   id             9000 non-null   int64  \n",
            " 1   category       9000 non-null   object \n",
            " 2   title          9000 non-null   object \n",
            " 3   body           9000 non-null   object \n",
            " 4   amenities      5815 non-null   object \n",
            " 5   bathrooms      8970 non-null   float64\n",
            " 6   bedrooms       8993 non-null   float64\n",
            " 7   currency       9000 non-null   object \n",
            " 8   fee            9000 non-null   object \n",
            " 9   has_photo      9000 non-null   object \n",
            " 10  pets_allowed   5249 non-null   object \n",
            " 11  price          9000 non-null   int64  \n",
            " 12  price_display  9000 non-null   object \n",
            " 13  price_type     9000 non-null   object \n",
            " 14  square_feet    9000 non-null   int64  \n",
            " 15  address        6029 non-null   object \n",
            " 16  cityname       8934 non-null   object \n",
            " 17  state          8934 non-null   object \n",
            " 18  latitude       8993 non-null   float64\n",
            " 19  longitude      8993 non-null   float64\n",
            " 20  source         9000 non-null   object \n",
            " 21  time           9000 non-null   int64  \n",
            "dtypes: float64(4), int64(4), object(14)\n",
            "memory usage: 1.5+ MB\n",
            "None\n",
            "(9000, 22)\n"
          ]
        }
      ],
      "source": [
        "\"\"\"read the data\"\"\"\n",
        "\n",
        "data = pd.read_csv('ApartmentRentPrediction.csv')\n",
        "\n",
        "print(data.info())\n",
        "print(data.shape)"
      ]
    },
    {
      "cell_type": "code",
      "execution_count": 3,
      "metadata": {
        "id": "1aVdAsM5Tgdg"
      },
      "outputs": [],
      "source": [
        "\"\"\"put the prediction column at the end\"\"\"\n",
        "\n",
        "predicted_col = data['price_display']\n",
        "data.drop(columns=['price_display', 'price'], inplace=True)\n",
        "data['price_display'] = predicted_col"
      ]
    },
    {
      "cell_type": "code",
      "execution_count": 4,
      "metadata": {
        "colab": {
          "base_uri": "https://localhost:8080/"
        },
        "id": "oAp7N-M-TjEw",
        "outputId": "b2378f40-eb3b-4950-f56c-bac018ece4f4"
      },
      "outputs": [
        {
          "name": "stdout",
          "output_type": "stream",
          "text": [
            "0    1194.0\n",
            "1    1370.0\n",
            "2    1009.0\n",
            "3     695.0\n",
            "4    3695.0\n",
            "5    1750.0\n",
            "6    2470.0\n",
            "7    1250.0\n",
            "8    1789.0\n",
            "9    1225.0\n",
            "Name: price_display, dtype: float64\n"
          ]
        }
      ],
      "source": [
        "\"\"\"modify target format\"\"\"\n",
        "data['price_display'] = data['price_display'].str.replace(r'[^0-9]', '', regex=True)\n",
        "data['price_display'] = data['price_display'].astype(float)\n",
        "\n",
        "\n",
        "print(data['price_display'].head(10))"
      ]
    },
    {
      "cell_type": "code",
      "execution_count": 5,
      "metadata": {
        "colab": {
          "base_uri": "https://localhost:8080/"
        },
        "id": "T7PUpIMXTxkY",
        "outputId": "d99f3fcf-d0f3-497a-d37f-69fa03550cf6"
      },
      "outputs": [
        {
          "name": "stdout",
          "output_type": "stream",
          "text": [
            "id \t 0\n",
            "category \t 0\n",
            "title \t 0\n",
            "body \t 0\n",
            "amenities \t 3185\n",
            "bathrooms \t 30\n",
            "bedrooms \t 7\n",
            "currency \t 0\n",
            "fee \t 0\n",
            "has_photo \t 0\n",
            "pets_allowed \t 3751\n",
            "price_type \t 0\n",
            "square_feet \t 0\n",
            "address \t 2971\n",
            "cityname \t 66\n",
            "state \t 66\n",
            "latitude \t 7\n",
            "longitude \t 7\n",
            "source \t 0\n",
            "time \t 0\n",
            "price_display \t 0\n"
          ]
        }
      ],
      "source": [
        "\"\"\"number of nulls\"\"\"\n",
        "for column in data.columns:\n",
        "  print(column, '\\t',data[column].isna().sum())"
      ]
    },
    {
      "cell_type": "code",
      "execution_count": 6,
      "metadata": {
        "id": "te0WtSqgQDa0"
      },
      "outputs": [],
      "source": [
        "class CounterEncoder:\n",
        "  def transform(self, X):\n",
        "    ret = X.copy()\n",
        "    ret = ret.fillna(0).apply(lambda x: 0 if x == 0 else len(str(x).split(',')))\n",
        "    return ret"
      ]
    },
    {
      "cell_type": "code",
      "execution_count": 7,
      "metadata": {
        "colab": {
          "base_uri": "https://localhost:8080/",
          "height": 1000
        },
        "id": "w5kCYYm9QJtD",
        "outputId": "6fc24878-5596-41cf-c09c-d592d06ad1bf"
      },
      "outputs": [
        {
          "data": {
            "text/html": [
              "<div>\n",
              "<style scoped>\n",
              "    .dataframe tbody tr th:only-of-type {\n",
              "        vertical-align: middle;\n",
              "    }\n",
              "\n",
              "    .dataframe tbody tr th {\n",
              "        vertical-align: top;\n",
              "    }\n",
              "\n",
              "    .dataframe thead th {\n",
              "        text-align: right;\n",
              "    }\n",
              "</style>\n",
              "<table border=\"1\" class=\"dataframe\">\n",
              "  <thead>\n",
              "    <tr style=\"text-align: right;\">\n",
              "      <th></th>\n",
              "      <th>id</th>\n",
              "      <th>category</th>\n",
              "      <th>title</th>\n",
              "      <th>body</th>\n",
              "      <th>amenities</th>\n",
              "      <th>bathrooms</th>\n",
              "      <th>bedrooms</th>\n",
              "      <th>currency</th>\n",
              "      <th>fee</th>\n",
              "      <th>has_photo</th>\n",
              "      <th>...</th>\n",
              "      <th>price_type</th>\n",
              "      <th>square_feet</th>\n",
              "      <th>address</th>\n",
              "      <th>cityname</th>\n",
              "      <th>state</th>\n",
              "      <th>latitude</th>\n",
              "      <th>longitude</th>\n",
              "      <th>source</th>\n",
              "      <th>time</th>\n",
              "      <th>price_display</th>\n",
              "    </tr>\n",
              "  </thead>\n",
              "  <tbody>\n",
              "    <tr>\n",
              "      <th>0</th>\n",
              "      <td>5508832632</td>\n",
              "      <td>housing/rent/apartment</td>\n",
              "      <td>Two BR - $1,194/mo - Apartment - come and see ...</td>\n",
              "      <td>Come experience. in Cary, NC offering recently...</td>\n",
              "      <td>6</td>\n",
              "      <td>2.5</td>\n",
              "      <td>2.0</td>\n",
              "      <td>USD</td>\n",
              "      <td>No</td>\n",
              "      <td>Thumbnail</td>\n",
              "      <td>...</td>\n",
              "      <td>Monthly</td>\n",
              "      <td>800</td>\n",
              "      <td>NaN</td>\n",
              "      <td>Cary</td>\n",
              "      <td>NC</td>\n",
              "      <td>35.7585</td>\n",
              "      <td>-78.7783</td>\n",
              "      <td>RentDigs.com</td>\n",
              "      <td>1568755960</td>\n",
              "      <td>1194.0</td>\n",
              "    </tr>\n",
              "    <tr>\n",
              "      <th>1</th>\n",
              "      <td>5664576849</td>\n",
              "      <td>housing/rent/apartment</td>\n",
              "      <td>One BR 640 West Wilson Street</td>\n",
              "      <td>This unit is located at 640 West Wilson Street...</td>\n",
              "      <td>9</td>\n",
              "      <td>1.0</td>\n",
              "      <td>1.0</td>\n",
              "      <td>USD</td>\n",
              "      <td>No</td>\n",
              "      <td>Thumbnail</td>\n",
              "      <td>...</td>\n",
              "      <td>Monthly</td>\n",
              "      <td>795</td>\n",
              "      <td>640 West Wilson St</td>\n",
              "      <td>Madison</td>\n",
              "      <td>WI</td>\n",
              "      <td>43.0724</td>\n",
              "      <td>-89.4003</td>\n",
              "      <td>RentLingo</td>\n",
              "      <td>1577015508</td>\n",
              "      <td>1370.0</td>\n",
              "    </tr>\n",
              "    <tr>\n",
              "      <th>2</th>\n",
              "      <td>5668619365</td>\n",
              "      <td>housing/rent/apartment</td>\n",
              "      <td>One BR 2777 Sw Archer Rd</td>\n",
              "      <td>This unit is located at 2777 Sw Archer Rd, Gai...</td>\n",
              "      <td>7</td>\n",
              "      <td>1.0</td>\n",
              "      <td>1.0</td>\n",
              "      <td>USD</td>\n",
              "      <td>No</td>\n",
              "      <td>Thumbnail</td>\n",
              "      <td>...</td>\n",
              "      <td>Monthly</td>\n",
              "      <td>560</td>\n",
              "      <td>2777 SW Archer Road</td>\n",
              "      <td>Gainesville</td>\n",
              "      <td>FL</td>\n",
              "      <td>29.6533</td>\n",
              "      <td>-82.3656</td>\n",
              "      <td>RentLingo</td>\n",
              "      <td>1577358921</td>\n",
              "      <td>1009.0</td>\n",
              "    </tr>\n",
              "    <tr>\n",
              "      <th>3</th>\n",
              "      <td>5668632604</td>\n",
              "      <td>housing/rent/apartment</td>\n",
              "      <td>One BR 534-542 Park Avenue</td>\n",
              "      <td>This unit is located at 534-542 Park Avenue, O...</td>\n",
              "      <td>0</td>\n",
              "      <td>1.0</td>\n",
              "      <td>1.0</td>\n",
              "      <td>USD</td>\n",
              "      <td>No</td>\n",
              "      <td>Thumbnail</td>\n",
              "      <td>...</td>\n",
              "      <td>Monthly</td>\n",
              "      <td>600</td>\n",
              "      <td>534-542 Park Ave</td>\n",
              "      <td>Omaha</td>\n",
              "      <td>NE</td>\n",
              "      <td>41.2562</td>\n",
              "      <td>-96.0404</td>\n",
              "      <td>RentLingo</td>\n",
              "      <td>1577359849</td>\n",
              "      <td>695.0</td>\n",
              "    </tr>\n",
              "    <tr>\n",
              "      <th>4</th>\n",
              "      <td>5668637441</td>\n",
              "      <td>housing/rent/apartment</td>\n",
              "      <td>Three BR 2216 S Palm Grove Ave</td>\n",
              "      <td>This unit is located at 2216 S Palm Grove Ave,...</td>\n",
              "      <td>0</td>\n",
              "      <td>3.0</td>\n",
              "      <td>3.0</td>\n",
              "      <td>USD</td>\n",
              "      <td>No</td>\n",
              "      <td>Thumbnail</td>\n",
              "      <td>...</td>\n",
              "      <td>Monthly</td>\n",
              "      <td>1600</td>\n",
              "      <td>2216 S Palm Grove Avenue</td>\n",
              "      <td>Los Angeles</td>\n",
              "      <td>CA</td>\n",
              "      <td>34.0372</td>\n",
              "      <td>-118.2972</td>\n",
              "      <td>RentLingo</td>\n",
              "      <td>1577360159</td>\n",
              "      <td>3695.0</td>\n",
              "    </tr>\n",
              "    <tr>\n",
              "      <th>5</th>\n",
              "      <td>5664597879</td>\n",
              "      <td>housing/rent/apartment</td>\n",
              "      <td>Three BR 680 Bromley Dr.</td>\n",
              "      <td>This unit is located at 680 Bromley Dr., Baton...</td>\n",
              "      <td>0</td>\n",
              "      <td>2.0</td>\n",
              "      <td>3.0</td>\n",
              "      <td>USD</td>\n",
              "      <td>No</td>\n",
              "      <td>Thumbnail</td>\n",
              "      <td>...</td>\n",
              "      <td>Monthly</td>\n",
              "      <td>2300</td>\n",
              "      <td>680 Bromley Drive</td>\n",
              "      <td>Baton Rouge</td>\n",
              "      <td>LA</td>\n",
              "      <td>30.4415</td>\n",
              "      <td>-91.1012</td>\n",
              "      <td>RentLingo</td>\n",
              "      <td>1577017123</td>\n",
              "      <td>1750.0</td>\n",
              "    </tr>\n",
              "    <tr>\n",
              "      <th>6</th>\n",
              "      <td>5509268702</td>\n",
              "      <td>housing/rent/apartment</td>\n",
              "      <td>Studio in Lynnwood</td>\n",
              "      <td>We believe that elevating where you live is al...</td>\n",
              "      <td>2</td>\n",
              "      <td>1.0</td>\n",
              "      <td>2.0</td>\n",
              "      <td>USD</td>\n",
              "      <td>No</td>\n",
              "      <td>Yes</td>\n",
              "      <td>...</td>\n",
              "      <td>Monthly</td>\n",
              "      <td>1079</td>\n",
              "      <td>NaN</td>\n",
              "      <td>Lynnwood</td>\n",
              "      <td>WA</td>\n",
              "      <td>47.8616</td>\n",
              "      <td>-122.2729</td>\n",
              "      <td>RentDigs.com</td>\n",
              "      <td>1568782110</td>\n",
              "      <td>2470.0</td>\n",
              "    </tr>\n",
              "    <tr>\n",
              "      <th>7</th>\n",
              "      <td>5664594606</td>\n",
              "      <td>housing/rent/apartment</td>\n",
              "      <td>Three BR 1712 Donald Dr</td>\n",
              "      <td>This unit is located at 1712 Donald Dr, Shawne...</td>\n",
              "      <td>0</td>\n",
              "      <td>2.0</td>\n",
              "      <td>3.0</td>\n",
              "      <td>USD</td>\n",
              "      <td>No</td>\n",
              "      <td>Thumbnail</td>\n",
              "      <td>...</td>\n",
              "      <td>Monthly</td>\n",
              "      <td>1177</td>\n",
              "      <td>1712 Donald Drive</td>\n",
              "      <td>Shawnee</td>\n",
              "      <td>OK</td>\n",
              "      <td>35.3537</td>\n",
              "      <td>-96.8923</td>\n",
              "      <td>RentLingo</td>\n",
              "      <td>1577016836</td>\n",
              "      <td>1250.0</td>\n",
              "    </tr>\n",
              "    <tr>\n",
              "      <th>8</th>\n",
              "      <td>5668628991</td>\n",
              "      <td>housing/rent/apartment</td>\n",
              "      <td>One BR 2975 Blackburn St Apartment 678</td>\n",
              "      <td>This unit is located at 2975 Blackburn St Apar...</td>\n",
              "      <td>0</td>\n",
              "      <td>1.0</td>\n",
              "      <td>1.0</td>\n",
              "      <td>USD</td>\n",
              "      <td>No</td>\n",
              "      <td>Thumbnail</td>\n",
              "      <td>...</td>\n",
              "      <td>Monthly</td>\n",
              "      <td>678</td>\n",
              "      <td>2975 Blackburn St Apartment 678</td>\n",
              "      <td>Dallas</td>\n",
              "      <td>TX</td>\n",
              "      <td>32.8212</td>\n",
              "      <td>-96.7853</td>\n",
              "      <td>RentLingo</td>\n",
              "      <td>1577359585</td>\n",
              "      <td>1789.0</td>\n",
              "    </tr>\n",
              "    <tr>\n",
              "      <th>9</th>\n",
              "      <td>5668609854</td>\n",
              "      <td>housing/rent/apartment</td>\n",
              "      <td>Two BR 290 9th Ave Sw</td>\n",
              "      <td>This unit is located at 290 ninth Ave Sw, Fore...</td>\n",
              "      <td>9</td>\n",
              "      <td>1.0</td>\n",
              "      <td>2.0</td>\n",
              "      <td>USD</td>\n",
              "      <td>No</td>\n",
              "      <td>Thumbnail</td>\n",
              "      <td>...</td>\n",
              "      <td>Monthly</td>\n",
              "      <td>995</td>\n",
              "      <td>290 9th Avenue SW</td>\n",
              "      <td>Forest Lake</td>\n",
              "      <td>MN</td>\n",
              "      <td>45.2764</td>\n",
              "      <td>-92.9901</td>\n",
              "      <td>RentLingo</td>\n",
              "      <td>1577358292</td>\n",
              "      <td>1225.0</td>\n",
              "    </tr>\n",
              "  </tbody>\n",
              "</table>\n",
              "<p>10 rows × 21 columns</p>\n",
              "</div>"
            ],
            "text/plain": [
              "           id                category  \\\n",
              "0  5508832632  housing/rent/apartment   \n",
              "1  5664576849  housing/rent/apartment   \n",
              "2  5668619365  housing/rent/apartment   \n",
              "3  5668632604  housing/rent/apartment   \n",
              "4  5668637441  housing/rent/apartment   \n",
              "5  5664597879  housing/rent/apartment   \n",
              "6  5509268702  housing/rent/apartment   \n",
              "7  5664594606  housing/rent/apartment   \n",
              "8  5668628991  housing/rent/apartment   \n",
              "9  5668609854  housing/rent/apartment   \n",
              "\n",
              "                                               title  \\\n",
              "0  Two BR - $1,194/mo - Apartment - come and see ...   \n",
              "1                      One BR 640 West Wilson Street   \n",
              "2                           One BR 2777 Sw Archer Rd   \n",
              "3                         One BR 534-542 Park Avenue   \n",
              "4                     Three BR 2216 S Palm Grove Ave   \n",
              "5                           Three BR 680 Bromley Dr.   \n",
              "6                                 Studio in Lynnwood   \n",
              "7                            Three BR 1712 Donald Dr   \n",
              "8             One BR 2975 Blackburn St Apartment 678   \n",
              "9                              Two BR 290 9th Ave Sw   \n",
              "\n",
              "                                                body  amenities  bathrooms  \\\n",
              "0  Come experience. in Cary, NC offering recently...          6        2.5   \n",
              "1  This unit is located at 640 West Wilson Street...          9        1.0   \n",
              "2  This unit is located at 2777 Sw Archer Rd, Gai...          7        1.0   \n",
              "3  This unit is located at 534-542 Park Avenue, O...          0        1.0   \n",
              "4  This unit is located at 2216 S Palm Grove Ave,...          0        3.0   \n",
              "5  This unit is located at 680 Bromley Dr., Baton...          0        2.0   \n",
              "6  We believe that elevating where you live is al...          2        1.0   \n",
              "7  This unit is located at 1712 Donald Dr, Shawne...          0        2.0   \n",
              "8  This unit is located at 2975 Blackburn St Apar...          0        1.0   \n",
              "9  This unit is located at 290 ninth Ave Sw, Fore...          9        1.0   \n",
              "\n",
              "   bedrooms currency fee  has_photo  ... price_type square_feet  \\\n",
              "0       2.0      USD  No  Thumbnail  ...    Monthly         800   \n",
              "1       1.0      USD  No  Thumbnail  ...    Monthly         795   \n",
              "2       1.0      USD  No  Thumbnail  ...    Monthly         560   \n",
              "3       1.0      USD  No  Thumbnail  ...    Monthly         600   \n",
              "4       3.0      USD  No  Thumbnail  ...    Monthly        1600   \n",
              "5       3.0      USD  No  Thumbnail  ...    Monthly        2300   \n",
              "6       2.0      USD  No        Yes  ...    Monthly        1079   \n",
              "7       3.0      USD  No  Thumbnail  ...    Monthly        1177   \n",
              "8       1.0      USD  No  Thumbnail  ...    Monthly         678   \n",
              "9       2.0      USD  No  Thumbnail  ...    Monthly         995   \n",
              "\n",
              "                           address     cityname state latitude  longitude  \\\n",
              "0                              NaN         Cary    NC  35.7585   -78.7783   \n",
              "1               640 West Wilson St      Madison    WI  43.0724   -89.4003   \n",
              "2              2777 SW Archer Road  Gainesville    FL  29.6533   -82.3656   \n",
              "3                 534-542 Park Ave        Omaha    NE  41.2562   -96.0404   \n",
              "4         2216 S Palm Grove Avenue  Los Angeles    CA  34.0372  -118.2972   \n",
              "5                680 Bromley Drive  Baton Rouge    LA  30.4415   -91.1012   \n",
              "6                              NaN     Lynnwood    WA  47.8616  -122.2729   \n",
              "7                1712 Donald Drive      Shawnee    OK  35.3537   -96.8923   \n",
              "8  2975 Blackburn St Apartment 678       Dallas    TX  32.8212   -96.7853   \n",
              "9                290 9th Avenue SW  Forest Lake    MN  45.2764   -92.9901   \n",
              "\n",
              "         source        time  price_display  \n",
              "0  RentDigs.com  1568755960         1194.0  \n",
              "1     RentLingo  1577015508         1370.0  \n",
              "2     RentLingo  1577358921         1009.0  \n",
              "3     RentLingo  1577359849          695.0  \n",
              "4     RentLingo  1577360159         3695.0  \n",
              "5     RentLingo  1577017123         1750.0  \n",
              "6  RentDigs.com  1568782110         2470.0  \n",
              "7     RentLingo  1577016836         1250.0  \n",
              "8     RentLingo  1577359585         1789.0  \n",
              "9     RentLingo  1577358292         1225.0  \n",
              "\n",
              "[10 rows x 21 columns]"
            ]
          },
          "execution_count": 7,
          "metadata": {},
          "output_type": "execute_result"
        }
      ],
      "source": [
        "\"\"\"replace each row in amenities with the **count** of the amenities\"\"\"\n",
        "ce = CounterEncoder()\n",
        "data['amenities'] = ce.transform(data['amenities'])\n",
        "data.head(10)"
      ]
    },
    {
      "cell_type": "code",
      "execution_count": 8,
      "metadata": {
        "colab": {
          "base_uri": "https://localhost:8080/"
        },
        "id": "Ri0wj6q9Ugaw",
        "outputId": "454ab1f1-7766-47fc-9904-c0447cc13277"
      },
      "outputs": [
        {
          "name": "stdout",
          "output_type": "stream",
          "text": [
            "category\n",
            "housing/rent/apartment     8997\n",
            "housing/rent/short_term       2\n",
            "housing/rent/home             1\n",
            "Name: count, dtype: int64\n",
            "category\n",
            "housing/rent/apartment    8997\n",
            "Name: count, dtype: int64\n"
          ]
        }
      ],
      "source": [
        "\"\"\"remove noise\"\"\"\n",
        "print(data['category'].value_counts())\n",
        "data = data.drop(data[(data['category'] == 'housing/rent/short_term') | (data['category'] == 'housing/rent/home')].index)\n",
        "print(data['category'].value_counts())\n"
      ]
    },
    {
      "cell_type": "code",
      "execution_count": 9,
      "metadata": {
        "id": "VOwmq-VMUzBg"
      },
      "outputs": [
        {
          "name": "stderr",
          "output_type": "stream",
          "text": [
            "C:\\Users\\DELL\\AppData\\Local\\Temp\\ipykernel_6856\\2736100613.py:12: RuntimeWarning: invalid value encountered in cast\n",
            "  self.special[col] = data[col].mean().astype(int)\n"
          ]
        }
      ],
      "source": [
        "class MeansAndMods:\n",
        "  def __init__(self):\n",
        "    self.special = {}  #\n",
        "  def fit(self, data):\n",
        "\n",
        "    for col in data.columns:\n",
        "      if data[col].dtype == 'object':  # Check if the column is categorical\n",
        "        self.special[col] = data[col].mode()[0]\n",
        "      elif data[col].dtype == 'float64':\n",
        "        self.special[col] = data[col].mean()\n",
        "      else:\n",
        "        self.special[col] = data[col].mean().astype(int)\n",
        "\n",
        "  def transform(self, col, value=None):\n",
        "    if value is None:\n",
        "      return col.fillna(self.special[col.name])\n",
        "    else:\n",
        "      return col.apply(lambda x: self.special[col.name] if x == value else x)\n",
        "\n",
        "mam = MeansAndMods()\n",
        "mam.fit(data)"
      ]
    },
    {
      "cell_type": "code",
      "execution_count": 10,
      "metadata": {
        "id": "CAro4vU9BGSI"
      },
      "outputs": [],
      "source": [
        "data.dropna(subset=['longitude', 'latitude'], inplace=True)\n"
      ]
    },
    {
      "cell_type": "code",
      "execution_count": 11,
      "metadata": {
        "id": "AAjrnoX9VTLb"
      },
      "outputs": [],
      "source": [
        "# Note: The following line is Required as we want these 2 cols without any nulls\n",
        "\n",
        "class KNN_PP:\n",
        "  def __init__(self):\n",
        "    self.knn =  KNeighborsClassifier(n_neighbors=1)\n",
        "\n",
        "  def fit(self, X, Y):\n",
        "    self.X_train = X[Y.notnull()]\n",
        "    self.Y_train = Y.dropna()\n",
        "    self.knn.fit(self.X_train, self.Y_train)\n",
        "\n",
        "  def transform(self, X, Y):\n",
        "    X_test = X[Y.isnull()]\n",
        "    Y_pred = Y.copy()\n",
        "    Y_pred[X_test.index] = self.knn.predict(X_test)\n",
        "    return Y_pred\n",
        "\n",
        "  def fit_transform(self, X, Y):\n",
        "    self.fit(X, Y)\n",
        "    return self.transform(X, Y)\n",
        "\n",
        "city_KP = KNN_PP()\n",
        "data['cityname'] = city_KP.fit_transform(data.loc[:, ['latitude', 'longitude']], data['cityname'])\n",
        "state_KP = KNN_PP()\n",
        "data['state'] = state_KP.fit_transform(data.loc[:, ['latitude', 'longitude']], data['state'])\n"
      ]
    },
    {
      "cell_type": "code",
      "execution_count": 12,
      "metadata": {
        "id": "ymaGqf6LVnIP"
      },
      "outputs": [],
      "source": [
        "data['bathrooms'] = mam.transform(data['bathrooms'])\n",
        "data['bedrooms']  = mam.transform(data['bedrooms'])\n",
        "\n",
        "data['bathrooms'] = data['bathrooms'].astype(int)\n",
        "data['bedrooms'] = data['bedrooms'].astype(int)"
      ]
    },
    {
      "cell_type": "code",
      "execution_count": 13,
      "metadata": {
        "colab": {
          "base_uri": "https://localhost:8080/"
        },
        "id": "7Ic_DuJQWDQB",
        "outputId": "eec494b7-0250-4d1b-f01f-2068813dc3f0"
      },
      "outputs": [
        {
          "name": "stdout",
          "output_type": "stream",
          "text": [
            "<class 'pandas.core.frame.DataFrame'>\n",
            "Index: 8990 entries, 0 to 8999\n",
            "Data columns (total 21 columns):\n",
            " #   Column         Non-Null Count  Dtype  \n",
            "---  ------         --------------  -----  \n",
            " 0   id             8990 non-null   int64  \n",
            " 1   category       8990 non-null   object \n",
            " 2   title          8990 non-null   object \n",
            " 3   body           8990 non-null   object \n",
            " 4   amenities      8990 non-null   int64  \n",
            " 5   bathrooms      8990 non-null   int32  \n",
            " 6   bedrooms       8990 non-null   int32  \n",
            " 7   currency       8990 non-null   object \n",
            " 8   fee            8990 non-null   object \n",
            " 9   has_photo      8990 non-null   object \n",
            " 10  pets_allowed   5245 non-null   object \n",
            " 11  price_type     8990 non-null   object \n",
            " 12  square_feet    8990 non-null   int64  \n",
            " 13  address        6028 non-null   object \n",
            " 14  cityname       8990 non-null   object \n",
            " 15  state          8990 non-null   object \n",
            " 16  latitude       8990 non-null   float64\n",
            " 17  longitude      8990 non-null   float64\n",
            " 18  source         8990 non-null   object \n",
            " 19  time           8990 non-null   int64  \n",
            " 20  price_display  8990 non-null   float64\n",
            "dtypes: float64(3), int32(2), int64(4), object(12)\n",
            "memory usage: 1.7+ MB\n",
            "None\n"
          ]
        }
      ],
      "source": [
        "class OHE:\n",
        "  def __init__(self, removeCol):\n",
        "    self.removeCol = removeCol\n",
        "  def fit(self, data, suff = 'allowed'):\n",
        "    self.addCols = set()\n",
        "    for val in data[self.removeCol].value_counts().index:\n",
        "      for string in str(val).split(','):\n",
        "        self.addCols.add(string.lower() + '_' + suff)\n",
        "\n",
        "  def transform(self, data):\n",
        "    data[self.removeCol].fillna('', inplace=True)\n",
        "    for col in self.addCols:\n",
        "      data.insert(data.columns.get_loc(self.removeCol), col, np.zeros(data.shape[0], dtype=int))\n",
        "      data.loc[data[self.removeCol].str.contains(col[:col.find('_')], case=False), col] = 1\n",
        "    data.drop(columns=self.removeCol, inplace=True)\n",
        "\n",
        "  def fit_transform(self, data, suff = 'allowed'):\n",
        "    self.fit(data, suff)\n",
        "    self.transform(data)\n",
        "\n",
        "print(data.info())"
      ]
    },
    {
      "cell_type": "code",
      "execution_count": 14,
      "metadata": {
        "colab": {
          "base_uri": "https://localhost:8080/"
        },
        "id": "br9-5skmWpBp",
        "outputId": "974de11e-8217-4c00-fb2f-fd9a130a6b1e"
      },
      "outputs": [
        {
          "name": "stdout",
          "output_type": "stream",
          "text": [
            "pets_allowed\n",
            "Cats,Dogs    4700\n",
            "Cats          431\n",
            "Dogs          114\n",
            "Name: count, dtype: int64\n",
            "cats_allowed\n",
            "1    5131\n",
            "0    3859\n",
            "Name: count, dtype: int64 dogs_allowed\n",
            "1    4814\n",
            "0    4176\n",
            "Name: count, dtype: int64\n"
          ]
        }
      ],
      "source": [
        "print(data['pets_allowed'].value_counts())\n",
        "\n",
        "pets_ohe = OHE(removeCol='pets_allowed')\n",
        "pets_ohe.fit_transform(data)\n",
        "\n",
        "print(data['cats_allowed'].value_counts(), data['dogs_allowed'].value_counts())\n"
      ]
    },
    {
      "cell_type": "code",
      "execution_count": 15,
      "metadata": {
        "id": "wc_R8T5dXBxg"
      },
      "outputs": [
        {
          "name": "stderr",
          "output_type": "stream",
          "text": [
            "C:\\Users\\DELL\\AppData\\Local\\Temp\\ipykernel_6856\\2736100613.py:12: RuntimeWarning: invalid value encountered in cast\n",
            "  self.special[col] = data[col].mean().astype(int)\n"
          ]
        }
      ],
      "source": [
        "data['address'].fillna('Unknown', inplace=True)\n",
        "mam.fit(data)\n"
      ]
    },
    {
      "cell_type": "code",
      "execution_count": 16,
      "metadata": {
        "id": "XkwbCHKTXHCp"
      },
      "outputs": [],
      "source": [
        "for col in data.columns:\n",
        "    data[col] = mam.transform(data[col])\n",
        "\n"
      ]
    },
    {
      "cell_type": "code",
      "execution_count": 17,
      "metadata": {
        "colab": {
          "base_uri": "https://localhost:8080/"
        },
        "id": "ALvT1WmIRZZP",
        "outputId": "9b2bcc3c-5ca9-42af-adff-c18bb51d7acd"
      },
      "outputs": [
        {
          "name": "stdout",
          "output_type": "stream",
          "text": [
            "id \t 0\n",
            "category \t 0\n",
            "title \t 0\n",
            "body \t 0\n",
            "amenities \t 0\n",
            "bathrooms \t 0\n",
            "bedrooms \t 0\n",
            "currency \t 0\n",
            "fee \t 0\n",
            "has_photo \t 0\n",
            "dogs_allowed \t 0\n",
            "cats_allowed \t 0\n",
            "price_type \t 0\n",
            "square_feet \t 0\n",
            "address \t 0\n",
            "cityname \t 0\n",
            "state \t 0\n",
            "latitude \t 0\n",
            "longitude \t 0\n",
            "source \t 0\n",
            "time \t 0\n",
            "price_display \t 0\n"
          ]
        }
      ],
      "source": [
        "\"\"\"number of nulls\"\"\"\n",
        "for column in data.columns:\n",
        "  print(column, '\\t',data[column].isna().sum())"
      ]
    },
    {
      "cell_type": "code",
      "execution_count": 18,
      "metadata": {
        "id": "02KskgJJRa7t"
      },
      "outputs": [],
      "source": [
        "photo_ohe = OHE('has_photo')\n",
        "photo_ohe.fit_transform(data, 'photo')\n",
        "data.drop(columns=['no_photo'], inplace=True)"
      ]
    },
    {
      "cell_type": "code",
      "execution_count": 19,
      "metadata": {
        "id": "Zsc_w1V2XvIw"
      },
      "outputs": [],
      "source": [
        "def count_outliers(df):\n",
        "    for column_name in df.columns:\n",
        "        Q1 = df[column_name].quantile(0.25)\n",
        "        Q3 = df[column_name].quantile(0.75)\n",
        "        IQR = Q3 - Q1\n",
        "        lower_bound = Q1 - 1.5 * IQR\n",
        "        upper_bound = Q3 + 1.5 * IQR\n",
        "        outliers = df[(df[column_name] < lower_bound) | (df[column_name] > upper_bound)]\n",
        "        print(f\"Number of outliers in '{column_name}': {outliers.shape[0]}\")\n"
      ]
    },
    {
      "cell_type": "code",
      "execution_count": 20,
      "metadata": {
        "colab": {
          "base_uri": "https://localhost:8080/"
        },
        "id": "-p9hGZoOXz9Y",
        "outputId": "907158ff-9a0b-4914-976c-6505434a4ce1"
      },
      "outputs": [
        {
          "name": "stdout",
          "output_type": "stream",
          "text": [
            "Number of outliers in 'bathrooms': 63\n",
            "Number of outliers in 'bedrooms': 465\n",
            "Number of outliers in 'square_feet': 573\n",
            "Number of outliers in 'price_display': 554\n",
            "None\n",
            "bedrooms\n",
            "1    4170\n",
            "2    3031\n",
            "3    1153\n",
            "4     368\n",
            "0     171\n",
            "5      79\n",
            "6      12\n",
            "7       3\n",
            "8       2\n",
            "9       1\n",
            "Name: count, dtype: int64\n"
          ]
        }
      ],
      "source": [
        "outliercolums = ['bathrooms', 'bedrooms', 'square_feet','price_display']\n",
        "print(count_outliers(data[outliercolums]))\n",
        "# pd.set_option('display.max_rows', None)\n",
        "print(data['bedrooms'].value_counts())"
      ]
    },
    {
      "cell_type": "code",
      "execution_count": 21,
      "metadata": {
        "colab": {
          "base_uri": "https://localhost:8080/",
          "height": 428
        },
        "id": "wUEwo8ODRv6V",
        "outputId": "d4ce0ae7-54c9-473d-f70b-f4ab08b147d7"
      },
      "outputs": [
        {
          "data": {
            "text/plain": [
              "<Axes: ylabel='square_feet'>"
            ]
          },
          "execution_count": 21,
          "metadata": {},
          "output_type": "execute_result"
        },
        {
          "data": {
            "image/png": "[encoded data removed]",
            "text/plain": [
              "<Figure size 640x480 with 1 Axes>"
            ]
          },
          "metadata": {},
          "output_type": "display_data"
        }
      ],
      "source": [
        "sns.boxplot(data['square_feet'])"
      ]
    },
    {
      "cell_type": "code",
      "execution_count": 22,
      "metadata": {
        "colab": {
          "base_uri": "https://localhost:8080/",
          "height": 428
        },
        "id": "N3PV_4rKRwCb",
        "outputId": "23c1a191-c6d2-48c4-c2a0-08847fe38462"
      },
      "outputs": [
        {
          "data": {
            "text/plain": [
              "<Axes: ylabel='price_display'>"
            ]
          },
          "execution_count": 22,
          "metadata": {},
          "output_type": "execute_result"
        },
        {
          "data": {
            "image/png": "[encoded data removed]",
            "text/plain": [
              "<Figure size 640x480 with 1 Axes>"
            ]
          },
          "metadata": {},
          "output_type": "display_data"
        }
      ],
      "source": [
        "sns.boxplot(data['price_display'])"
      ]
    },
    {
      "cell_type": "code",
      "execution_count": 23,
      "metadata": {
        "colab": {
          "base_uri": "https://localhost:8080/",
          "height": 428
        },
        "id": "S6eGjlnWRwKD",
        "outputId": "3e71557f-136f-4fd4-deb4-4cdffe6be6b3"
      },
      "outputs": [
        {
          "data": {
            "text/plain": [
              "<Axes: ylabel='bedrooms'>"
            ]
          },
          "execution_count": 23,
          "metadata": {},
          "output_type": "execute_result"
        },
        {
          "data": {
            "image/png": "[encoded data removed]",
            "text/plain": [
              "<Figure size 640x480 with 1 Axes>"
            ]
          },
          "metadata": {},
          "output_type": "display_data"
        }
      ],
      "source": [
        "sns.boxplot(data['bedrooms'])"
      ]
    },
    {
      "cell_type": "code",
      "execution_count": 24,
      "metadata": {
        "colab": {
          "base_uri": "https://localhost:8080/",
          "height": 428
        },
        "id": "bdlgALaFRwRU",
        "outputId": "58f11a7f-2287-4208-8f2d-aa66e486b239"
      },
      "outputs": [
        {
          "data": {
            "text/plain": [
              "<Axes: ylabel='bathrooms'>"
            ]
          },
          "execution_count": 24,
          "metadata": {},
          "output_type": "execute_result"
        },
        {
          "data": {
            "image/png": "[encoded data removed]",
            "text/plain": [
              "<Figure size 640x480 with 1 Axes>"
            ]
          },
          "metadata": {},
          "output_type": "display_data"
        }
      ],
      "source": [
        "sns.boxplot(data['bathrooms'])"
      ]
    },
    {
      "cell_type": "code",
      "execution_count": 25,
      "metadata": {
        "id": "ofngwZlB16SR"
      },
      "outputs": [],
      "source": [
        "def replace_outliers(df, columns):\n",
        "    for column_name in columns:\n",
        "        # Calculate quartiles\n",
        "        Q1 = df[column_name].quantile(0.25)\n",
        "        Q3 = df[column_name].quantile(0.75)\n",
        "        # Calculate IQR\n",
        "        IQR = Q3 - Q1\n",
        "        # Define outlier boundaries\n",
        "        lower_bound = Q1 - 1.5 * IQR\n",
        "        upper_bound = Q3 + 1.5 * IQR\n",
        "        # Replace outliers below the lower bound with Q1 - 1.5 * IQR\n",
        "        df.loc[df[column_name] < lower_bound, column_name] = lower_bound\n",
        "        # Replace outliers above the upper bound with Q3 + 1.5 * IQR\n",
        "        df.loc[df[column_name] > upper_bound, column_name] = upper_bound\n",
        "    return df"
      ]
    },
    {
      "cell_type": "code",
      "execution_count": 26,
      "metadata": {
        "colab": {
          "base_uri": "https://localhost:8080/"
        },
        "id": "kjt-FF4yZpPh",
        "outputId": "f2148629-89ec-497d-9d79-dc50c025b41b"
      },
      "outputs": [
        {
          "name": "stdout",
          "output_type": "stream",
          "text": [
            "Number of outliers in 'bathrooms': 0\n",
            "Number of outliers in 'bedrooms': 0\n",
            "Number of outliers in 'square_feet': 0\n",
            "Number of outliers in 'price_display': 0\n",
            "None\n"
          ]
        },
        {
          "name": "stderr",
          "output_type": "stream",
          "text": [
            "C:\\Users\\DELL\\AppData\\Local\\Temp\\ipykernel_6856\\3512025756.py:12: FutureWarning: Setting an item of incompatible dtype is deprecated and will raise in a future error of pandas. Value '-0.5' has dtype incompatible with int32, please explicitly cast to a compatible dtype first.\n",
            "  df.loc[df[column_name] < lower_bound, column_name] = lower_bound\n",
            "C:\\Users\\DELL\\AppData\\Local\\Temp\\ipykernel_6856\\3512025756.py:12: FutureWarning: Setting an item of incompatible dtype is deprecated and will raise in a future error of pandas. Value '-0.5' has dtype incompatible with int32, please explicitly cast to a compatible dtype first.\n",
            "  df.loc[df[column_name] < lower_bound, column_name] = lower_bound\n"
          ]
        }
      ],
      "source": [
        "data = replace_outliers(data, outliercolums)\n",
        "print(count_outliers(data[outliercolums]))\n",
        "#print(train_data['square_feet'].max())\n"
      ]
    },
    {
      "cell_type": "code",
      "execution_count": 27,
      "metadata": {
        "colab": {
          "base_uri": "https://localhost:8080/"
        },
        "id": "GNmJGz_natMY",
        "outputId": "c7d628e7-c879-44b4-dd44-6778d368a943"
      },
      "outputs": [
        {
          "name": "stdout",
          "output_type": "stream",
          "text": [
            "<class 'pandas.core.frame.DataFrame'>\n",
            "Index: 8990 entries, 0 to 8999\n",
            "Data columns (total 23 columns):\n",
            " #   Column           Non-Null Count  Dtype  \n",
            "---  ------           --------------  -----  \n",
            " 0   id               8990 non-null   int64  \n",
            " 1   category         8990 non-null   object \n",
            " 2   title            8990 non-null   object \n",
            " 3   body             8990 non-null   object \n",
            " 4   amenities        8990 non-null   int64  \n",
            " 5   bathrooms        8990 non-null   float64\n",
            " 6   bedrooms         8990 non-null   float64\n",
            " 7   currency         8990 non-null   object \n",
            " 8   fee              8990 non-null   object \n",
            " 9   yes_photo        8990 non-null   int32  \n",
            " 10  thumbnail_photo  8990 non-null   int32  \n",
            " 11  dogs_allowed     8990 non-null   int32  \n",
            " 12  cats_allowed     8990 non-null   int32  \n",
            " 13  price_type       8990 non-null   object \n",
            " 14  square_feet      8990 non-null   int64  \n",
            " 15  address          8990 non-null   object \n",
            " 16  cityname         8990 non-null   object \n",
            " 17  state            8990 non-null   object \n",
            " 18  latitude         8990 non-null   float64\n",
            " 19  longitude        8990 non-null   float64\n",
            " 20  source           8990 non-null   object \n",
            " 21  time             8990 non-null   int64  \n",
            " 22  price_display    8990 non-null   float64\n",
            "dtypes: float64(5), int32(4), int64(4), object(10)\n",
            "memory usage: 1.8+ MB\n"
          ]
        }
      ],
      "source": [
        "data.info()"
      ]
    },
    {
      "cell_type": "code",
      "execution_count": 28,
      "metadata": {
        "id": "D8x7gD7Yedlb"
      },
      "outputs": [
        {
          "name": "stderr",
          "output_type": "stream",
          "text": [
            "C:\\Users\\DELL\\AppData\\Local\\Temp\\ipykernel_6856\\2736100613.py:12: RuntimeWarning: invalid value encountered in cast\n",
            "  self.special[col] = data[col].mean().astype(int)\n"
          ]
        }
      ],
      "source": [
        "train_data = data.drop(data[(data['price_type'] == 'Weekly') | (data['price_type'] == 'Monthly|Weekly')].index)\n",
        "mam.fit(train_data)"
      ]
    },
    {
      "cell_type": "code",
      "execution_count": 29,
      "metadata": {
        "id": "T2f5TbLGeioY"
      },
      "outputs": [],
      "source": [
        "cols=('category','title','body','cityname', 'state', 'source', 'address','fee','currency','price_type')\n",
        "\n",
        "lbls = []\n",
        "for c in cols:\n",
        "    lbl = LabelEncoder()\n",
        "    data[c] = lbl.fit_transform(list(data[c].values))\n",
        "    lbls.append(lbl)\n"
      ]
    },
    {
      "cell_type": "code",
      "execution_count": 30,
      "metadata": {
        "id": "Llxl1ZkofJOK"
      },
      "outputs": [],
      "source": [
        "# from sklearn.preprocessing import MinMaxScaler\n",
        "# column_names = train_data.columns\n",
        "\n",
        "# scaler = MinMaxScaler(feature_range=(0, 1))\n",
        "\n",
        "# train_data_scaled = scaler.fit_transform(train_data)\n",
        "# train_data_scaled_df = pd.DataFrame(train_data_scaled, columns=column_names)\n",
        "\n",
        "# train_data = train_data_scaled_df"
      ]
    },
    {
      "cell_type": "code",
      "execution_count": 31,
      "metadata": {
        "id": "HqgQmrnTfNw6"
      },
      "outputs": [],
      "source": [
        "# test_data_scaled = scaler.transform(test_data)\n",
        "# test_data_scaled_df = pd.DataFrame(test_data_scaled, columns=column_names)\n",
        "\n",
        "# test_data = test_data_scaled_df\n"
      ]
    },
    {
      "cell_type": "code",
      "execution_count": 32,
      "metadata": {
        "colab": {
          "base_uri": "https://localhost:8080/"
        },
        "id": "_P5YmJWKlkjf",
        "outputId": "84cca852-e89a-43c3-a616-9077f222efe5"
      },
      "outputs": [
        {
          "name": "stdout",
          "output_type": "stream",
          "text": [
            "<class 'pandas.core.frame.DataFrame'>\n",
            "Index: 8988 entries, 0 to 8999\n",
            "Data columns (total 23 columns):\n",
            " #   Column           Non-Null Count  Dtype  \n",
            "---  ------           --------------  -----  \n",
            " 0   id               8988 non-null   int64  \n",
            " 1   category         8988 non-null   object \n",
            " 2   title            8988 non-null   object \n",
            " 3   body             8988 non-null   object \n",
            " 4   amenities        8988 non-null   int64  \n",
            " 5   bathrooms        8988 non-null   float64\n",
            " 6   bedrooms         8988 non-null   float64\n",
            " 7   currency         8988 non-null   object \n",
            " 8   fee              8988 non-null   object \n",
            " 9   yes_photo        8988 non-null   int32  \n",
            " 10  thumbnail_photo  8988 non-null   int32  \n",
            " 11  dogs_allowed     8988 non-null   int32  \n",
            " 12  cats_allowed     8988 non-null   int32  \n",
            " 13  price_type       8988 non-null   object \n",
            " 14  square_feet      8988 non-null   int64  \n",
            " 15  address          8988 non-null   object \n",
            " 16  cityname         8988 non-null   object \n",
            " 17  state            8988 non-null   object \n",
            " 18  latitude         8988 non-null   float64\n",
            " 19  longitude        8988 non-null   float64\n",
            " 20  source           8988 non-null   object \n",
            " 21  time             8988 non-null   int64  \n",
            " 22  price_display    8988 non-null   float64\n",
            "dtypes: float64(5), int32(4), int64(4), object(10)\n",
            "memory usage: 1.5+ MB\n",
            "None\n"
          ]
        }
      ],
      "source": [
        "from sklearn.preprocessing import MinMaxScaler\n",
        "\n",
        "price_t = data['price_display']\n",
        "data.drop(columns=['price_display'], inplace = True)\n",
        "\n",
        "column_names = data.columns\n",
        "\n",
        "scaler = MinMaxScaler(feature_range=(0, 1))\n",
        "print(train_data.info())\n",
        "train_data_scaled = scaler.fit_transform(data)\n",
        "\n",
        "train_data_scaled_df = pd.DataFrame(train_data_scaled, columns=column_names)\n",
        "\n",
        "data = train_data_scaled_df\n",
        "data['price_display'] = price_t.values"
      ]
    },
    {
      "cell_type": "code",
      "execution_count": 33,
      "metadata": {
        "id": "59kLHD63CEWG"
      },
      "outputs": [],
      "source": [
        "data = data.drop('category', axis=1)\n",
        "data = data.drop('currency', axis=1)\n",
        "data = data.drop('fee', axis=1)\n",
        "data = data.drop('price_type', axis=1)"
      ]
    },
    {
      "cell_type": "code",
      "execution_count": 34,
      "metadata": {
        "colab": {
          "base_uri": "https://localhost:8080/",
          "height": 1000
        },
        "id": "bnvdjcIJ-xRm",
        "outputId": "980a3bbd-369f-42d6-c2a8-ea6b7dc0da06"
      },
      "outputs": [
        {
          "data": {
            "image/png": "[encoded data removed]",
            "text/plain": [
              "<Figure size 2000x1500 with 2 Axes>"
            ]
          },
          "metadata": {},
          "output_type": "display_data"
        },
        {
          "name": "stdout",
          "output_type": "stream",
          "text": [
            "Index(['bathrooms', 'bedrooms', 'square_feet', 'state', 'longitude',\n",
            "       'price_display'],\n",
            "      dtype='object')\n",
            "Index(['bathrooms', 'bedrooms', 'square_feet', 'state', 'longitude'], dtype='object')\n",
            "X_train shape: (7192, 5)\n",
            "X_test shape: (1798, 5)\n",
            "Y_train shape: (7192,)\n",
            "Y_test shape: (1798,)\n"
          ]
        }
      ],
      "source": [
        "\n",
        "c = data.corr()\n",
        "top_features = c.index[abs(c['price_display'])>=0.15]\n",
        "plt.subplots(figsize=(20, 15))\n",
        "top_corr = data[top_features].corr()\n",
        "sns.heatmap(top_corr, annot=True)\n",
        "plt.show()\n",
        "print(top_features)\n",
        "top_features = top_features[:-1]\n",
        "print(top_features)\n",
        "\n",
        "X = data[top_features]\n",
        "Y = data['price_display']\n",
        "\n",
        "# Split data into training and testing sets\n",
        "X_train, X_test, Y_train, Y_test = train_test_split(X, Y, test_size=0.2, random_state=42)\n",
        "\n",
        "# Check the shapes of the datasets\n",
        "print(\"X_train shape:\", X_train.shape)\n",
        "print(\"X_test shape:\", X_test.shape)\n",
        "print(\"Y_train shape:\", Y_train.shape)\n",
        "print(\"Y_test shape:\", Y_test.shape)\n"
      ]
    },
    {
      "cell_type": "code",
      "execution_count": 35,
      "metadata": {
        "id": "EH03VrqUcK5L"
      },
      "outputs": [],
      "source": [
        "poly_degree = 4 # Changed to degree 4\n",
        "poly = PolynomialFeatures(degree=poly_degree)\n",
        "\n",
        "X_train_selected = X_train\n",
        "X_test_selected = X_test\n",
        "\n",
        "X_train_poly = poly.fit_transform(X_train_selected)\n",
        "X_test_poly = poly.transform(X_test_selected)"
      ]
    },
    {
      "cell_type": "code",
      "execution_count": 36,
      "metadata": {
        "colab": {
          "base_uri": "https://localhost:8080/"
        },
        "id": "8pCN_0GsmxQ5",
        "outputId": "d204d3ee-ca35-4bcd-dd27-87792b406a52"
      },
      "outputs": [
        {
          "name": "stdout",
          "output_type": "stream",
          "text": [
            "[1048.16586178 2570.23020619  861.79964075 ... 1380.44160976 1881.79146259\n",
            " 2356.99110162]\n"
          ]
        }
      ],
      "source": [
        "model = LinearRegression()\n",
        "model.fit(X_train_poly,Y_train)\n",
        "\n",
        "# Step 3: Make predictions\n",
        "train_predictions = model.predict(X_train_poly)\n",
        "test_predictions = model.predict(X_test_poly)\n",
        "print(train_predictions)\n"
      ]
    },
    {
      "cell_type": "code",
      "execution_count": 37,
      "metadata": {
        "colab": {
          "base_uri": "https://localhost:8080/"
        },
        "id": "MsOxMf2fd6nd",
        "outputId": "718fbbe3-ac89-4b20-e82f-decc8b8912e5"
      },
      "outputs": [
        {
          "name": "stdout",
          "output_type": "stream",
          "text": [
            "Training R^2: 0.5951152725107212\n",
            "Training MSE: 148285.65945602092\n",
            "Testing R^2: 0.5448907977886867\n",
            "Testing MSE: 163923.57240973535\n"
          ]
        }
      ],
      "source": [
        "train_r2 = r2_score(Y_train, train_predictions)\n",
        "train_mse = metrics.mean_squared_error(Y_train, train_predictions)\n",
        "\n",
        "test_r2 = r2_score(Y_test, test_predictions)\n",
        "test_mse = metrics.mean_squared_error(Y_test, test_predictions)\n",
        "\n",
        "print(\"Training R^2:\", train_r2)\n",
        "print(\"Training MSE:\", train_mse)\n",
        "print(\"Testing R^2:\", test_r2)\n",
        "print(\"Testing MSE:\", test_mse)"
      ]
    },
    {
      "cell_type": "code",
      "execution_count": null,
      "metadata": {
        "colab": {
          "base_uri": "https://localhost:8080/"
        },
        "id": "QJrfnTFQOmkS",
        "outputId": "d96c589c-5833-4247-a53a-90fe2021cdcd"
      },
      "outputs": [],
      "source": []
    },
    {
      "cell_type": "code",
      "execution_count": 38,
      "metadata": {
        "colab": {
          "base_uri": "https://localhost:8080/"
        },
        "id": "quLKi1ZCezrk",
        "outputId": "1dfa0aa9-a6f1-46b1-9405-27cf0f9484a6"
      },
      "outputs": [
        {
          "name": "stdout",
          "output_type": "stream",
          "text": [
            "Training Mean Square Error: 251829.97965365704\n",
            "Testing Mean Square Error: 260766.7481547604\n",
            "r2train score: 0.31239397619604725\n",
            "r2test score: 0.2760202515638728\n"
          ]
        }
      ],
      "source": [
        "from sklearn.linear_model import LinearRegression\n",
        "from sklearn import metrics\n",
        "# Select features from training and testing data\n",
        "X_train_selected = X_train\n",
        "X_test_selected = X_test\n",
        "\n",
        "# Step 2: Train the model\n",
        "model = LinearRegression()\n",
        "model.fit(X_train_selected, Y_train)\n",
        "\n",
        "# Step 3: Make predictions\n",
        "y_train_predicted = model.predict(X_train_selected)\n",
        "y_pred = model.predict(X_test_selected)\n",
        "\n",
        "# Step 4: Evaluation\n",
        "train_mse = metrics.mean_squared_error(Y_train, y_train_predicted)\n",
        "test_mse = metrics.mean_squared_error(Y_test, y_pred)\n",
        "r2train = model.score(X_train_selected, Y_train)\n",
        "r2test = model.score(X_test_selected, Y_test)\n",
        "\n",
        "print('Training Mean Square Error:', train_mse)\n",
        "print('Testing Mean Square Error:', test_mse)\n",
        "print(\"r2train score:\", r2train)\n",
        "print(\"r2test score:\", r2test)\n"
      ]
    },
    {
      "cell_type": "code",
      "execution_count": 39,
      "metadata": {
        "colab": {
          "base_uri": "https://localhost:8080/"
        },
        "id": "Sjq173nAgd6N",
        "outputId": "860370f1-8bba-48fa-a7f7-3d2c79c1cd2c"
      },
      "outputs": [
        {
          "name": "stdout",
          "output_type": "stream",
          "text": [
            "Random Forest Training Mean Square Error: 15590.384221088349\n",
            "Random Forest Testing Mean Square Error: 100779.55796785421\n",
            "Random Forest r2train score: 0.9505557741175253\n",
            "Random Forest r2test score: 0.6499543899227569\n"
          ]
        }
      ],
      "source": [
        "from sklearn.ensemble import RandomForestRegressor\n",
        "\n",
        "# Step 2: Train the model\n",
        "rf_model = RandomForestRegressor(n_estimators=100, random_state=42)\n",
        "rf_model.fit(X_train_selected, Y_train)\n",
        "\n",
        "# Step 3: Make predictions\n",
        "rf_y_train_predicted = rf_model.predict(X_train_selected)\n",
        "rf_y_pred = rf_model.predict(X_test_selected)\n",
        "\n",
        "# Step 4: Evaluation\n",
        "rf_train_mse = metrics.mean_squared_error(Y_train, rf_y_train_predicted)\n",
        "rf_test_mse = metrics.mean_squared_error(Y_test, rf_y_pred)\n",
        "rf_r2train = r2_score(rf_y_train_predicted, Y_train)\n",
        "\n",
        "rf_r2test = r2_score(rf_y_pred, Y_test)\n",
        "\n",
        "print('Random Forest Training Mean Square Error:', rf_train_mse)\n",
        "print('Random Forest Testing Mean Square Error:', rf_test_mse)\n",
        "print(\"Random Forest r2train score:\", rf_r2train)\n",
        "print(\"Random Forest r2test score:\", rf_r2test)\n"
      ]
    },
    {
      "cell_type": "code",
      "execution_count": 40,
      "metadata": {
        "id": "GgSgOCB3a4q4"
      },
      "outputs": [],
      "source": [
        "with open('testScript.pkl', 'wb') as f:\n",
        "    pickle.dump(rf_model,f)\n",
        "    pickle.dump(ce, f)\n",
        "    pickle.dump(mam, f)\n",
        "    pickle.dump(city_KP, f)\n",
        "    pickle.dump(state_KP, f)\n",
        "    pickle.dump(photo_ohe, f)\n",
        "    pickle.dump(pets_ohe, f)\n",
        "    pickle.dump(scaler, f)\n",
        "    for lbl in lbls:\n",
        "      pickle.dump(lbl, f)"
      ]
    },
    {
      "cell_type": "code",
      "execution_count": 41,
      "metadata": {
        "id": "wFBhmD9ebPla"
      },
      "outputs": [],
      "source": [
        "loaded_lbls = []\n",
        "with open('testScript.pkl', 'rb') as f:\n",
        "    loaded_rf = pickle.load(f)\n",
        "    loaded_ce = pickle.load(f)\n",
        "    loaded_mam = pickle.load(f)\n",
        "    loaded_city_KP = pickle.load(f)\n",
        "    loaded_state_KP = pickle.load(f)\n",
        "    loaded_photo_ohe = pickle.load(f)\n",
        "    loaded_pets_ohe = pickle.load(f)\n",
        "    loaded_scaler = pickle.load(f)\n",
        "    for lbl in lbls:\n",
        "      loaded_lbls.append(pickle.load(f))\n"
      ]
    },
    {
      "cell_type": "code",
      "execution_count": 42,
      "metadata": {
        "id": "Cw3UQie2bubj"
      },
      "outputs": [],
      "source": [
        "data = pd.read_csv('ApartmentRentPrediction.csv')\n",
        "data['price_display'] = data['price_display'].str.replace(r'[^0-9]', '', regex=True)\n",
        "data['price_display'] = data['price_display'].astype(float)\n",
        "\n",
        "data.drop(columns=['price'], inplace=True)\n",
        "\n",
        "\n",
        "data['amenities'] = loaded_ce.transform(data['amenities'])\n",
        "\n",
        "\n",
        "data['latitude'] = loaded_mam.transform(data['latitude'])\n",
        "data['longitude'] = loaded_mam.transform(data['longitude'])\n",
        "\n",
        "data['cityname'] = loaded_city_KP.transform(data.loc[:, ['latitude', 'longitude']], data['cityname'])\n",
        "data['state'] = loaded_state_KP.transform(data.loc[:, ['latitude', 'longitude']], data['state'])\n",
        "\n",
        "loaded_pets_ohe.transform(data)\n",
        "\n",
        "loaded_photo_ohe.transform(data)\n",
        "data.drop(columns=['no_photo'],inplace = True)\n",
        "for col in data.columns:\n",
        "  data[col] = loaded_mam.transform(data[col])\n",
        "\n",
        "\n",
        "# data['bathrooms'] = loaded_mam.transform(data['bathrooms'])\n",
        "# data['bedrooms']  = loaded_mam.transform(data['bedrooms'])\n",
        "# data['address'] = loaded_mam.transform(data['address'])\n",
        "\n",
        "data['bathrooms'] = data['bathrooms'].astype(int)\n",
        "data['bedrooms'] = data['bedrooms'].astype(int)\n"
      ]
    },
    {
      "cell_type": "code",
      "execution_count": 43,
      "metadata": {
        "id": "aqbBSrSDbvTO"
      },
      "outputs": [
        {
          "name": "stdout",
          "output_type": "stream",
          "text": [
            "<class 'pandas.core.frame.DataFrame'>\n",
            "RangeIndex: 9000 entries, 0 to 8999\n",
            "Data columns (total 23 columns):\n",
            " #   Column           Non-Null Count  Dtype  \n",
            "---  ------           --------------  -----  \n",
            " 0   id               9000 non-null   int64  \n",
            " 1   category         9000 non-null   int32  \n",
            " 2   title            9000 non-null   int32  \n",
            " 3   body             9000 non-null   int32  \n",
            " 4   amenities        9000 non-null   int64  \n",
            " 5   bathrooms        9000 non-null   int32  \n",
            " 6   bedrooms         9000 non-null   int32  \n",
            " 7   currency         9000 non-null   int32  \n",
            " 8   fee              9000 non-null   int32  \n",
            " 9   yes_photo        9000 non-null   int32  \n",
            " 10  thumbnail_photo  9000 non-null   int32  \n",
            " 11  dogs_allowed     9000 non-null   int32  \n",
            " 12  cats_allowed     9000 non-null   int32  \n",
            " 13  price_display    9000 non-null   float64\n",
            " 14  price_type       9000 non-null   int32  \n",
            " 15  square_feet      9000 non-null   int64  \n",
            " 16  address          9000 non-null   int32  \n",
            " 17  cityname         9000 non-null   int32  \n",
            " 18  state            9000 non-null   int32  \n",
            " 19  latitude         9000 non-null   float64\n",
            " 20  longitude        9000 non-null   float64\n",
            " 21  source           9000 non-null   int32  \n",
            " 22  time             9000 non-null   int64  \n",
            "dtypes: float64(3), int32(16), int64(4)\n",
            "memory usage: 1.0 MB\n"
          ]
        }
      ],
      "source": [
        "cols=('category','title','body','cityname', 'state', 'source', 'address','fee','currency','price_type')\n",
        "for c in cols:\n",
        "  lbl = loaded_lbls.pop(0)\n",
        "  for idx, val in data[c].items():\n",
        "    if val not in lbl.classes_:\n",
        "      data.at[idx,c]= loaded_mam.special[c]\n",
        "  data[c] = lbl.transform(data[c])\n",
        "\n",
        "data.info()\n"
      ]
    },
    {
      "cell_type": "code",
      "execution_count": 44,
      "metadata": {
        "id": "AtHDJIeUb37v"
      },
      "outputs": [],
      "source": [
        "price_t = data['price_display']\n",
        "data.drop(columns=['price_display'], inplace = True)\n",
        "\n",
        "column_names = data.columns\n",
        "\n",
        "\n",
        "data_scaled = loaded_scaler.transform(data)\n",
        "\n",
        "data_scaled_df = pd.DataFrame(data_scaled, columns=column_names)\n",
        "\n",
        "data = data_scaled_df\n",
        "data['price_display'] = price_t.values"
      ]
    },
    {
      "cell_type": "code",
      "execution_count": 45,
      "metadata": {
        "colab": {
          "base_uri": "https://localhost:8080/"
        },
        "id": "jxjMrT3Yb68o",
        "outputId": "8d1bc85b-a8cc-48d9-ab12-e70f60b8d046"
      },
      "outputs": [
        {
          "name": "stdout",
          "output_type": "stream",
          "text": [
            "Random Forest data Mean Square Error: 640899.7600166629\n",
            "Random Forest r2test score: -1.067701354042892\n"
          ]
        }
      ],
      "source": [
        "y = data['price_display']\n",
        "x_rf = data[['bathrooms','bedrooms','square_feet','state','longitude']]\n",
        "\n",
        "\n",
        "y_pred = loaded_rf.predict(x_rf)\n",
        "\n",
        "\n",
        "data_mse = metrics.mean_squared_error(y, y_pred)\n",
        "r2 = r2_score(y_pred, y)\n",
        "\n",
        "print('Random Forest data Mean Square Error:', data_mse)\n",
        "print(\"Random Forest r2test score:\", r2)"
      ]
    },
    {
      "cell_type": "code",
      "execution_count": null,
      "metadata": {
        "id": "7qBUKHZxjz0q"
      },
      "outputs": [],
      "source": []
    }
  ],
  "metadata": {
    "colab": {
      "provenance": []
    },
    "kernelspec": {
      "display_name": "Python 3",
      "name": "python3"
    },
    "language_info": {
      "codemirror_mode": {
        "name": "ipython",
        "version": 3
      },
      "file_extension": ".py",
      "mimetype": "text/x-python",
      "name": "python",
      "nbconvert_exporter": "python",
      "pygments_lexer": "ipython3",
      "version": "3.12.0"
    }
  },
  "nbformat": 4,
  "nbformat_minor": 0
}
